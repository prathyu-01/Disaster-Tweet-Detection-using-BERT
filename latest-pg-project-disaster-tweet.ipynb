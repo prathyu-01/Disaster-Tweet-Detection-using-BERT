{
 "cells": [
  {
   "cell_type": "code",
   "execution_count": 1,
   "metadata": {
    "_cell_guid": "b1076dfc-b9ad-4769-8c92-a6c4dae69d19",
    "_uuid": "8f2839f25d086af736a60e9eeb907d3b93b6e0e5",
    "id": "qLF-McHR-gIn"
   },
   "outputs": [
    {
     "name": "stderr",
     "output_type": "stream",
     "text": [
      "C:\\ProgramData\\Anaconda3\\lib\\site-packages\\scipy\\__init__.py:146: UserWarning: A NumPy version >=1.16.5 and <1.23.0 is required for this version of SciPy (detected version 1.26.4\n",
      "  warnings.warn(f\"A NumPy version >={np_minversion} and <{np_maxversion}\"\n"
     ]
    }
   ],
   "source": [
    "import re\n",
    "import os\n",
    "import string\n",
    "import unicodedata\n",
    "\n",
    "import numpy as np\n",
    "import pandas as pd\n",
    "import seaborn as sns\n",
    "import matplotlib.pyplot as plt\n",
    "\n",
    "from nltk.stem.porter import PorterStemmer\n",
    "from nltk.corpus import words\n",
    "word_dict = words.words()\n",
    "stemmer = PorterStemmer()"
   ]
  },
  {
   "cell_type": "code",
   "execution_count": 2,
   "metadata": {
    "id": "RSTgXk0l-gIp"
   },
   "outputs": [],
   "source": [
    "import warnings\n",
    "\n",
    "def fxn():\n",
    "    warnings.warn(\"deprecated\", DeprecationWarning)\n",
    "\n",
    "with warnings.catch_warnings():\n",
    "    warnings.simplefilter(\"ignore\")\n",
    "    fxn()"
   ]
  },
  {
   "cell_type": "markdown",
   "metadata": {
    "id": "UqyPpvwM-gIp"
   },
   "source": [
    "# Read data"
   ]
  },
  {
   "cell_type": "code",
   "execution_count": 4,
   "metadata": {
    "id": "TCPbzKiE-gIq"
   },
   "outputs": [
    {
     "name": "stdout",
     "output_type": "stream",
     "text": [
      "Train dataset shape: (7613, 5)\n",
      "Test dataset shape: (3263, 4)\n"
     ]
    }
   ],
   "source": [
    "train_df = pd.read_csv(r'C:/Users/korra prathyusha/Downloads\\train.csv')\n",
    "test_df = pd.read_csv(r'C:/Users/korra prathyusha/Downloads\\test.csv')\n",
    "print('Train dataset shape:', train_df.shape)\n",
    "print('Test dataset shape:', test_df.shape)"
   ]
  },
  {
   "cell_type": "code",
   "execution_count": 5,
   "metadata": {
    "id": "HpFmoufe-gIq"
   },
   "outputs": [
    {
     "data": {
      "text/html": [
       "<div>\n",
       "<style scoped>\n",
       "    .dataframe tbody tr th:only-of-type {\n",
       "        vertical-align: middle;\n",
       "    }\n",
       "\n",
       "    .dataframe tbody tr th {\n",
       "        vertical-align: top;\n",
       "    }\n",
       "\n",
       "    .dataframe thead th {\n",
       "        text-align: right;\n",
       "    }\n",
       "</style>\n",
       "<table border=\"1\" class=\"dataframe\">\n",
       "  <thead>\n",
       "    <tr style=\"text-align: right;\">\n",
       "      <th></th>\n",
       "      <th>id</th>\n",
       "      <th>keyword</th>\n",
       "      <th>location</th>\n",
       "      <th>text</th>\n",
       "      <th>target</th>\n",
       "    </tr>\n",
       "  </thead>\n",
       "  <tbody>\n",
       "    <tr>\n",
       "      <th>0</th>\n",
       "      <td>1</td>\n",
       "      <td>NaN</td>\n",
       "      <td>NaN</td>\n",
       "      <td>Our Deeds are the Reason of this #earthquake M...</td>\n",
       "      <td>1</td>\n",
       "    </tr>\n",
       "    <tr>\n",
       "      <th>1</th>\n",
       "      <td>4</td>\n",
       "      <td>NaN</td>\n",
       "      <td>NaN</td>\n",
       "      <td>Forest fire near La Ronge Sask. Canada</td>\n",
       "      <td>1</td>\n",
       "    </tr>\n",
       "    <tr>\n",
       "      <th>2</th>\n",
       "      <td>5</td>\n",
       "      <td>NaN</td>\n",
       "      <td>NaN</td>\n",
       "      <td>All residents asked to 'shelter in place' are ...</td>\n",
       "      <td>1</td>\n",
       "    </tr>\n",
       "    <tr>\n",
       "      <th>3</th>\n",
       "      <td>6</td>\n",
       "      <td>NaN</td>\n",
       "      <td>NaN</td>\n",
       "      <td>13,000 people receive #wildfires evacuation or...</td>\n",
       "      <td>1</td>\n",
       "    </tr>\n",
       "    <tr>\n",
       "      <th>4</th>\n",
       "      <td>7</td>\n",
       "      <td>NaN</td>\n",
       "      <td>NaN</td>\n",
       "      <td>Just got sent this photo from Ruby #Alaska as ...</td>\n",
       "      <td>1</td>\n",
       "    </tr>\n",
       "  </tbody>\n",
       "</table>\n",
       "</div>"
      ],
      "text/plain": [
       "   id keyword location                                               text  \\\n",
       "0   1     NaN      NaN  Our Deeds are the Reason of this #earthquake M...   \n",
       "1   4     NaN      NaN             Forest fire near La Ronge Sask. Canada   \n",
       "2   5     NaN      NaN  All residents asked to 'shelter in place' are ...   \n",
       "3   6     NaN      NaN  13,000 people receive #wildfires evacuation or...   \n",
       "4   7     NaN      NaN  Just got sent this photo from Ruby #Alaska as ...   \n",
       "\n",
       "   target  \n",
       "0       1  \n",
       "1       1  \n",
       "2       1  \n",
       "3       1  \n",
       "4       1  "
      ]
     },
     "execution_count": 5,
     "metadata": {},
     "output_type": "execute_result"
    }
   ],
   "source": [
    "train_df.head()"
   ]
  },
  {
   "cell_type": "markdown",
   "metadata": {
    "id": "twb1ng_h-gIr"
   },
   "source": [
    "## Missing values"
   ]
  },
  {
   "cell_type": "code",
   "execution_count": 6,
   "metadata": {
    "id": "tJYXLl2K-gIr"
   },
   "outputs": [
    {
     "name": "stdout",
     "output_type": "stream",
     "text": [
      "Missing values in Training dataset\n",
      "id: 0.00%\n",
      "keyword: 0.80%\n",
      "location: 33.27%\n",
      "text: 0.00%\n",
      "target: 0.00%\n",
      "\n",
      "Missing values in Test dataset\n",
      "id: 0.00%\n",
      "keyword: 0.80%\n",
      "location: 33.86%\n",
      "text: 0.00%\n",
      "\n"
     ]
    }
   ],
   "source": [
    "def print_missing_values(df, name):\n",
    "    print(f'Missing values in { name}')\n",
    "    for col in df.columns:\n",
    "        col_missing = df[col].isna().sum()\n",
    "        print(f'{col}: {100*col_missing/len(df):.2f}%',)\n",
    "    print()\n",
    "print_missing_values(train_df, 'Training dataset')\n",
    "print_missing_values(test_df, 'Test dataset')"
   ]
  },
  {
   "cell_type": "code",
   "execution_count": 7,
   "metadata": {
    "id": "avzBBZEc-gIr"
   },
   "outputs": [],
   "source": [
    "# fill the word 'unk' to fill missing fields\n",
    "\n",
    "train_df = train_df.fillna('unk')\n",
    "test_df = test_df.fillna('unk')"
   ]
  },
  {
   "cell_type": "markdown",
   "metadata": {
    "id": "DtagCHzv-gIr"
   },
   "source": [
    "# Duplicate records in dataset"
   ]
  },
  {
   "cell_type": "code",
   "execution_count": 8,
   "metadata": {
    "id": "20IooiDP-gIr"
   },
   "outputs": [
    {
     "name": "stdout",
     "output_type": "stream",
     "text": [
      "There are 52 duplicated records in training dataset.\n",
      "There are 11 duplicated records in test dataset.\n"
     ]
    }
   ],
   "source": [
    "cols = ['text', 'target', 'keyword', 'location']\n",
    "dups_df = train_df[train_df.duplicated(subset = cols,)].sort_values(by = cols)\n",
    "print(f'There are {len(dups_df)} duplicated records in training dataset.')\n",
    "\n",
    "cols = ['text', 'keyword', 'location']\n",
    "dups_df = test_df[test_df.duplicated(subset = cols,)].sort_values(by = cols)\n",
    "print(f'There are {len(dups_df)} duplicated records in test dataset.')"
   ]
  },
  {
   "cell_type": "markdown",
   "metadata": {
    "id": "Jbi1WKgX-gIs"
   },
   "source": [
    "We should remove those duplicated records from training set."
   ]
  },
  {
   "cell_type": "code",
   "execution_count": 9,
   "metadata": {
    "id": "dirM5wAw-gIs"
   },
   "outputs": [],
   "source": [
    "cols = ['text', 'target', 'keyword', 'location']\n",
    "train_df = train_df.drop_duplicates(cols).reset_index(drop = True)"
   ]
  },
  {
   "cell_type": "markdown",
   "metadata": {
    "id": "sIWZioQZ-gIs"
   },
   "source": [
    "## Delete Duplicate tweet text"
   ]
  },
  {
   "cell_type": "code",
   "execution_count": 10,
   "metadata": {
    "id": "sDu9-VNm-gIs"
   },
   "outputs": [
    {
     "name": "stdout",
     "output_type": "stream",
     "text": [
      "There is 58 duplicated tweets in training dataset.\n",
      "\n"
     ]
    },
    {
     "data": {
      "text/html": [
       "<div>\n",
       "<style scoped>\n",
       "    .dataframe tbody tr th:only-of-type {\n",
       "        vertical-align: middle;\n",
       "    }\n",
       "\n",
       "    .dataframe tbody tr th {\n",
       "        vertical-align: top;\n",
       "    }\n",
       "\n",
       "    .dataframe thead th {\n",
       "        text-align: right;\n",
       "    }\n",
       "</style>\n",
       "<table border=\"1\" class=\"dataframe\">\n",
       "  <thead>\n",
       "    <tr style=\"text-align: right;\">\n",
       "      <th></th>\n",
       "      <th>text_dup_times</th>\n",
       "      <th>keyword</th>\n",
       "      <th>target</th>\n",
       "      <th>location</th>\n",
       "    </tr>\n",
       "  </thead>\n",
       "  <tbody>\n",
       "    <tr>\n",
       "      <th>0</th>\n",
       "      <td>1</td>\n",
       "      <td>40</td>\n",
       "      <td>40</td>\n",
       "      <td>40</td>\n",
       "    </tr>\n",
       "    <tr>\n",
       "      <th>1</th>\n",
       "      <td>2</td>\n",
       "      <td>7</td>\n",
       "      <td>11</td>\n",
       "      <td>14</td>\n",
       "    </tr>\n",
       "    <tr>\n",
       "      <th>2</th>\n",
       "      <td>4</td>\n",
       "      <td>1</td>\n",
       "      <td>1</td>\n",
       "      <td>4</td>\n",
       "    </tr>\n",
       "  </tbody>\n",
       "</table>\n",
       "</div>"
      ],
      "text/plain": [
       "   text_dup_times  keyword  target  location\n",
       "0               1       40      40        40\n",
       "1               2        7      11        14\n",
       "2               4        1       1         4"
      ]
     },
     "execution_count": 10,
     "metadata": {},
     "output_type": "execute_result"
    }
   ],
   "source": [
    "cols = ['text']\n",
    "dups_df = train_df[train_df.duplicated(subset = cols)].sort_values(by = cols)\n",
    "print(f'There is {len(dups_df)} duplicated tweets in training dataset.')\n",
    "print()\n",
    "dups_df = dups_df.groupby(cols).agg({\n",
    "    'id':'count',\n",
    "    'keyword': 'nunique',\n",
    "    'target': 'nunique',\n",
    "    'location': 'nunique',\n",
    "}).reset_index().rename(columns = {'id': 'text_dup_times'})\n",
    "\n",
    "dups_df.groupby('text_dup_times').agg({\n",
    "    'keyword': 'sum',\n",
    "    'target': 'sum',\n",
    "    'location': 'sum',\n",
    "}).reset_index()"
   ]
  },
  {
   "cell_type": "markdown",
   "metadata": {
    "id": "NbDMoysw-gIt"
   },
   "source": [
    "### **It looks to me that:**\n",
    "* When the same tweet is duplicated 4 time, it refers to disaster/not disaster with the same keyword in 4 locations (this can't be true). those duplicated tweets should be deleted\n",
    "* When the same tweet is duplicated 2 or 1 time, it was classified as disaster sometimes and sometimes as not a disastor. This is also noise in the data. We should delete those records but we should be careful about the label. We can elelmiate those duplicated tweets by voting on thier labels"
   ]
  },
  {
   "cell_type": "code",
   "execution_count": 11,
   "metadata": {
    "id": "knrGYyvv-gIt"
   },
   "outputs": [],
   "source": [
    "train_df = train_df.groupby(by = ['text']).agg({\n",
    "    'id': 'first',\n",
    "    'location': lambda x:x.value_counts().index[0],\n",
    "    'keyword':lambda x:x.value_counts().index[0],\n",
    "    'target': lambda x:x.value_counts().index[0],\n",
    "}).reset_index()"
   ]
  },
  {
   "cell_type": "markdown",
   "metadata": {
    "id": "d5tr3hYn-gIt"
   },
   "source": [
    "# Target Column"
   ]
  },
  {
   "cell_type": "code",
   "execution_count": 12,
   "metadata": {
    "id": "GnGbP2Ya-gIt"
   },
   "outputs": [
    {
     "data": {
      "image/png": "[encoded data removed]",
      "text/plain": [
       "<Figure size 360x360 with 1 Axes>"
      ]
     },
     "metadata": {
      "needs_background": "light"
     },
     "output_type": "display_data"
    }
   ],
   "source": [
    "sns.displot(x = 'target', hue = 'target', data = train_df, palette = ['green', 'red'], legend = False)\n",
    "plt.legend(['No disaster', 'disaster'])\n",
    "plt.show()"
   ]
  },
  {
   "cell_type": "markdown",
   "metadata": {
    "id": "-4uL7zqC-gIt"
   },
   "source": [
    "## Target distribution based on keyword"
   ]
  },
  {
   "cell_type": "code",
   "execution_count": 13,
   "metadata": {
    "id": "u2a7U4ft-gIu"
   },
   "outputs": [
    {
     "data": {
      "text/plain": [
       "<matplotlib.legend.Legend at 0x21147c633d0>"
      ]
     },
     "execution_count": 13,
     "metadata": {},
     "output_type": "execute_result"
    },
    {
     "data": {
      "image/png": "[encoded data removed]",
      "text/plain": [
       "<Figure size 1440x432 with 1 Axes>"
      ]
     },
     "metadata": {
      "needs_background": "light"
     },
     "output_type": "display_data"
    }
   ],
   "source": [
    "df = pd.pivot_table(train_df, index = ['keyword'], columns = ['target'], values = 'id', aggfunc = 'count', fill_value = 0 ).reset_index()\n",
    "df = df.sort_values(by = [0], ascending = False)\n",
    "plt.figure(figsize = (20, 6))\n",
    "sns.barplot(y = 0, x = 'keyword', data = df, color = \"g\", alpha = 0.6, label = 'Not Disaster')\n",
    "sns.barplot(y = 1, x = 'keyword', data = df, color = 'r', alpha = 0.6, label = 'Disaster')\n",
    "plt.title('Target distribution wrt. keyword')\n",
    "plt.xlabel('cleaned keyword : ckeyword')\n",
    "plt.ylabel('Counts')\n",
    "plt.xticks(rotation = 90, fontsize = 8)\n",
    "plt.legend()"
   ]
  },
  {
   "cell_type": "code",
   "execution_count": 14,
   "metadata": {
    "id": "nxKgUUH5-gIu"
   },
   "outputs": [
    {
     "data": {
      "text/plain": [
       "unk            56\n",
       "fatalities     45\n",
       "armageddon     42\n",
       "deluge         42\n",
       "harm           41\n",
       "body%20bags    41\n",
       "damage         41\n",
       "evacuate       40\n",
       "fear           40\n",
       "siren          40\n",
       "Name: keyword, dtype: int64"
      ]
     },
     "execution_count": 14,
     "metadata": {},
     "output_type": "execute_result"
    }
   ],
   "source": [
    "train_df['keyword'].value_counts()[0: 10]"
   ]
  },
  {
   "cell_type": "markdown",
   "metadata": {
    "id": "hPYOlOZy-gIu"
   },
   "source": [
    "## Target distribution based on Location"
   ]
  },
  {
   "cell_type": "code",
   "execution_count": 15,
   "metadata": {
    "id": "y9E6Ob7p-gIu"
   },
   "outputs": [
    {
     "data": {
      "image/png": "[encoded data removed]",
      "text/plain": [
       "<Figure size 1440x432 with 1 Axes>"
      ]
     },
     "metadata": {
      "needs_background": "light"
     },
     "output_type": "display_data"
    }
   ],
   "source": [
    "df = pd.pivot_table(train_df, index = 'location', columns = 'target', values = 'id', aggfunc = 'count', fill_value = 0).reset_index()\n",
    "df = df.sort_values(by = 0, ascending = False)\n",
    "lim = 50\n",
    "plt.figure(figsize = (20, 6))\n",
    "sns.barplot(x = 'location', y = 0, data = df.iloc[1:lim], color = 'g', alpha = 0.6, label = 'Not Disaster')\n",
    "sns.barplot(x = 'location', y = 1, data = df.iloc[1:lim], color = 'r', alpha = 0.6, label = 'Disaster')\n",
    "plt.xlabel('count')\n",
    "plt.title('Target distribution wrt. Location')\n",
    "plt.xticks(rotation = 60, fontsize = 8)\n",
    "plt.legend()\n",
    "plt.show()"
   ]
  },
  {
   "cell_type": "code",
   "execution_count": 16,
   "metadata": {
    "id": "LVqgWwPK-gIu"
   },
   "outputs": [
    {
     "data": {
      "text/plain": [
       "unk                2482\n",
       "USA                 104\n",
       "New York             71\n",
       "United States        50\n",
       "London               45\n",
       "Canada               29\n",
       "Los Angeles, CA      26\n",
       "UK                   26\n",
       "Nigeria              23\n",
       "India                21\n",
       "Washington, DC       21\n",
       "Kenya                20\n",
       "Mumbai               20\n",
       "Worldwide            19\n",
       "Australia            18\n",
       "Chicago, IL          18\n",
       "California           17\n",
       "New York, NY         15\n",
       "California, USA      15\n",
       "Everywhere           15\n",
       "Name: location, dtype: int64"
      ]
     },
     "execution_count": 16,
     "metadata": {},
     "output_type": "execute_result"
    }
   ],
   "source": [
    "# This is just to know that dataset contains various different locations & is diverse\n",
    "train_df['location'].value_counts()[0:20]"
   ]
  },
  {
   "cell_type": "markdown",
   "metadata": {
    "id": "fv-_OxCK-gIv"
   },
   "source": [
    "## Text Normalisation of tweets"
   ]
  },
  {
   "cell_type": "code",
   "execution_count": 17,
   "metadata": {
    "id": "lWJmk4rY-gIv"
   },
   "outputs": [],
   "source": [
    "# 'text' : inbuilt attribute of dataset\n",
    "# 'ctext' : tweet text after cleaning\n",
    "\n",
    "train_df['ctext'] = train_df['text'].copy()\n",
    "\n",
    "def clean_txt(txt):\n",
    "    # normalizing the text\n",
    "    res = unicodedata.normalize('NFKC', txt)\n",
    "    # remove non_printable characters\n",
    "    res = re.sub(r'[^\\x00-\\x7F]+', r'', res)\n",
    "    # remove retweet chars\n",
    "    res = re.sub(r'^RT[\\s]+', r'', res)\n",
    "    # remove stock market tiker\n",
    "    res = re.sub(r'\\$\\w*', r'', res)\n",
    "    # replalce less, greater, and chars\n",
    "    res = re.sub(r'&lt;', r'<', res)\n",
    "    res = re.sub(r'&gt;', r'>', res)\n",
    "    res = re.sub(r'&amp;?', r'and', res)\n",
    "    # remove html tags\n",
    "    res = re.sub(r'<[^>]*?>', r'', res)\n",
    "    # separate contected hashtags\n",
    "    res = re.sub(r'#', r' #', res)\n",
    "    res = re.sub(r'\\s#\\s', r' ', res)\n",
    "    return res\n",
    "\n",
    "train_df['ctext'] = train_df['ctext'].apply(clean_txt )"
   ]
  },
  {
   "cell_type": "markdown",
   "metadata": {
    "id": "qjNav3-a-gIv"
   },
   "source": [
    "### URL distribution visualisation"
   ]
  },
  {
   "cell_type": "code",
   "execution_count": 18,
   "metadata": {
    "id": "XvWRIQ1X-gIw"
   },
   "outputs": [
    {
     "data": {
      "image/png": "[encoded data removed]",
      "text/plain": [
       "<Figure size 360x360 with 1 Axes>"
      ]
     },
     "metadata": {
      "needs_background": "light"
     },
     "output_type": "display_data"
    }
   ],
   "source": [
    "regex = r'http\\S+|www\\.\\S+'\n",
    "sub_str = r' website '\n",
    "def apply_regex(txt, regex, sub_str):\n",
    "    matches = re.findall(regex, txt)\n",
    "    if matches:\n",
    "        ctxt = re.sub(regex, sub_str, txt)\n",
    "        return ctxt, len(matches)\n",
    "    else:\n",
    "        return txt, 0\n",
    "res = train_df['ctext'].apply(apply_regex, args = [regex, sub_str],)\n",
    "train_df['ctext'] = res.apply(lambda t:t[0])\n",
    "train_df['url'] = res.apply(lambda t:t[1])\n",
    "sns.displot(x = 'url', hue = 'target', data = train_df, palette = ['g', 'r'], kind = 'hist', legend = False)\n",
    "plt.legend(['No Disaster', 'Disaster'])\n",
    "plt.title('Target distribution wrt. number of urls in the tweet')\n",
    "plt.show()\n",
    "#print(train_df)"
   ]
  },
  {
   "cell_type": "markdown",
   "metadata": {
    "id": "-bfCgsrV-gIw"
   },
   "source": [
    "### Analysis of effect of having url in the tweet\n",
    "* When people share no urls in the tweet, it is more likely to be not about a disastor\n",
    "* When people share one url in the tweet, it is more likely to be about a disaster\n"
   ]
  },
  {
   "cell_type": "markdown",
   "metadata": {
    "id": "FMUlMGOw-gIw"
   },
   "source": [
    "### Hash tags and mentions"
   ]
  },
  {
   "cell_type": "code",
   "execution_count": 19,
   "metadata": {
    "id": "owpZckfZ-gIw"
   },
   "outputs": [
    {
     "data": {
      "image/png": "[encoded data removed]",
      "text/plain": [
       "<Figure size 360x360 with 1 Axes>"
      ]
     },
     "metadata": {
      "needs_background": "light"
     },
     "output_type": "display_data"
    }
   ],
   "source": [
    "def validate_hashtag(hashtags):\n",
    "    res = []\n",
    "    for hashtag in hashtags:\n",
    "        valid = re.findall(r'[a-zA-Z]+', hashtag)\n",
    "        if valid:\n",
    "            res.append(re.sub(r'[^\\w]*', r'', hashtag).lower())\n",
    "        else:\n",
    "            res.append('unk')\n",
    "    return res\n",
    "\n",
    "def extract_hashtags(txt):\n",
    "    regex = r'#+\\s*\\S+'\n",
    "    hash_tag_matches = re.findall(regex, txt)\n",
    "    if hash_tag_matches:\n",
    "        ctxt = re.sub(r'#+\\s*(?P<hash>\\S+)', r'\\g<hash>', txt)\n",
    "        validated_hash = list(set(validate_hashtag(hash_tag_matches)))\n",
    "        return ctxt, len(validated_hash), validated_hash\n",
    "    else:\n",
    "        return txt, 0, ['none']\n",
    "\n",
    "res = train_df['ctext'].apply(extract_hashtags)\n",
    "train_df['ctext'] = res.apply(lambda t:t[0])\n",
    "train_df['hashtag_num'] = res.apply(lambda t:t[1])\n",
    "train_df['hashtags'] = res.apply(lambda t:t[2])\n",
    "sns.displot(x = 'hashtag_num', hue = 'target', data = train_df, palette = ['g', 'r'], kind = 'hist', legend = False)\n",
    "plt.legend(['No Disaster', 'Disaster'])\n",
    "plt.title('Target distribution wrt. number of hashtags in the tweet')\n",
    "plt.show()\n",
    "#print(train_df)"
   ]
  },
  {
   "cell_type": "markdown",
   "metadata": {
    "id": "8kLw4oY6-gIw"
   },
   "source": [
    "## How many words do exist in the dictionary"
   ]
  },
  {
   "cell_type": "code",
   "execution_count": 20,
   "metadata": {
    "id": "CSKdmpgE-gIx"
   },
   "outputs": [
    {
     "name": "stdout",
     "output_type": "stream",
     "text": [
      "Tweets contain unknown words: 71.64%\n"
     ]
    }
   ],
   "source": [
    "#print(train_df['ctext'].to_string())\n",
    "txt = ' '.join(train_df.ctext.values)\n",
    "txt = re.sub(r'[%s]' % re.escape(string.punctuation), r' ', txt)\n",
    "txt = re.sub(r'\\s+', r' ', txt)\n",
    "tokens = set(txt.split())\n",
    "word_dict = set(word_dict)\n",
    "not_word_tokens = tokens - tokens.intersection(word_dict)\n",
    "\n",
    "print(f'Tweets contain unknown words: {100 * len(not_word_tokens) / len(tokens):.2f}%')"
   ]
  },
  {
   "cell_type": "code",
   "execution_count": 21,
   "metadata": {
    "id": "RnIaWIzB-gIy"
   },
   "outputs": [
    {
     "name": "stdout",
     "output_type": "stream",
     "text": [
      "After stemming! Tweets contain unknown words: 69.58%\n"
     ]
    }
   ],
   "source": [
    "tokens = set([stemmer.stem(w) for w in txt.split()])\n",
    "word_dict = set(word_dict)\n",
    "not_word_tokens = tokens - tokens.intersection(word_dict)\n",
    "\n",
    "print(f'After stemming! Tweets contain unknown words: {100 * len(not_word_tokens) / len(tokens):.2f}%')"
   ]
  },
  {
   "cell_type": "code",
   "execution_count": 22,
   "metadata": {
    "id": "MKzgf9BF-gIz"
   },
   "outputs": [
    {
     "data": {
      "text/plain": [
       "['postapocalypticflimflam',\n",
       " '1916',\n",
       " 'sentenc',\n",
       " 'bluedio',\n",
       " 'natali',\n",
       " 'goz',\n",
       " 'dani',\n",
       " 'emily4everev',\n",
       " 'kororinpa',\n",
       " 'episcop',\n",
       " 'tallest',\n",
       " 'reid',\n",
       " 'kamayani',\n",
       " 'epl',\n",
       " 'rubberi']"
      ]
     },
     "execution_count": 22,
     "metadata": {},
     "output_type": "execute_result"
    }
   ],
   "source": [
    "list(not_word_tokens)[:15]"
   ]
  },
  {
   "cell_type": "markdown",
   "metadata": {
    "id": "jfLiyU-t-gI0"
   },
   "source": [
    "Unknown word exists due to:\n",
    "* stemming errors\n",
    "* name of places\n",
    "* name of persons\n",
    "* mis-spelling\n",
    "* concatenated words\n",
    "* abbreviations"
   ]
  },
  {
   "cell_type": "markdown",
   "metadata": {
    "id": "tN24E8J2-gI1"
   },
   "source": [
    "## DISASTER TWEETS CLEANING"
   ]
  },
  {
   "cell_type": "code",
   "execution_count": 23,
   "metadata": {
    "id": "Jw7WXQ_q-gI1"
   },
   "outputs": [
    {
     "name": "stdout",
     "output_type": "stream",
     "text": [
      "Defaulting to user installation because normal site-packages is not writeable"
     ]
    },
    {
     "name": "stderr",
     "output_type": "stream",
     "text": [
      "WARNING: Ignoring invalid distribution -rotobuf (c:\\users\\korra prathyusha\\appdata\\roaming\\python\\python39\\site-packages)\n",
      "WARNING: Ignoring invalid distribution -rotobuf (c:\\users\\korra prathyusha\\appdata\\roaming\\python\\python39\\site-packages)\n",
      "WARNING: Ignoring invalid distribution -rotobuf (c:\\users\\korra prathyusha\\appdata\\roaming\\python\\python39\\site-packages)\n",
      "WARNING: Ignoring invalid distribution -rotobuf (c:\\users\\korra prathyusha\\appdata\\roaming\\python\\python39\\site-packages)\n",
      "WARNING: Ignoring invalid distribution -rotobuf (c:\\users\\korra prathyusha\\appdata\\roaming\\python\\python39\\site-packages)\n",
      "WARNING: Ignoring invalid distribution -rotobuf (c:\\users\\korra prathyusha\\appdata\\roaming\\python\\python39\\site-packages)\n"
     ]
    },
    {
     "name": "stdout",
     "output_type": "stream",
     "text": [
      "\n",
      "Requirement already satisfied: beautifulsoup4 in c:\\programdata\\anaconda3\\lib\\site-packages (4.11.1)\n",
      "Requirement already satisfied: soupsieve>1.2 in c:\\programdata\\anaconda3\\lib\\site-packages (from beautifulsoup4) (2.3.1)\n",
      "Defaulting to user installation because normal site-packages is not writeable\n",
      "Requirement already satisfied: ekphrasis in c:\\users\\korra prathyusha\\appdata\\roaming\\python\\python39\\site-packages (0.5.4)\n",
      "Requirement already satisfied: matplotlib in c:\\programdata\\anaconda3\\lib\\site-packages (from ekphrasis) (3.5.1)\n",
      "Requirement already satisfied: tqdm in c:\\programdata\\anaconda3\\lib\\site-packages (from ekphrasis) (4.64.0)\n",
      "Requirement already satisfied: ftfy in c:\\users\\korra prathyusha\\appdata\\roaming\\python\\python39\\site-packages (from ekphrasis) (6.1.3)\n",
      "Requirement already satisfied: nltk in c:\\users\\korra prathyusha\\appdata\\roaming\\python\\python39\\site-packages (from ekphrasis) (3.8.1)\n",
      "Requirement already satisfied: colorama in c:\\users\\korra prathyusha\\appdata\\roaming\\python\\python39\\site-packages (from ekphrasis) (0.4.6)\n",
      "Requirement already satisfied: termcolor in c:\\users\\korra prathyusha\\appdata\\roaming\\python\\python39\\site-packages (from ekphrasis) (2.3.0)\n",
      "Requirement already satisfied: numpy in c:\\users\\korra prathyusha\\appdata\\roaming\\python\\python39\\site-packages (from ekphrasis) (1.26.4)\n",
      "Requirement already satisfied: ujson in c:\\programdata\\anaconda3\\lib\\site-packages (from ekphrasis) (5.1.0)\n",
      "Requirement already satisfied: wcwidth<0.3.0,>=0.2.12 in c:\\users\\korra prathyusha\\appdata\\roaming\\python\\python39\\site-packages (from ftfy->ekphrasis) (0.2.12)\n",
      "Requirement already satisfied: packaging>=20.0 in c:\\programdata\\anaconda3\\lib\\site-packages (from matplotlib->ekphrasis) (21.3)\n",
      "Requirement already satisfied: cycler>=0.10 in c:\\programdata\\anaconda3\\lib\\site-packages (from matplotlib->ekphrasis) (0.11.0)\n",
      "Requirement already satisfied: kiwisolver>=1.0.1 in c:\\programdata\\anaconda3\\lib\\site-packages (from matplotlib->ekphrasis) (1.3.2)\n",
      "Requirement already satisfied: fonttools>=4.22.0 in c:\\programdata\\anaconda3\\lib\\site-packages (from matplotlib->ekphrasis) (4.25.0)\n",
      "Requirement already satisfied: python-dateutil>=2.7 in c:\\programdata\\anaconda3\\lib\\site-packages (from matplotlib->ekphrasis) (2.8.2)\n",
      "Requirement already satisfied: pyparsing>=2.2.1 in c:\\programdata\\anaconda3\\lib\\site-packages (from matplotlib->ekphrasis) (3.0.4)\n",
      "Requirement already satisfied: pillow>=6.2.0 in c:\\programdata\\anaconda3\\lib\\site-packages (from matplotlib->ekphrasis) (9.0.1)\n",
      "Requirement already satisfied: six>=1.5 in c:\\programdata\\anaconda3\\lib\\site-packages (from python-dateutil>=2.7->matplotlib->ekphrasis) (1.16.0)\n",
      "Requirement already satisfied: joblib in c:\\programdata\\anaconda3\\lib\\site-packages (from nltk->ekphrasis) (1.1.0)\n",
      "Requirement already satisfied: click in c:\\programdata\\anaconda3\\lib\\site-packages (from nltk->ekphrasis) (8.0.4)\n",
      "Requirement already satisfied: regex>=2021.8.3 in c:\\programdata\\anaconda3\\lib\\site-packages (from nltk->ekphrasis) (2022.3.15)\n"
     ]
    },
    {
     "name": "stderr",
     "output_type": "stream",
     "text": [
      "WARNING: Ignoring invalid distribution -rotobuf (c:\\users\\korra prathyusha\\appdata\\roaming\\python\\python39\\site-packages)\n",
      "WARNING: Ignoring invalid distribution -rotobuf (c:\\users\\korra prathyusha\\appdata\\roaming\\python\\python39\\site-packages)\n",
      "WARNING: Ignoring invalid distribution -rotobuf (c:\\users\\korra prathyusha\\appdata\\roaming\\python\\python39\\site-packages)\n",
      "WARNING: Ignoring invalid distribution -rotobuf (c:\\users\\korra prathyusha\\appdata\\roaming\\python\\python39\\site-packages)\n",
      "WARNING: Ignoring invalid distribution -rotobuf (c:\\users\\korra prathyusha\\appdata\\roaming\\python\\python39\\site-packages)\n",
      "WARNING: Ignoring invalid distribution -rotobuf (c:\\users\\korra prathyusha\\appdata\\roaming\\python\\python39\\site-packages)\n"
     ]
    }
   ],
   "source": [
    "!pip install beautifulsoup4\n",
    "!pip install ekphrasis"
   ]
  },
  {
   "cell_type": "markdown",
   "metadata": {
    "id": "CroWe3rl-gI1"
   },
   "source": [
    "## Import Libs"
   ]
  },
  {
   "cell_type": "code",
   "execution_count": 24,
   "metadata": {
    "id": "8ILTuNQP-gI1"
   },
   "outputs": [],
   "source": [
    "import requests, json\n",
    "import string\n",
    "import re\n",
    "from itertools import chain\n",
    "\n",
    "import numpy as np\n",
    "import pandas as pd\n",
    "\n",
    "from bs4 import BeautifulSoup\n",
    "\n",
    "from ekphrasis.classes.preprocessor import TextPreProcessor\n",
    "from ekphrasis.classes.tokenizer import SocialTokenizer\n",
    "from ekphrasis.dicts.emoticons import emoticons\n",
    "from ekphrasis.dicts.noslang.slangdict import slangdict\n",
    "\n",
    "from nltk.corpus import words\n",
    "from nltk.corpus import stopwords\n",
    "import spacy\n",
    "\n",
    "nlp = spacy.load(\"en_core_web_sm\")\n",
    "en_words = words.words()\n",
    "st_words = stopwords.words()"
   ]
  },
  {
   "cell_type": "markdown",
   "metadata": {
    "id": "fX_B1qvx-gI1"
   },
   "source": [
    "## Read data"
   ]
  },
  {
   "cell_type": "code",
   "execution_count": 26,
   "metadata": {
    "id": "GVD48Qrn-gI2"
   },
   "outputs": [
    {
     "name": "stdout",
     "output_type": "stream",
     "text": [
      "(7503, 9) (3263, 5)\n"
     ]
    }
   ],
   "source": [
    "# training data : 'df' and testing data : 'test_df'\n",
    "\n",
    "#df = pd.read_csv('/kaggle/input/nlp-getting-started/train.csv')\n",
    "df = train_df\n",
    "#test_df = pd.read_csv('/kaggle/input/nlp-getting-started/test.csv')\n",
    "df_leak = pd.read_csv(r'C:/Users/korra prathyusha/Downloads\\socialmedia-disaster-tweets-DFE.csv',  encoding ='ISO-8859-1')\n",
    "df_leak['target'] = (df_leak['choose_one'] == 'Relevant').astype(np.int8)\n",
    "df_leak['id'] = df_leak.index.astype(np.int16)\n",
    "df_leak = df_leak[['target', 'id']]\n",
    "test_df = test_df.merge(df_leak, on=['id'], how='left')\n",
    "\n",
    "print(df.shape, test_df.shape)"
   ]
  },
  {
   "cell_type": "markdown",
   "metadata": {
    "id": "qvDsiyzq-gI2"
   },
   "source": [
    "## Util Functions\n"
   ]
  },
  {
   "cell_type": "code",
   "execution_count": 27,
   "metadata": {
    "id": "83d2TSNl-gI2"
   },
   "outputs": [],
   "source": [
    "def get_unk_words(txts):\n",
    "    txt = ' '.join(txts)\n",
    "    doc = nlp(txt)\n",
    "    tokens = set([tok.lemma_ for tok in doc])\n",
    "\n",
    "    word_dict = set([tok.lower() for tok in en_words])\n",
    "    not_word_tokens = tokens - tokens.intersection(word_dict)\n",
    "    print('Vocabs size', len(tokens))\n",
    "    print('Unknown vocabs size', len(not_word_tokens))\n",
    "    print(f'Tweets contain unknown words: {100 * len(not_word_tokens) / len(tokens):.2f}%')\n",
    "    return not_word_tokens"
   ]
  },
  {
   "cell_type": "markdown",
   "metadata": {
    "id": "-e4jVdsr-gI3"
   },
   "source": [
    "## Chat Abbreviations"
   ]
  },
  {
   "cell_type": "code",
   "execution_count": 28,
   "metadata": {
    "id": "yNuU5d6--gI3"
   },
   "outputs": [
    {
     "name": "stdout",
     "output_type": "stream",
     "text": [
      "('*4u', 'Kiss for you')\n",
      "('*67', 'unknown')\n",
      "('*eg*', 'evil grin')\n",
      "('07734', 'hello')\n",
      "('0day', 'software illegally obtained before it was released')\n",
      "('0noe', 'Oh No')\n",
      "('0vr', 'over')\n",
      "('10q', 'thank you')\n",
      "('10tacle', 'tentacle')\n",
      "('10x', 'thanks')\n",
      "\n",
      "Slang Words Count: 5429\n",
      "\n",
      "I want to go aamof home\n",
      "I want to go as a matter of fact home\n"
     ]
    }
   ],
   "source": [
    "pairs =  list(slangdict.items())\n",
    "for i in range(10):\n",
    "    print(pairs[i])\n",
    "\n",
    "uncased_slang_dict = {}\n",
    "for key, value in slangdict.items():\n",
    "    value = re.sub(r'it means', '', value)\n",
    "    value = re.sub(r'\\*\\*\\*', 'uck', value)\n",
    "    value = re.sub(r'\\*\\*', 'it', value)\n",
    "    value = re.sub(r'it refers to', '', value)\n",
    "    uncased_slang_dict[key.lower()] = value.lower()\n",
    "\n",
    "print()\n",
    "print('Slang Words Count:', len(uncased_slang_dict))\n",
    "print()\n",
    "\n",
    "replacement_patterns = [\n",
    "    (r'won\\'t', 'will not'),\n",
    "    (r'can\\'t', 'cannot'),\n",
    "    (r'i\\'m', 'i am'),\n",
    "    (r'I\\'m', 'I am'),\n",
    "    (r'ain\\'t', 'is not'),\n",
    "    (r'(\\w+)\\'ll', '\\g<1> will'),\n",
    "    (r'(\\w+)n\\'t', '\\g<1> not'),\n",
    "    (r'(\\w+)\\'ve', '\\g<1> have'),\n",
    "    (r'(\\w+)\\'s', '\\g<1> is'),\n",
    "    (r'(\\w+)\\'re', '\\g<1> are'),\n",
    "    (r'(\\w+)\\'d', '\\g<1> would'),\n",
    "]\n",
    "\n",
    "abbr = {\n",
    "    \"$\" : \" dollar \",\n",
    "    \"€\" : \" euro \",\n",
    "    \"4ao\" : \"for adults only\",\n",
    "    \"a.m\" : \"before midday\",\n",
    "    \"a3\" : \"anytime anywhere anyplace\",\n",
    "    \"aamof\" : \"as a matter of fact\",\n",
    "    \"acct\" : \"account\",\n",
    "    \"adih\" : \"another day in hell\",\n",
    "    \"afaic\" : \"as far as i am concerned\",\n",
    "    \"afaict\" : \"as far as i can tell\",\n",
    "    \"afaik\" : \"as far as i know\",\n",
    "    \"afair\" : \"as far as i remember\",\n",
    "    \"afk\" : \"away from keyboard\",\n",
    "    \"app\" : \"application\",\n",
    "    \"approx\" : \"approximately\",\n",
    "    \"apps\" : \"applications\",\n",
    "    \"asap\" : \"as soon as possible\",\n",
    "    \"asl\" : \"age, sex, location\",\n",
    "    \"atk\" : \"at the keyboard\",\n",
    "    \"ave.\" : \"avenue\",\n",
    "    \"aymm\" : \"are you my mother\",\n",
    "    \"ayor\" : \"at your own risk\", \n",
    "    \"b&b\" : \"bed and breakfast\",\n",
    "    \"b+b\" : \"bed and breakfast\",\n",
    "    \"b.c\" : \"before christ\",\n",
    "    \"b2b\" : \"business to business\",\n",
    "    \"b2c\" : \"business to customer\",\n",
    "    \"b4\" : \"before\",\n",
    "    \"b4n\" : \"bye for now\",\n",
    "    \"b@u\" : \"back at you\",\n",
    "    \"bae\" : \"before anyone else\",\n",
    "    \"bak\" : \"back at keyboard\",\n",
    "    \"bbbg\" : \"bye bye be good\",\n",
    "    \"bbc\" : \"british broadcasting corporation\",\n",
    "    \"bbias\" : \"be back in a second\",\n",
    "    \"bbl\" : \"be back later\",\n",
    "    \"bbs\" : \"be back soon\",\n",
    "    \"be4\" : \"before\",\n",
    "    \"bfn\" : \"bye for now\",\n",
    "    \"blvd\" : \"boulevard\",\n",
    "    \"bout\" : \"about\",\n",
    "    \"brb\" : \"be right back\",\n",
    "    \"bros\" : \"brothers\",\n",
    "    \"brt\" : \"be right there\",\n",
    "    \"bsaaw\" : \"big smile and a wink\",\n",
    "    \"btw\" : \"by the way\",\n",
    "    \"bwl\" : \"bursting with laughter\",\n",
    "    \"c/o\" : \"care of\",\n",
    "    \"cet\" : \"central european time\",\n",
    "    \"cf\" : \"compare\",\n",
    "    \"cia\" : \"central intelligence agency\",\n",
    "    \"csl\" : \"can not stop laughing\",\n",
    "    \"cu\" : \"see you\",\n",
    "    \"cul8r\" : \"see you later\",\n",
    "    \"cv\" : \"curriculum vitae\",\n",
    "    \"cwot\" : \"complete waste of time\",\n",
    "    \"cya\" : \"see you\",\n",
    "    \"cyt\" : \"see you tomorrow\",\n",
    "    \"dae\" : \"does anyone else\",\n",
    "    \"dbmib\" : \"do not bother me i am busy\",\n",
    "    \"diy\" : \"do it yourself\",\n",
    "    \"dm\" : \"direct message\",\n",
    "    \"dwh\" : \"during work hours\",\n",
    "    \"e123\" : \"easy as one two three\",\n",
    "    \"eet\" : \"eastern european time\",\n",
    "    \"eg\" : \"example\",\n",
    "    \"embm\" : \"early morning business meeting\",\n",
    "    \"encl\" : \"enclosed\",\n",
    "    \"encl.\" : \"enclosed\",\n",
    "    \"etc\" : \"and so on\",\n",
    "    \"faq\" : \"frequently asked questions\",\n",
    "    \"fawc\" : \"for anyone who cares\",\n",
    "    \"fb\" : \"facebook\",\n",
    "    \"fc\" : \"fingers crossed\",\n",
    "    \"fig\" : \"figure\",\n",
    "    \"fimh\" : \"forever in my heart\", \n",
    "    \"ft.\" : \"feet\",\n",
    "    \"ft\" : \"featuring\",\n",
    "    \"ftl\" : \"for the loss\",\n",
    "    \"ftw\" : \"for the win\",\n",
    "    \"fwiw\" : \"for what it is worth\",\n",
    "    \"fyi\" : \"for your information\",\n",
    "    \"g9\" : \"genius\",\n",
    "    \"gahoy\" : \"get a hold of yourself\",\n",
    "    \"gal\" : \"get a life\",\n",
    "    \"gcse\" : \"general certificate of secondary education\",\n",
    "    \"gfn\" : \"gone for now\",\n",
    "    \"gg\" : \"good game\",\n",
    "    \"gl\" : \"good luck\",\n",
    "    \"glhf\" : \"good luck have fun\",\n",
    "    \"gmt\" : \"greenwich mean time\",\n",
    "    \"gmta\" : \"great minds think alike\",\n",
    "    \"gn\" : \"good night\",\n",
    "    \"g.o.a.t\" : \"greatest of all time\",\n",
    "    \"goat\" : \"greatest of all time\",\n",
    "    \"goi\" : \"get over it\",\n",
    "    \"gps\" : \"global positioning system\",\n",
    "    \"gr8\" : \"great\",\n",
    "    \"gratz\" : \"congratulations\",\n",
    "    \"gyal\" : \"girl\",\n",
    "    \"h&c\" : \"hot and cold\",\n",
    "    \"hp\" : \"horsepower\",\n",
    "    \"hr\" : \"hour\",\n",
    "    \"hrh\" : \"his royal highness\",\n",
    "    \"ht\" : \"height\",\n",
    "    \"ibrb\" : \"i will be right back\",\n",
    "    \"ic\" : \"i see\",\n",
    "    \"icq\" : \"i seek you\",\n",
    "    \"icymi\" : \"in case you missed it\",\n",
    "    \"idc\" : \"i do not care\",\n",
    "    \"idgadf\" : \"i do not give a damn fuck\",\n",
    "    \"idgaf\" : \"i do not give a fuck\",\n",
    "    \"idk\" : \"i do not know\",\n",
    "    \"ie\" : \"that is\",\n",
    "    \"i.e\" : \"that is\",\n",
    "    \"ifyp\" : \"i feel your pain\",\n",
    "    \"IG\" : \"instagram\",\n",
    "    \"iirc\" : \"if i remember correctly\",\n",
    "    \"ilu\" : \"i love you\",\n",
    "    \"ily\" : \"i love you\",\n",
    "    \"imho\" : \"in my humble opinion\",\n",
    "    \"imo\" : \"in my opinion\",\n",
    "    \"imu\" : \"i miss you\",\n",
    "    \"iow\" : \"in other words\",\n",
    "    \"irl\" : \"in real life\",\n",
    "    \"j4f\" : \"just for fun\",\n",
    "    \"jic\" : \"just in case\",\n",
    "    \"jk\" : \"just kidding\",\n",
    "    \"jsyk\" : \"just so you know\",\n",
    "    \"l8r\" : \"later\",\n",
    "    \"lb\" : \"pound\",\n",
    "    \"lbs\" : \"pounds\",\n",
    "    \"ldr\" : \"long distance relationship\",\n",
    "    \"lmao\" : \"laugh my ass off\",\n",
    "    \"lmfao\" : \"laugh my fucking ass off\",\n",
    "    \"lol\" : \"laughing out loud\",\n",
    "    \"ltd\" : \"limited\",\n",
    "    \"ltns\" : \"long time no see\",\n",
    "    \"m8\" : \"mate\",\n",
    "    \"mf\" : \"motherfucker\",\n",
    "    \"mfs\" : \"motherfuckers\",\n",
    "    \"mfw\" : \"my face when\",\n",
    "    \"mofo\" : \"motherfucker\",\n",
    "    \"mph\" : \"miles per hour\",\n",
    "    \"mr\" : \"mister\",\n",
    "    \"mrw\" : \"my reaction when\",\n",
    "    \"ms\" : \"miss\",\n",
    "    \"mte\" : \"my thoughts exactly\",\n",
    "    \"nagi\" : \"not a good idea\",\n",
    "    \"nbc\" : \"national broadcasting company\",\n",
    "    \"nbd\" : \"not big deal\",\n",
    "    \"nfs\" : \"not for sale\",\n",
    "    \"ngl\" : \"not going to lie\",\n",
    "    \"nhs\" : \"national health service\",\n",
    "    \"nrn\" : \"no reply necessary\",\n",
    "    \"nsfl\" : \"not safe for life\",\n",
    "    \"nsfw\" : \"not safe for work\",\n",
    "    \"nth\" : \"nice to have\",\n",
    "    \"nvr\" : \"never\",\n",
    "    \"nyc\" : \"new york city\",\n",
    "    \"oc\" : \"original content\",\n",
    "    \"og\" : \"original\",\n",
    "    \"ohp\" : \"overhead projector\",\n",
    "    \"oic\" : \"oh i see\",\n",
    "    \"omdb\" : \"over my dead body\",\n",
    "    \"omg\" : \"oh my god\",\n",
    "    \"omw\" : \"on my way\",\n",
    "    \"p.a\" : \"per annum\",\n",
    "    \"p.m\" : \"after midday\",\n",
    "    \"pm\" : \"prime minister\",\n",
    "    \"poc\" : \"people of color\",\n",
    "    \"pov\" : \"point of view\",\n",
    "    \"pp\" : \"pages\",\n",
    "    \"ppl\" : \"people\",\n",
    "    \"prw\" : \"parents are watching\",\n",
    "    \"ps\" : \"postscript\",\n",
    "    \"pt\" : \"point\",\n",
    "    \"ptb\" : \"please text back\",\n",
    "    \"pto\" : \"please turn over\",\n",
    "    \"qpsa\" : \"what happens\", #\"que pasa\",\n",
    "    \"ratchet\" : \"rude\",\n",
    "    \"rbtl\" : \"read between the lines\",\n",
    "    \"rlrt\" : \"real life retweet\", \n",
    "    \"rofl\" : \"rolling on the floor laughing\",\n",
    "    \"roflol\" : \"rolling on the floor laughing out loud\",\n",
    "    \"rotflmao\" : \"rolling on the floor laughing my ass off\",\n",
    "    \"rt\" : \"retweet\",\n",
    "    \"ruok\" : \"are you ok\",\n",
    "    \"sfw\" : \"safe for work\",\n",
    "    \"sk8\" : \"skate\",\n",
    "    \"smh\" : \"shake my head\",\n",
    "    \"sq\" : \"square\",\n",
    "    \"srsly\" : \"seriously\", \n",
    "    \"ssdd\" : \"same stuff different day\",\n",
    "    \"tbh\" : \"to be honest\",\n",
    "    \"tbs\" : \"tablespooful\",\n",
    "    \"tbsp\" : \"tablespooful\",\n",
    "    \"tfw\" : \"that feeling when\",\n",
    "    \"thks\" : \"thank you\",\n",
    "    \"tho\" : \"though\",\n",
    "    \"thx\" : \"thank you\",\n",
    "    \"tia\" : \"thanks in advance\",\n",
    "    \"til\" : \"today i learned\",\n",
    "    \"tl;dr\" : \"too long i did not read\",\n",
    "    \"tldr\" : \"too long i did not read\",\n",
    "    \"tmb\" : \"tweet me back\",\n",
    "    \"tntl\" : \"trying not to laugh\",\n",
    "    \"ttyl\" : \"talk to you later\",\n",
    "    \"u\" : \"you\",\n",
    "    \"u2\" : \"you too\",\n",
    "    \"u4e\" : \"yours for ever\",\n",
    "    \"utc\" : \"coordinated universal time\",\n",
    "    \"w/\" : \"with\",\n",
    "    \"w/o\" : \"without\",\n",
    "    \"w8\" : \"wait\",\n",
    "    \"wassup\" : \"what is up\",\n",
    "    \"wb\" : \"welcome back\",\n",
    "    \"wtf\" : \"what the fuck\",\n",
    "    \"wtg\" : \"way to go\",\n",
    "    \"wtpa\" : \"where the party at\",\n",
    "    \"wuf\" : \"where are you from\",\n",
    "    \"wuzup\" : \"what is up\",\n",
    "    \"wywh\" : \"wish you were here\",\n",
    "    \"yd\" : \"yard\",\n",
    "    \"ygtr\" : \"you got that right\",\n",
    "    \"ynk\" : \"you never know\",\n",
    "    \"zzz\" : \"sleeping bored and tired\",\n",
    "    \"yr\": \"year\",\n",
    "    \"u.s\":\"usa\",\n",
    "}\n",
    "\n",
    "def replace_slang(txt, slang):\n",
    "    ctxt = re.sub(r'\\s+', ' ', txt)\n",
    "    res = []\n",
    "    for tok in ctxt.split():\n",
    "        if tok.lower() in slang:\n",
    "            res.append(slang[tok.lower()])\n",
    "        else:\n",
    "            res.append(tok)\n",
    "    res = ' '.join(res)\n",
    "    return res.strip()\n",
    "\n",
    "sent = 'I want to go aamof home'\n",
    "print(sent)\n",
    "print(replace_slang(sent, abbr))"
   ]
  },
  {
   "cell_type": "markdown",
   "metadata": {
    "id": "aex3BduQ-gI3"
   },
   "source": [
    "## Define text preprocessor\n",
    "* extract emojis\n",
    "* replace numbers/date/money\n",
    "* extract hashtags\n",
    "* correct enlongated/repeated character"
   ]
  },
  {
   "cell_type": "code",
   "execution_count": 29,
   "metadata": {
    "id": "6hPJhhjU-gI4"
   },
   "outputs": [
    {
     "name": "stderr",
     "output_type": "stream",
     "text": [
      "C:\\Users\\korra prathyusha\\AppData\\Roaming\\Python\\Python39\\site-packages\\ekphrasis\\classes\\tokenizer.py:225: FutureWarning: Possible nested set at position 2190\n",
      "  self.tok = re.compile(r\"({})\".format(\"|\".join(pipeline)))\n"
     ]
    },
    {
     "name": "stdout",
     "output_type": "stream",
     "text": [
      "Reading twitter - 1grams ...\n",
      "Reading twitter - 2grams ...\n",
      "Reading twitter - 1grams ...\n"
     ]
    },
    {
     "name": "stderr",
     "output_type": "stream",
     "text": [
      "C:\\Users\\korra prathyusha\\AppData\\Roaming\\Python\\Python39\\site-packages\\ekphrasis\\classes\\exmanager.py:14: FutureWarning: Possible nested set at position 42\n",
      "  regexes = {k.lower(): re.compile(self.expressions[k]) for k, v in\n"
     ]
    }
   ],
   "source": [
    "text_processor = TextPreProcessor(\n",
    "    # terms that will be normalized\n",
    "    normalize = ['rest_emoticons', 'rtl_face', 'cashtag','url',\n",
    "                 'email', 'percent', 'money', 'phone', 'user', \n",
    "                 'time', 'date', 'number', 'eastern_emoticons'],\n",
    "    # terms that will be annotated\n",
    "    annotate = set([\"elongated\", \"repeated\"]),\n",
    "    fix_html = True,  # fix HTML tokens\n",
    "    segmenter=\"twitter\", \n",
    "    corrector = \"twitter\", \n",
    "    unpack_hashtags = True,  # perform word segmentation on hashtags\n",
    "    unpack_contractions = True,  # Unpack contractions (can't -> can not)\n",
    "    spell_correct_elong = False,  # spell correction for elongated words\n",
    "    tokenizer=SocialTokenizer(lowercase=False).tokenize,\n",
    "    dicts=[emoticons]\n",
    ")"
   ]
  },
  {
   "cell_type": "markdown",
   "metadata": {
    "id": "rOcVUCrZ-gI4"
   },
   "source": [
    "## Text Cleaning"
   ]
  },
  {
   "cell_type": "code",
   "execution_count": 30,
   "metadata": {
    "id": "YmDm8Quu-gI4"
   },
   "outputs": [],
   "source": [
    "def preprocess(txt):\n",
    "    # remove non-ascii characters\n",
    "    res = txt.encode('ascii', 'ignore').decode()\n",
    "    # replace slang token if the token is not an english word\n",
    "    res = replace_slang(res, uncased_slang_dict)\n",
    "    # replace shorten pattern i.e I'll--> I will\n",
    "    for patt, rep in replacement_patterns:\n",
    "        res = re.sub(patt, rep, res)\n",
    "    # Extract emojis and hashtags and segment the txt\n",
    "    res = ' '.join(text_processor.pre_process_doc(res)).strip()\n",
    "    for patt in [r\"<elongated>\", r\"<repeated>\"]:\n",
    "        res = re.sub(patt, '', res)\n",
    "        \n",
    "    # another try to replace the slangs after segmentation\n",
    "    res = replace_slang(res, uncased_slang_dict)\n",
    "\n",
    "    # remove punctuaions\n",
    "    res = re.sub(r'[%s]' % re.escape(''.join(string.punctuation)), r' ',res)\n",
    "    # lower case\n",
    "    res = res.lower()\n",
    "    # remove consecutive duplicated tokens\n",
    "    res = re.sub(r'\\b(\\w+)(?:\\W+\\1\\b)+', r'\\1', res)\n",
    "    #remove extra spaces\n",
    "    res = re.sub(r'\\s+', ' ', res)\n",
    "    return res.strip()"
   ]
  },
  {
   "cell_type": "code",
   "execution_count": 31,
   "metadata": {
    "id": "wsEkBRc4-gI4"
   },
   "outputs": [],
   "source": [
    "df['ctext'] = df['text'].apply(preprocess)\n",
    "test_df['ctext'] = test_df['text'].apply(preprocess)"
   ]
  },
  {
   "cell_type": "markdown",
   "metadata": {
    "id": "POXOemG8-gI4"
   },
   "source": [
    "## Pre-Processing Results"
   ]
  },
  {
   "cell_type": "code",
   "execution_count": 35,
   "metadata": {
    "id": "CKNQ0zPu-gI4"
   },
   "outputs": [
    {
     "name": "stdout",
     "output_type": "stream",
     "text": [
      "Plain tweet text:  ! Residents Return To Destroyed Homes As Washington Wildfire Burns on http://t.co/UcI8stQUg1\n",
      "\n",
      "Cleaned tweet text:  residents return to destroyed homes as washington wildfire burns on url\n",
      "\n",
      "Plain tweet text:  # handbags Genuine Mulberry Antony Cross Body Messenger Bag Dark Oak Soft Buffalo Leather:  å£279.00End Date: W... http://t.co/FTM4RKl8mN\n",
      "\n",
      "Cleaned tweet text:  handbags genuine mulberry antony cross body messenger bag dark oak soft buffalo leather number 0 end date w url\n",
      "\n",
      "Plain tweet text:  #360WiseNews : China's Stock Market Crash: Are There Gems In The Rubble? http://t.co/9Naw3QOQOL\n",
      "\n",
      "Cleaned tweet text:  360 wise news china is stock market crash are there gems in the rubble url\n",
      "\n",
      "Plain tweet text:  #360WiseNews : China's Stock Market Crash: Are There Gems In The Rubble? http://t.co/aOd2ftBMGU\n",
      "\n",
      "Cleaned tweet text:  360 wise news china is stock market crash are there gems in the rubble url\n",
      "\n",
      "Plain tweet text:  #360WiseNews : China's Stock Market Crash: Are There Gems In The Rubble? http://t.co/eaTFro3d5x\n",
      "\n",
      "Cleaned tweet text:  360 wise news china is stock market crash are there gems in the rubble url\n",
      "\n",
      "Plain tweet text:  #360WiseNews : China's Stock Market Crash: Are There Gems In The Rubble? http://t.co/gQskwqZuUl\n",
      "\n",
      "Cleaned tweet text:  360 wise news china is stock market crash are there gems in the rubble url\n",
      "\n",
      "Plain tweet text:  #3: TITAN WarriorCord 100 Feet - Authentic Military 550 Paracord - MIL-C-5040-H Type III 7 Strand 5/16' di... http://t.co/EEjRMKtJ0R\n",
      "\n",
      "Cleaned tweet text:  number titan warriorcord number feet authentic military number paracord mil c number h type i number strand number di url\n",
      "\n",
      "Plain tweet text:  #3Novices : Renison mine sees seismic event http://t.co/2i4EOGGO5j A small earthquake at Tasmania's Renison tin project has created a temÛ_\n",
      "\n",
      "Cleaned tweet text:  3 novices renison mine sees seismic event url a small earthquake at tasmania is renison tin project has created a tem\n",
      "\n",
      "Plain tweet text:  #4: The Hobbit: The Desolation of Smaug (Bilingual) http://t.co/G5dO2X6226\n",
      "\n",
      "Cleaned tweet text:  number the hobbit the desolation of smaug bilingual url\n",
      "\n",
      "Plain tweet text:  #?? #?? #??? #??? MH370: Aircraft debris found on La Reunion is from missing Malaysia Airlines ...  http://t.co/MRVXBZywd4\n",
      "\n",
      "Cleaned tweet text:  mh370 aircraft debris found on la reunion is from missing malaysia airlines url\n",
      "\n"
     ]
    }
   ],
   "source": [
    "for txt, ctxt in df[['text', 'ctext']].values[0:10]:\n",
    "    print('Plain tweet text: ',txt)\n",
    "    print()\n",
    "    print('Cleaned tweet text: ', ctxt)\n",
    "    print()"
   ]
  },
  {
   "cell_type": "code",
   "execution_count": 36,
   "metadata": {
    "id": "RjPHOzMG-gI4"
   },
   "outputs": [
    {
     "name": "stdout",
     "output_type": "stream",
     "text": [
      "Vocabs size 11303\n",
      "Unknown vocabs size 4135\n",
      "Tweets contain unknown words: 36.58%\n",
      "\n",
      "Vocabs size 7134\n",
      "Unknown vocabs size 2213\n",
      "Tweets contain unknown words: 31.02%\n"
     ]
    }
   ],
   "source": [
    "not_word_tokens = get_unk_words(df['ctext'])\n",
    "print()\n",
    "not_word_tokens = get_unk_words(test_df['ctext'])"
   ]
  },
  {
   "cell_type": "markdown",
   "metadata": {
    "id": "8-biADnt-gI4"
   },
   "source": [
    "## Unknown Words"
   ]
  },
  {
   "cell_type": "code",
   "execution_count": 37,
   "metadata": {
    "id": "lRqvXKSs-gI4"
   },
   "outputs": [
    {
     "name": "stdout",
     "output_type": "stream",
     "text": [
      "momentsathill\n",
      "wozni\n",
      "holmes\n",
      "noticias\n",
      "guyana\n",
      "manipur\n",
      "bickford\n",
      "slix\n",
      "otrametlife\n",
      "a27\n",
      "bracelet10\n",
      "sosa\n",
      "coahuila\n",
      "kanos\n",
      "e7\n",
      "ballina\n",
      "runion\n",
      "pqhaxp\n",
      "woulda\n",
      "pref\n"
     ]
    }
   ],
   "source": [
    "for tok in list(not_word_tokens)[0:20]:\n",
    "    print(tok)"
   ]
  },
  {
   "cell_type": "markdown",
   "metadata": {
    "id": "5sMV8Z96-gI4"
   },
   "source": [
    "## Remove duplicated texts"
   ]
  },
  {
   "cell_type": "code",
   "execution_count": 38,
   "metadata": {
    "id": "K_URQ2fX-gI4"
   },
   "outputs": [
    {
     "name": "stdout",
     "output_type": "stream",
     "text": [
      "(6861, 6)\n"
     ]
    }
   ],
   "source": [
    "df = df.fillna('unk')\n",
    "test_df = test_df.fillna('unk')\n",
    "\n",
    "df = df.groupby(by = ['ctext']).agg({\n",
    "    'id': 'first',\n",
    "    'location': lambda x:x.value_counts().index[0],\n",
    "    'keyword':lambda x:x.value_counts().index[0],\n",
    "    'target': lambda x:x.value_counts().index[0],\n",
    "    'text': lambda x:x.value_counts().index[0],\n",
    "}).reset_index()\n",
    "\n",
    "print(df.shape)"
   ]
  },
  {
   "cell_type": "markdown",
   "metadata": {
    "id": "25roJFYC-gI5"
   },
   "source": [
    "## Clean column keywords\n",
    "* remove strang characters\n",
    "* replace words with their lemma"
   ]
  },
  {
   "cell_type": "code",
   "execution_count": 39,
   "metadata": {
    "id": "YzRbxfM5-gI5"
   },
   "outputs": [],
   "source": [
    "def preprocess_keywords(txt):\n",
    "    res = txt.lower()\n",
    "    res = re.sub(r'[^a-zA-Z]', r' ', res)\n",
    "    res = re.sub(r'\\s+', r' ', res)\n",
    "    doc = nlp(res)\n",
    "    res = ' '.join([token.lemma_ for token in doc])\n",
    "    res = re.sub(r'\\s+', r' ', res)\n",
    "    return res.strip()"
   ]
  },
  {
   "cell_type": "code",
   "execution_count": 40,
   "metadata": {
    "id": "PibyYo38-gI5"
   },
   "outputs": [],
   "source": [
    "keyword = set(df['keyword'].values)\n",
    "keyword = {\n",
    "    key: preprocess_keywords(key).lower() for key in keyword\n",
    "}\n",
    "    \n",
    "df['ckeyword'] = df['keyword'].apply(lambda txt: keyword[txt])\n",
    "test_df['ckeyword'] = test_df['keyword'].apply(lambda txt: keyword[txt])"
   ]
  },
  {
   "cell_type": "code",
   "execution_count": 41,
   "metadata": {
    "id": "keQTVSNl-gI5"
   },
   "outputs": [
    {
     "data": {
      "text/html": [
       "<div>\n",
       "<style scoped>\n",
       "    .dataframe tbody tr th:only-of-type {\n",
       "        vertical-align: middle;\n",
       "    }\n",
       "\n",
       "    .dataframe tbody tr th {\n",
       "        vertical-align: top;\n",
       "    }\n",
       "\n",
       "    .dataframe thead th {\n",
       "        text-align: right;\n",
       "    }\n",
       "</style>\n",
       "<table border=\"1\" class=\"dataframe\">\n",
       "  <thead>\n",
       "    <tr style=\"text-align: right;\">\n",
       "      <th></th>\n",
       "      <th>keyword</th>\n",
       "      <th>ckeyword</th>\n",
       "    </tr>\n",
       "  </thead>\n",
       "  <tbody>\n",
       "    <tr>\n",
       "      <th>0</th>\n",
       "      <td>quarantined</td>\n",
       "      <td>quarantine</td>\n",
       "    </tr>\n",
       "    <tr>\n",
       "      <th>1</th>\n",
       "      <td>sinkhole</td>\n",
       "      <td>sinkhole</td>\n",
       "    </tr>\n",
       "    <tr>\n",
       "      <th>2</th>\n",
       "      <td>outbreak</td>\n",
       "      <td>outbreak</td>\n",
       "    </tr>\n",
       "    <tr>\n",
       "      <th>3</th>\n",
       "      <td>suicide%20bomb</td>\n",
       "      <td>suicide bomb</td>\n",
       "    </tr>\n",
       "    <tr>\n",
       "      <th>4</th>\n",
       "      <td>suicide%20bomb</td>\n",
       "      <td>suicide bomb</td>\n",
       "    </tr>\n",
       "    <tr>\n",
       "      <th>...</th>\n",
       "      <td>...</td>\n",
       "      <td>...</td>\n",
       "    </tr>\n",
       "    <tr>\n",
       "      <th>6856</th>\n",
       "      <td>war%20zone</td>\n",
       "      <td>war zone</td>\n",
       "    </tr>\n",
       "    <tr>\n",
       "      <th>6857</th>\n",
       "      <td>electrocuted</td>\n",
       "      <td>electrocute</td>\n",
       "    </tr>\n",
       "    <tr>\n",
       "      <th>6858</th>\n",
       "      <td>flattened</td>\n",
       "      <td>flatten</td>\n",
       "    </tr>\n",
       "    <tr>\n",
       "      <th>6859</th>\n",
       "      <td>flattened</td>\n",
       "      <td>flatten</td>\n",
       "    </tr>\n",
       "    <tr>\n",
       "      <th>6860</th>\n",
       "      <td>flattened</td>\n",
       "      <td>flatten</td>\n",
       "    </tr>\n",
       "  </tbody>\n",
       "</table>\n",
       "<p>6811 rows × 2 columns</p>\n",
       "</div>"
      ],
      "text/plain": [
       "             keyword      ckeyword\n",
       "0        quarantined    quarantine\n",
       "1           sinkhole      sinkhole\n",
       "2           outbreak      outbreak\n",
       "3     suicide%20bomb  suicide bomb\n",
       "4     suicide%20bomb  suicide bomb\n",
       "...              ...           ...\n",
       "6856      war%20zone      war zone\n",
       "6857    electrocuted   electrocute\n",
       "6858       flattened       flatten\n",
       "6859       flattened       flatten\n",
       "6860       flattened       flatten\n",
       "\n",
       "[6811 rows x 2 columns]"
      ]
     },
     "execution_count": 41,
     "metadata": {},
     "output_type": "execute_result"
    }
   ],
   "source": [
    "df[df['keyword']!='unk'][['keyword', 'ckeyword']]"
   ]
  },
  {
   "cell_type": "markdown",
   "metadata": {
    "id": "mz2amuEi-gI5"
   },
   "source": [
    "## Fix misclassified target"
   ]
  },
  {
   "cell_type": "code",
   "execution_count": 42,
   "metadata": {
    "id": "V4SVA6UG-gI5"
   },
   "outputs": [],
   "source": [
    "ids = [328,443,513,2619,3640,3900,4342,5781,6552,6554,6570,6701,6702,6729,6861,7226]\n",
    "\n",
    "df.loc[df['id'].isin(ids), 'target'] = 0"
   ]
  },
  {
   "cell_type": "code",
   "execution_count": 43,
   "metadata": {
    "id": "m87yr2WC-gI6"
   },
   "outputs": [],
   "source": [
    "df.to_csv('df.csv', index = False)\n",
    "test_df.to_csv('test_df.csv', index = False)"
   ]
  },
  {
   "cell_type": "markdown",
   "metadata": {
    "id": "i6k_cyw8-gI6"
   },
   "source": [
    "# Model Training"
   ]
  },
  {
   "cell_type": "code",
   "execution_count": 45,
   "metadata": {},
   "outputs": [
    {
     "name": "stdout",
     "output_type": "stream",
     "text": [
      "Defaulting to user installation because normal site-packages is not writeable\n",
      "Requirement already satisfied: tensorflow in c:\\users\\korra prathyusha\\appdata\\roaming\\python\\python39\\site-packages (2.16.1)\n",
      "Requirement already satisfied: protobuf in c:\\users\\korra prathyusha\\appdata\\roaming\\python\\python39\\site-packages (3.19.6)\n",
      "Collecting protobuf\n",
      "  Using cached protobuf-5.26.1-cp39-cp39-win_amd64.whl (420 kB)\n",
      "Requirement already satisfied: tensorflow-intel==2.16.1 in c:\\users\\korra prathyusha\\appdata\\roaming\\python\\python39\\site-packages (from tensorflow) (2.16.1)\n",
      "Requirement already satisfied: absl-py>=1.0.0 in c:\\users\\korra prathyusha\\appdata\\roaming\\python\\python39\\site-packages (from tensorflow-intel==2.16.1->tensorflow) (2.1.0)\n",
      "Requirement already satisfied: google-pasta>=0.1.1 in c:\\users\\korra prathyusha\\appdata\\roaming\\python\\python39\\site-packages (from tensorflow-intel==2.16.1->tensorflow) (0.2.0)\n",
      "  Using cached protobuf-4.25.3-cp39-cp39-win_amd64.whl (413 kB)\n",
      "Requirement already satisfied: wrapt>=1.11.0 in c:\\programdata\\anaconda3\\lib\\site-packages (from tensorflow-intel==2.16.1->tensorflow) (1.12.1)\n",
      "Requirement already satisfied: grpcio<2.0,>=1.24.3 in c:\\users\\korra prathyusha\\appdata\\roaming\\python\\python39\\site-packages (from tensorflow-intel==2.16.1->tensorflow) (1.60.1)\n",
      "Requirement already satisfied: six>=1.12.0 in c:\\programdata\\anaconda3\\lib\\site-packages (from tensorflow-intel==2.16.1->tensorflow) (1.16.0)\n",
      "Requirement already satisfied: gast!=0.5.0,!=0.5.1,!=0.5.2,>=0.2.1 in c:\\users\\korra prathyusha\\appdata\\roaming\\python\\python39\\site-packages (from tensorflow-intel==2.16.1->tensorflow) (0.4.0)\n",
      "Requirement already satisfied: libclang>=13.0.0 in c:\\users\\korra prathyusha\\appdata\\roaming\\python\\python39\\site-packages (from tensorflow-intel==2.16.1->tensorflow) (16.0.6)\n",
      "Requirement already satisfied: numpy<2.0.0,>=1.23.5 in c:\\users\\korra prathyusha\\appdata\\roaming\\python\\python39\\site-packages (from tensorflow-intel==2.16.1->tensorflow) (1.26.4)\n",
      "Requirement already satisfied: setuptools in c:\\programdata\\anaconda3\\lib\\site-packages (from tensorflow-intel==2.16.1->tensorflow) (61.2.0)\n",
      "Requirement already satisfied: h5py>=3.10.0 in c:\\users\\korra prathyusha\\appdata\\roaming\\python\\python39\\site-packages (from tensorflow-intel==2.16.1->tensorflow) (3.10.0)\n",
      "Requirement already satisfied: tensorflow-io-gcs-filesystem>=0.23.1 in c:\\users\\korra prathyusha\\appdata\\roaming\\python\\python39\\site-packages (from tensorflow-intel==2.16.1->tensorflow) (0.31.0)\n",
      "Requirement already satisfied: typing-extensions>=3.6.6 in c:\\users\\korra prathyusha\\appdata\\roaming\\python\\python39\\site-packages (from tensorflow-intel==2.16.1->tensorflow) (4.8.0)\n",
      "Requirement already satisfied: flatbuffers>=23.5.26 in c:\\users\\korra prathyusha\\appdata\\roaming\\python\\python39\\site-packages (from tensorflow-intel==2.16.1->tensorflow) (23.5.26)\n",
      "Requirement already satisfied: requests<3,>=2.21.0 in c:\\programdata\\anaconda3\\lib\\site-packages (from tensorflow-intel==2.16.1->tensorflow) (2.27.1)\n",
      "Collecting tensorboard<2.17,>=2.16\n",
      "  Using cached tensorboard-2.16.2-py3-none-any.whl (5.5 MB)\n",
      "Collecting keras>=3.0.0\n",
      "  Downloading keras-3.3.3-py3-none-any.whl (1.1 MB)\n",
      "Requirement already satisfied: opt-einsum>=2.3.2 in c:\\users\\korra prathyusha\\appdata\\roaming\\python\\python39\\site-packages (from tensorflow-intel==2.16.1->tensorflow) (3.3.0)\n",
      "Requirement already satisfied: termcolor>=1.1.0 in c:\\users\\korra prathyusha\\appdata\\roaming\\python\\python39\\site-packages (from tensorflow-intel==2.16.1->tensorflow) (2.3.0)\n",
      "Requirement already satisfied: astunparse>=1.6.0 in c:\\users\\korra prathyusha\\appdata\\roaming\\python\\python39\\site-packages (from tensorflow-intel==2.16.1->tensorflow) (1.6.3)"
     ]
    },
    {
     "name": "stderr",
     "output_type": "stream",
     "text": [
      "WARNING: Ignoring invalid distribution -rotobuf (c:\\users\\korra prathyusha\\appdata\\roaming\\python\\python39\\site-packages)\n",
      "WARNING: Ignoring invalid distribution -rotobuf (c:\\users\\korra prathyusha\\appdata\\roaming\\python\\python39\\site-packages)\n",
      "WARNING: Ignoring invalid distribution -rotobuf (c:\\users\\korra prathyusha\\appdata\\roaming\\python\\python39\\site-packages)\n",
      "    WARNING: Ignoring invalid distribution -rotobuf (c:\\users\\korra prathyusha\\appdata\\roaming\\python\\python39\\site-packages)\n",
      "    WARNING: Ignoring invalid distribution -rotobuf (c:\\users\\korra prathyusha\\appdata\\roaming\\python\\python39\\site-packages)\n",
      "    WARNING: Ignoring invalid distribution -rotobuf (c:\\users\\korra prathyusha\\appdata\\roaming\\python\\python39\\site-packages)\n",
      "  WARNING: The script tensorboard.exe is installed in 'C:\\Users\\korra prathyusha\\AppData\\Roaming\\Python\\Python39\\Scripts' which is not on PATH.\n",
      "  Consider adding this directory to PATH or, if you prefer to suppress this warning, use --no-warn-script-location.\n",
      "    WARNING: Ignoring invalid distribution -rotobuf (c:\\users\\korra prathyusha\\appdata\\roaming\\python\\python39\\site-packages)\n",
      "WARNING: Ignoring invalid distribution -rotobuf (c:\\users\\korra prathyusha\\appdata\\roaming\\python\\python39\\site-packages)\n",
      "WARNING: Ignoring invalid distribution -rotobuf (c:\\users\\korra prathyusha\\appdata\\roaming\\python\\python39\\site-packages)\n",
      "WARNING: Ignoring invalid distribution -rotobuf (c:\\users\\korra prathyusha\\appdata\\roaming\\python\\python39\\site-packages)\n",
      "WARNING: Ignoring invalid distribution -rotobuf (c:\\users\\korra prathyusha\\appdata\\roaming\\python\\python39\\site-packages)\n",
      "ERROR: pip's dependency resolver does not currently take into account all the packages that are installed. This behaviour is the source of the following dependency conflicts.\n",
      "google-api-core 1.25.1 requires google-auth<2.0dev,>=1.21.1, but you have google-auth 2.27.0 which is incompatible.\n",
      "WARNING: Ignoring invalid distribution -rotobuf (c:\\users\\korra prathyusha\\appdata\\roaming\\python\\python39\\site-packages)\n",
      "WARNING: Ignoring invalid distribution -rotobuf (c:\\users\\korra prathyusha\\appdata\\roaming\\python\\python39\\site-packages)\n",
      "WARNING: Ignoring invalid distribution -rotobuf (c:\\users\\korra prathyusha\\appdata\\roaming\\python\\python39\\site-packages)\n"
     ]
    },
    {
     "name": "stdout",
     "output_type": "stream",
     "text": [
      "\n",
      "Requirement already satisfied: ml-dtypes~=0.3.1 in c:\\users\\korra prathyusha\\appdata\\roaming\\python\\python39\\site-packages (from tensorflow-intel==2.16.1->tensorflow) (0.3.2)\n",
      "Requirement already satisfied: packaging in c:\\programdata\\anaconda3\\lib\\site-packages (from tensorflow-intel==2.16.1->tensorflow) (21.3)\n",
      "Requirement already satisfied: wheel<1.0,>=0.23.0 in c:\\programdata\\anaconda3\\lib\\site-packages (from astunparse>=1.6.0->tensorflow-intel==2.16.1->tensorflow) (0.37.1)\n",
      "Requirement already satisfied: namex in c:\\users\\korra prathyusha\\appdata\\roaming\\python\\python39\\site-packages (from keras>=3.0.0->tensorflow-intel==2.16.1->tensorflow) (0.0.7)\n",
      "Requirement already satisfied: optree in c:\\users\\korra prathyusha\\appdata\\roaming\\python\\python39\\site-packages (from keras>=3.0.0->tensorflow-intel==2.16.1->tensorflow) (0.11.0)\n",
      "Requirement already satisfied: rich in c:\\users\\korra prathyusha\\appdata\\roaming\\python\\python39\\site-packages (from keras>=3.0.0->tensorflow-intel==2.16.1->tensorflow) (13.7.1)\n",
      "Requirement already satisfied: charset-normalizer~=2.0.0 in c:\\programdata\\anaconda3\\lib\\site-packages (from requests<3,>=2.21.0->tensorflow-intel==2.16.1->tensorflow) (2.0.4)\n",
      "Requirement already satisfied: urllib3<1.27,>=1.21.1 in c:\\programdata\\anaconda3\\lib\\site-packages (from requests<3,>=2.21.0->tensorflow-intel==2.16.1->tensorflow) (1.26.9)\n",
      "Requirement already satisfied: idna<4,>=2.5 in c:\\programdata\\anaconda3\\lib\\site-packages (from requests<3,>=2.21.0->tensorflow-intel==2.16.1->tensorflow) (3.3)\n",
      "Requirement already satisfied: certifi>=2017.4.17 in c:\\users\\korra prathyusha\\appdata\\roaming\\python\\python39\\site-packages (from requests<3,>=2.21.0->tensorflow-intel==2.16.1->tensorflow) (2023.11.17)\n",
      "Collecting tensorboard-data-server<0.8.0,>=0.7.0\n",
      "  Using cached tensorboard_data_server-0.7.2-py3-none-any.whl (2.4 kB)\n",
      "Requirement already satisfied: werkzeug>=1.0.1 in c:\\programdata\\anaconda3\\lib\\site-packages (from tensorboard<2.17,>=2.16->tensorflow-intel==2.16.1->tensorflow) (2.0.3)\n",
      "Requirement already satisfied: markdown>=2.6.8 in c:\\programdata\\anaconda3\\lib\\site-packages (from tensorboard<2.17,>=2.16->tensorflow-intel==2.16.1->tensorflow) (3.3.4)\n",
      "Requirement already satisfied: pyparsing!=3.0.5,>=2.0.2 in c:\\programdata\\anaconda3\\lib\\site-packages (from packaging->tensorflow-intel==2.16.1->tensorflow) (3.0.4)\n",
      "Requirement already satisfied: pygments<3.0.0,>=2.13.0 in c:\\users\\korra prathyusha\\appdata\\roaming\\python\\python39\\site-packages (from rich->keras>=3.0.0->tensorflow-intel==2.16.1->tensorflow) (2.17.2)\n",
      "Requirement already satisfied: markdown-it-py>=2.2.0 in c:\\users\\korra prathyusha\\appdata\\roaming\\python\\python39\\site-packages (from rich->keras>=3.0.0->tensorflow-intel==2.16.1->tensorflow) (3.0.0)\n",
      "Requirement already satisfied: mdurl~=0.1 in c:\\users\\korra prathyusha\\appdata\\roaming\\python\\python39\\site-packages (from markdown-it-py>=2.2.0->rich->keras>=3.0.0->tensorflow-intel==2.16.1->tensorflow) (0.1.2)\n",
      "Installing collected packages: tensorboard-data-server, protobuf, tensorboard, keras\n",
      "  Attempting uninstall: tensorboard-data-server\n",
      "    Found existing installation: tensorboard-data-server 0.6.1\n",
      "    Uninstalling tensorboard-data-server-0.6.1:\n",
      "      Successfully uninstalled tensorboard-data-server-0.6.1\n",
      "  Attempting uninstall: protobuf\n",
      "    Found existing installation: protobuf 3.19.6\n",
      "    Uninstalling protobuf-3.19.6:\n",
      "      Successfully uninstalled protobuf-3.19.6\n",
      "  Attempting uninstall: tensorboard\n",
      "    Found existing installation: tensorboard 2.10.1\n",
      "    Uninstalling tensorboard-2.10.1:\n",
      "      Successfully uninstalled tensorboard-2.10.1\n",
      "  Attempting uninstall: keras\n",
      "    Found existing installation: keras 2.10.0\n",
      "    Uninstalling keras-2.10.0:\n",
      "      Successfully uninstalled keras-2.10.0\n",
      "Successfully installed keras-3.3.3 protobuf-4.25.3 tensorboard-2.16.2 tensorboard-data-server-0.7.2\n"
     ]
    }
   ],
   "source": [
    "! pip install --upgrade tensorflow protobuf\n"
   ]
  },
  {
   "cell_type": "markdown",
   "metadata": {
    "id": "mmVguM8s-gI6"
   },
   "source": [
    "### 1. LSTM MODEL"
   ]
  },
  {
   "cell_type": "code",
   "execution_count": 46,
   "metadata": {
    "id": "qmK5tqBK-gI6"
   },
   "outputs": [
    {
     "ename": "ModuleNotFoundError",
     "evalue": "No module named 'tensorflow.python.distribute.distribution_strategy_context'",
     "output_type": "error",
     "traceback": [
      "\u001b[1;31m---------------------------------------------------------------------------\u001b[0m",
      "\u001b[1;31mModuleNotFoundError\u001b[0m                       Traceback (most recent call last)",
      "Input \u001b[1;32mIn [46]\u001b[0m, in \u001b[0;36m<cell line: 1>\u001b[1;34m()\u001b[0m\n\u001b[1;32m----> 1\u001b[0m \u001b[38;5;28;01mimport\u001b[39;00m \u001b[38;5;21;01mtensorflow\u001b[39;00m \u001b[38;5;28;01mas\u001b[39;00m \u001b[38;5;21;01mtf\u001b[39;00m \n\u001b[0;32m      2\u001b[0m \u001b[38;5;28;01mfrom\u001b[39;00m \u001b[38;5;21;01mtensorflow\u001b[39;00m\u001b[38;5;21;01m.\u001b[39;00m\u001b[38;5;21;01mkeras\u001b[39;00m \u001b[38;5;28;01mimport\u001b[39;00m layers\n\u001b[0;32m      4\u001b[0m X \u001b[38;5;241m=\u001b[39m df[\u001b[38;5;124m'\u001b[39m\u001b[38;5;124mctext\u001b[39m\u001b[38;5;124m'\u001b[39m]\u001b[38;5;241m.\u001b[39mto_numpy()\n",
      "File \u001b[1;32m~\\AppData\\Roaming\\Python\\Python39\\site-packages\\tensorflow\\__init__.py:45\u001b[0m, in \u001b[0;36m<module>\u001b[1;34m\u001b[0m\n\u001b[0;32m     42\u001b[0m \u001b[38;5;28;01mfrom\u001b[39;00m \u001b[38;5;21;01mtensorflow\u001b[39;00m\u001b[38;5;21;01m.\u001b[39;00m\u001b[38;5;21;01mpython\u001b[39;00m \u001b[38;5;28;01mimport\u001b[39;00m tf2 \u001b[38;5;28;01mas\u001b[39;00m _tf2\n\u001b[0;32m     43\u001b[0m _tf2\u001b[38;5;241m.\u001b[39menable()\n\u001b[1;32m---> 45\u001b[0m \u001b[38;5;28;01mfrom\u001b[39;00m \u001b[38;5;21;01m.\u001b[39;00m\u001b[38;5;21;01m_api\u001b[39;00m\u001b[38;5;21;01m.\u001b[39;00m\u001b[38;5;21;01mv2\u001b[39;00m \u001b[38;5;28;01mimport\u001b[39;00m __internal__\n\u001b[0;32m     46\u001b[0m \u001b[38;5;28;01mfrom\u001b[39;00m \u001b[38;5;21;01m.\u001b[39;00m\u001b[38;5;21;01m_api\u001b[39;00m\u001b[38;5;21;01m.\u001b[39;00m\u001b[38;5;21;01mv2\u001b[39;00m \u001b[38;5;28;01mimport\u001b[39;00m __operators__\n\u001b[0;32m     47\u001b[0m \u001b[38;5;28;01mfrom\u001b[39;00m \u001b[38;5;21;01m.\u001b[39;00m\u001b[38;5;21;01m_api\u001b[39;00m\u001b[38;5;21;01m.\u001b[39;00m\u001b[38;5;21;01mv2\u001b[39;00m \u001b[38;5;28;01mimport\u001b[39;00m audio\n",
      "File \u001b[1;32m~\\AppData\\Roaming\\Python\\Python39\\site-packages\\tensorflow\\_api\\v2\\__internal__\\__init__.py:11\u001b[0m, in \u001b[0;36m<module>\u001b[1;34m\u001b[0m\n\u001b[0;32m      9\u001b[0m \u001b[38;5;28;01mfrom\u001b[39;00m \u001b[38;5;21;01m.\u001b[39;00m \u001b[38;5;28;01mimport\u001b[39;00m decorator\n\u001b[0;32m     10\u001b[0m \u001b[38;5;28;01mfrom\u001b[39;00m \u001b[38;5;21;01m.\u001b[39;00m \u001b[38;5;28;01mimport\u001b[39;00m dispatch\n\u001b[1;32m---> 11\u001b[0m \u001b[38;5;28;01mfrom\u001b[39;00m \u001b[38;5;21;01m.\u001b[39;00m \u001b[38;5;28;01mimport\u001b[39;00m distribute\n\u001b[0;32m     12\u001b[0m \u001b[38;5;28;01mfrom\u001b[39;00m \u001b[38;5;21;01m.\u001b[39;00m \u001b[38;5;28;01mimport\u001b[39;00m eager_context\n\u001b[0;32m     13\u001b[0m \u001b[38;5;28;01mfrom\u001b[39;00m \u001b[38;5;21;01m.\u001b[39;00m \u001b[38;5;28;01mimport\u001b[39;00m feature_column\n",
      "File \u001b[1;32m~\\AppData\\Roaming\\Python\\Python39\\site-packages\\tensorflow\\_api\\v2\\__internal__\\distribute\\__init__.py:11\u001b[0m, in \u001b[0;36m<module>\u001b[1;34m\u001b[0m\n\u001b[0;32m      9\u001b[0m \u001b[38;5;28;01mfrom\u001b[39;00m \u001b[38;5;21;01m.\u001b[39;00m \u001b[38;5;28;01mimport\u001b[39;00m interim\n\u001b[0;32m     10\u001b[0m \u001b[38;5;28;01mfrom\u001b[39;00m \u001b[38;5;21;01m.\u001b[39;00m \u001b[38;5;28;01mimport\u001b[39;00m multi_process_runner\n\u001b[1;32m---> 11\u001b[0m \u001b[38;5;28;01mfrom\u001b[39;00m \u001b[38;5;21;01mtensorflow\u001b[39;00m\u001b[38;5;21;01m.\u001b[39;00m\u001b[38;5;21;01mpython\u001b[39;00m\u001b[38;5;21;01m.\u001b[39;00m\u001b[38;5;21;01mdistribute\u001b[39;00m\u001b[38;5;21;01m.\u001b[39;00m\u001b[38;5;21;01mdistribution_strategy_context\u001b[39;00m \u001b[38;5;28;01mimport\u001b[39;00m variable_sync_on_read_context\n\u001b[0;32m     12\u001b[0m \u001b[38;5;28;01mfrom\u001b[39;00m \u001b[38;5;21;01mtensorflow\u001b[39;00m\u001b[38;5;21;01m.\u001b[39;00m\u001b[38;5;21;01mpython\u001b[39;00m\u001b[38;5;21;01m.\u001b[39;00m\u001b[38;5;21;01mdistribute\u001b[39;00m\u001b[38;5;21;01m.\u001b[39;00m\u001b[38;5;21;01mmerge_call_interim\u001b[39;00m \u001b[38;5;28;01mimport\u001b[39;00m strategy_supports_no_merge_call\n\u001b[0;32m     13\u001b[0m \u001b[38;5;28;01mfrom\u001b[39;00m \u001b[38;5;21;01mtensorflow\u001b[39;00m\u001b[38;5;21;01m.\u001b[39;00m\u001b[38;5;21;01mpython\u001b[39;00m\u001b[38;5;21;01m.\u001b[39;00m\u001b[38;5;21;01mdistribute\u001b[39;00m\u001b[38;5;21;01m.\u001b[39;00m\u001b[38;5;21;01msharded_variable\u001b[39;00m \u001b[38;5;28;01mimport\u001b[39;00m ShardedVariable\n",
      "\u001b[1;31mModuleNotFoundError\u001b[0m: No module named 'tensorflow.python.distribute.distribution_strategy_context'"
     ]
    }
   ],
   "source": [
    "import tensorflow as tf \n",
    "from tensorflow.keras import layers\n",
    "\n",
    "X = df['ctext'].to_numpy()\n",
    "y = df['target'].to_numpy()\n",
    "\n",
    "X_train,X_test,y_train,y_test = train_test_split(X,y,\n",
    "                                                 random_state=42, \n",
    "                                                 test_size=0.2)"
   ]
  },
  {
   "cell_type": "code",
   "execution_count": null,
   "metadata": {
    "id": "5eoWJAFo-gI6"
   },
   "outputs": [],
   "source": [
    "MAX_TOKENS = 20_000\n",
    "EMBEDDING_SIZE = 64"
   ]
  },
  {
   "cell_type": "code",
   "execution_count": null,
   "metadata": {
    "id": "AaWBwnXp-gI6"
   },
   "outputs": [],
   "source": [
    "#! pip install tensorflow --upgrade\n",
    "text_vectorizer = tf.keras.layers.experimental.preprocessing.TextVectorization(max_tokens=MAX_TOKENS)\n",
    "text_vectorizer.adapt(X)"
   ]
  },
  {
   "cell_type": "code",
   "execution_count": null,
   "metadata": {
    "id": "IakUsnY_-gI6"
   },
   "outputs": [],
   "source": [
    "inputs = layers.Input(shape=(1,), dtype=tf.string)\n",
    "x = text_vectorizer(inputs)\n",
    "x = layers.Embedding(MAX_TOKENS, EMBEDDING_SIZE)(x)\n",
    "x = layers.Bidirectional(layers.LSTM(64,activation='relu',return_sequences=True))(x)\n",
    "x = layers.LSTM(32,activation='relu')(x)\n",
    "outputs = layers.Dense(1, activation='sigmoid')(x)\n",
    "\n"
   ]
  },
  {
   "cell_type": "code",
   "execution_count": null,
   "metadata": {
    "id": "1gE81krR-gI6"
   },
   "outputs": [],
   "source": [
    "model = tf.keras.models.Model(inputs, outputs)\n",
    "\n",
    "model.summary()\n",
    "model.compile(optimizer='adam',\n",
    "              loss=tf.keras.losses.BinaryCrossentropy(), \n",
    "              metrics = ['accuracy'])\n",
    "history = model.fit(X_train,y_train,\n",
    "          validation_data = (X_test,y_test),\n",
    "          epochs = 10)"
   ]
  },
  {
   "cell_type": "code",
   "execution_count": null,
   "metadata": {
    "id": "zheFD4yW-gI7"
   },
   "outputs": [],
   "source": [
    "plt.plot(history.history['val_accuracy'],'r',label='val_acc')\n",
    "plt.plot(history.history['accuracy'],'b',label='train_acc')\n",
    "plt.legend()"
   ]
  },
  {
   "cell_type": "code",
   "execution_count": null,
   "metadata": {
    "id": "6LskaUZB-gI7"
   },
   "outputs": [],
   "source": [
    "print('Accuracy of LSTM Model :')\n",
    "model.evaluate(X_test,y_test)"
   ]
  },
  {
   "cell_type": "markdown",
   "metadata": {
    "id": "keQQcqka-gI7"
   },
   "source": [
    "### 2. BERT Model"
   ]
  },
  {
   "cell_type": "markdown",
   "metadata": {
    "id": "SprvpqvA-gI7"
   },
   "source": [
    "#### Necessary Imports"
   ]
  },
  {
   "cell_type": "code",
   "execution_count": null,
   "metadata": {
    "id": "vz_dOJka-gI7"
   },
   "outputs": [],
   "source": [
    "from sklearn.model_selection import train_test_split\n",
    "from tensorflow.keras.layers import Dense, Input\n",
    "from tensorflow.keras.optimizers import Adam\n",
    "from tensorflow.keras.models import Model\n",
    "from tensorflow.keras.callbacks import ModelCheckpoint\n",
    "from kaggle_datasets import KaggleDatasets\n",
    "import transformers as tfm"
   ]
  },
  {
   "cell_type": "markdown",
   "metadata": {
    "id": "HNsUMNlZ-gI7"
   },
   "source": [
    "#### Helper Functions"
   ]
  },
  {
   "cell_type": "code",
   "execution_count": null,
   "metadata": {
    "id": "w93K9oYS-gI7"
   },
   "outputs": [],
   "source": [
    "def encode(texts, tokenizer, max_len=64):\n",
    "    tokens = tokenizer.batch_encode_plus(\n",
    "        texts, max_length=max_len, pad_to_max_length=True\n",
    "    )\n",
    "    return np.array(tokens['input_ids'])"
   ]
  },
  {
   "cell_type": "code",
   "execution_count": null,
   "metadata": {
    "id": "2V2ak8GJ-gI7"
   },
   "outputs": [],
   "source": [
    "def build_model(transformer, max_len=512):\n",
    "    input_word_ids = Input(shape=(max_len,), dtype=tf.int32, name=\"input_word_ids\")\n",
    "    sequence_output = transformer(input_word_ids)[0]\n",
    "    cls_token = sequence_output[:, 0, :]\n",
    "    out = Dense(1, activation='sigmoid')(cls_token)\n",
    "    \n",
    "    model = Model(inputs=input_word_ids, outputs=out)\n",
    "    model.compile(Adam(lr=1e-5), loss='binary_crossentropy', metrics=['accuracy'])\n",
    "    \n",
    "    return model"
   ]
  },
  {
   "cell_type": "markdown",
   "metadata": {
    "id": "gxLUJDiH-gI7"
   },
   "source": [
    "### Configure TPU and define constants"
   ]
  },
  {
   "cell_type": "code",
   "execution_count": null,
   "metadata": {
    "id": "acuItkUf-gI7"
   },
   "outputs": [],
   "source": [
    "AUTO = tf.data.experimental.AUTOTUNE\n",
    "\n",
    "# Create strategy from tpu\n",
    "tpu = tf.distribute.cluster_resolver.TPUClusterResolver()\n",
    "tf.config.experimental_connect_to_cluster(tpu)\n",
    "tf.tpu.experimental.initialize_tpu_system(tpu)\n",
    "strategy = tf.distribute.experimental.TPUStrategy(tpu)"
   ]
  },
  {
   "cell_type": "markdown",
   "metadata": {
    "id": "FGwlBUzz-gI7"
   },
   "source": [
    "#### DATA LOADING"
   ]
  },
  {
   "cell_type": "code",
   "execution_count": null,
   "metadata": {
    "id": "8bebO2lg-gI7"
   },
   "outputs": [],
   "source": [
    "MODEL_DIR = \"/kaggle/input/huggingface-bert/\"\n",
    "EPOCHS = 12\n",
    "MAX_LEN = 64\n",
    "BATCH_SIZE = 16 * strategy.num_replicas_in_sync"
   ]
  },
  {
   "cell_type": "code",
   "execution_count": null,
   "metadata": {
    "id": "t9LY1Fuh-gI7"
   },
   "outputs": [],
   "source": [
    "# train data : 80% & validation data : 20%\n",
    "train, valid = train_test_split(df, train_size=0.80, random_state=42)\n",
    "test = test_df\n",
    "tokenizer = tfm.BertTokenizerFast.from_pretrained(MODEL_DIR + 'bert-large-uncased')\n",
    "\n",
    "train_input = encode(train.ctext.tolist(), tokenizer, max_len=MAX_LEN)\n",
    "valid_input = encode(valid.ctext.tolist(), tokenizer, max_len=MAX_LEN)\n",
    "test_input = encode(test.ctext.tolist(), tokenizer, max_len=MAX_LEN)\n",
    "\n",
    "train_labels = train.target.values\n",
    "valid_labels = valid.target.values"
   ]
  },
  {
   "cell_type": "code",
   "execution_count": null,
   "metadata": {
    "id": "dU0cD3mR-gI7"
   },
   "outputs": [],
   "source": [
    "train_dataset = (\n",
    "    tf.data.Dataset\n",
    "    .from_tensor_slices((train_input, train_labels))\n",
    "    .repeat()\n",
    "    .shuffle(2048)\n",
    "    .batch(BATCH_SIZE)\n",
    "    .prefetch(AUTO)\n",
    ")\n",
    "\n",
    "valid_dataset = (\n",
    "    tf.data.Dataset\n",
    "    .from_tensor_slices((valid_input, valid_labels))\n",
    "    .batch(BATCH_SIZE)\n",
    "    .cache()\n",
    "    .prefetch(AUTO)\n",
    ")"
   ]
  },
  {
   "cell_type": "markdown",
   "metadata": {
    "id": "f7i0IZEv-gI7"
   },
   "source": [
    "### Load model & train"
   ]
  },
  {
   "cell_type": "code",
   "execution_count": null,
   "metadata": {
    "id": "XEWqak1P-gI7"
   },
   "outputs": [],
   "source": [
    "%%time\n",
    "with strategy.scope():\n",
    "    transformer_layer = tfm.TFBertModel.from_pretrained(MODEL_DIR + 'bert-large-uncased')\n",
    "    model = build_model(transformer_layer, max_len=MAX_LEN)\n",
    "model.summary()"
   ]
  },
  {
   "cell_type": "code",
   "execution_count": null,
   "metadata": {
    "id": "Bunzu1uC-gI8"
   },
   "outputs": [],
   "source": [
    "N_STEPS = train_input.shape[0] // BATCH_SIZE\n",
    "train_history = model.fit(\n",
    "    train_dataset,\n",
    "    steps_per_epoch=N_STEPS,\n",
    "    epochs=EPOCHS,\n",
    "    validation_data=valid_dataset\n",
    ")"
   ]
  },
  {
   "cell_type": "markdown",
   "metadata": {
    "id": "awo1TQdy-gI8"
   },
   "source": [
    "### visualization"
   ]
  },
  {
   "cell_type": "code",
   "execution_count": null,
   "metadata": {
    "id": "LCfI0HHs-gI8"
   },
   "outputs": [],
   "source": [
    "plt.plot(train_history.history['loss'], label='train')\n",
    "plt.plot(train_history.history['val_loss'], label='test')\n",
    "plt.legend()\n",
    "plt.show()"
   ]
  },
  {
   "cell_type": "code",
   "execution_count": null,
   "metadata": {
    "id": "GVYvLOtR-gI8"
   },
   "outputs": [],
   "source": []
  },
  {
   "cell_type": "code",
   "execution_count": null,
   "metadata": {
    "id": "9qyV6PMH-gI8"
   },
   "outputs": [],
   "source": []
  }
 ],
 "metadata": {
  "kernelspec": {
   "display_name": "Python 3 (ipykernel)",
   "language": "python",
   "name": "python3"
  },
  "language_info": {
   "codemirror_mode": {
    "name": "ipython",
    "version": 3
   },
   "file_extension": ".py",
   "mimetype": "text/x-python",
   "name": "python",
   "nbconvert_exporter": "python",
   "pygments_lexer": "ipython3",
   "version": "3.9.12"
  }
 },
 "nbformat": 4,
 "nbformat_minor": 4
}
