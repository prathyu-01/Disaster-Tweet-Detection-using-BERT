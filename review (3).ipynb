{
 "cells": [
  {
   "cell_type": "code",
   "execution_count": 1,
   "id": "3857bb79",
   "metadata": {
    "_cell_guid": "b1076dfc-b9ad-4769-8c92-a6c4dae69d19",
    "_uuid": "8f2839f25d086af736a60e9eeb907d3b93b6e0e5",
    "execution": {
     "iopub.execute_input": "2024-05-21T10:42:50.517177Z",
     "iopub.status.busy": "2024-05-21T10:42:50.516447Z",
     "iopub.status.idle": "2024-05-21T10:42:50.521078Z",
     "shell.execute_reply": "2024-05-21T10:42:50.520304Z"
    },
    "id": "qLF-McHR-gIn",
    "papermill": {
     "duration": 0.026362,
     "end_time": "2024-05-21T10:42:50.522980",
     "exception": false,
     "start_time": "2024-05-21T10:42:50.496618",
     "status": "completed"
    },
    "tags": []
   },
   "outputs": [],
   "source": [
    "# !pip install nltk\n",
    "# !pip install --upgrade pip\n",
    "# !pip install --upgrade tensorflow"
   ]
  },
  {
   "cell_type": "code",
   "execution_count": 2,
   "id": "89b9a790",
   "metadata": {
    "execution": {
     "iopub.execute_input": "2024-05-21T10:42:50.559846Z",
     "iopub.status.busy": "2024-05-21T10:42:50.559600Z",
     "iopub.status.idle": "2024-05-21T10:42:52.909276Z",
     "shell.execute_reply": "2024-05-21T10:42:52.908229Z"
    },
    "papermill": {
     "duration": 2.370545,
     "end_time": "2024-05-21T10:42:52.911639",
     "exception": false,
     "start_time": "2024-05-21T10:42:50.541094",
     "status": "completed"
    },
    "tags": []
   },
   "outputs": [
    {
     "name": "stdout",
     "output_type": "stream",
     "text": [
      "[nltk_data] Downloading package words to /usr/share/nltk_data...\n",
      "[nltk_data]   Package words is already up-to-date!\n"
     ]
    }
   ],
   "source": [
    "import re\n",
    "import os\n",
    "import string\n",
    "import unicodedata\n",
    "\n",
    "import numpy as np\n",
    "import pandas as pd\n",
    "import nltk\n",
    "nltk.download('words')\n",
    "import seaborn as sns\n",
    "import matplotlib.pyplot as plt\n",
    "\n",
    "from nltk.stem.porter import PorterStemmer\n",
    "from nltk.corpus import words\n",
    "word_dict = words.words()\n",
    "stemmer = PorterStemmer()"
   ]
  },
  {
   "cell_type": "code",
   "execution_count": 3,
   "id": "a37a3266",
   "metadata": {
    "execution": {
     "iopub.execute_input": "2024-05-21T10:42:52.948928Z",
     "iopub.status.busy": "2024-05-21T10:42:52.948504Z",
     "iopub.status.idle": "2024-05-21T10:42:52.953427Z",
     "shell.execute_reply": "2024-05-21T10:42:52.952517Z"
    },
    "id": "RSTgXk0l-gIp",
    "papermill": {
     "duration": 0.02605,
     "end_time": "2024-05-21T10:42:52.955380",
     "exception": false,
     "start_time": "2024-05-21T10:42:52.929330",
     "status": "completed"
    },
    "tags": []
   },
   "outputs": [],
   "source": [
    "import warnings\n",
    "\n",
    "def fxn():\n",
    "    warnings.warn(\"deprecated\", DeprecationWarning)\n",
    "\n",
    "with warnings.catch_warnings():\n",
    "    warnings.simplefilter(\"ignore\")\n",
    "    fxn()"
   ]
  },
  {
   "cell_type": "markdown",
   "id": "b3fe01dd",
   "metadata": {
    "id": "UqyPpvwM-gIp",
    "papermill": {
     "duration": 0.017988,
     "end_time": "2024-05-21T10:42:52.991159",
     "exception": false,
     "start_time": "2024-05-21T10:42:52.973171",
     "status": "completed"
    },
    "tags": []
   },
   "source": [
    "# Read data"
   ]
  },
  {
   "cell_type": "code",
   "execution_count": 4,
   "id": "b8393f56",
   "metadata": {
    "execution": {
     "iopub.execute_input": "2024-05-21T10:42:53.028977Z",
     "iopub.status.busy": "2024-05-21T10:42:53.028195Z",
     "iopub.status.idle": "2024-05-21T10:42:53.135047Z",
     "shell.execute_reply": "2024-05-21T10:42:53.133997Z"
    },
    "id": "TCPbzKiE-gIq",
    "papermill": {
     "duration": 0.128309,
     "end_time": "2024-05-21T10:42:53.137427",
     "exception": false,
     "start_time": "2024-05-21T10:42:53.009118",
     "status": "completed"
    },
    "tags": []
   },
   "outputs": [
    {
     "name": "stdout",
     "output_type": "stream",
     "text": [
      "Train dataset shape: (7613, 5)\n",
      "Test dataset shape: (3263, 4)\n",
      "\n"
     ]
    },
    {
     "data": {
      "text/html": [
       "<div>\n",
       "<style scoped>\n",
       "    .dataframe tbody tr th:only-of-type {\n",
       "        vertical-align: middle;\n",
       "    }\n",
       "\n",
       "    .dataframe tbody tr th {\n",
       "        vertical-align: top;\n",
       "    }\n",
       "\n",
       "    .dataframe thead th {\n",
       "        text-align: right;\n",
       "    }\n",
       "</style>\n",
       "<table border=\"1\" class=\"dataframe\">\n",
       "  <thead>\n",
       "    <tr style=\"text-align: right;\">\n",
       "      <th></th>\n",
       "      <th>id</th>\n",
       "      <th>keyword</th>\n",
       "      <th>location</th>\n",
       "      <th>text</th>\n",
       "      <th>target</th>\n",
       "    </tr>\n",
       "  </thead>\n",
       "  <tbody>\n",
       "    <tr>\n",
       "      <th>35</th>\n",
       "      <td>53</td>\n",
       "      <td>ablaze</td>\n",
       "      <td>London, UK</td>\n",
       "      <td>On plus side LOOK AT THE SKY LAST NIGHT IT WAS...</td>\n",
       "      <td>0</td>\n",
       "    </tr>\n",
       "    <tr>\n",
       "      <th>36</th>\n",
       "      <td>54</td>\n",
       "      <td>ablaze</td>\n",
       "      <td>Pretoria</td>\n",
       "      <td>@PhDSquares #mufc they've built so much hype a...</td>\n",
       "      <td>0</td>\n",
       "    </tr>\n",
       "    <tr>\n",
       "      <th>37</th>\n",
       "      <td>55</td>\n",
       "      <td>ablaze</td>\n",
       "      <td>World Wide!!</td>\n",
       "      <td>INEC Office in Abia Set Ablaze - http://t.co/3...</td>\n",
       "      <td>1</td>\n",
       "    </tr>\n",
       "    <tr>\n",
       "      <th>38</th>\n",
       "      <td>56</td>\n",
       "      <td>ablaze</td>\n",
       "      <td>NaN</td>\n",
       "      <td>Barbados #Bridgetown JAMAICA ÛÒ Two cars set ...</td>\n",
       "      <td>1</td>\n",
       "    </tr>\n",
       "    <tr>\n",
       "      <th>39</th>\n",
       "      <td>57</td>\n",
       "      <td>ablaze</td>\n",
       "      <td>Paranaque City</td>\n",
       "      <td>Ablaze for you Lord :D</td>\n",
       "      <td>0</td>\n",
       "    </tr>\n",
       "  </tbody>\n",
       "</table>\n",
       "</div>"
      ],
      "text/plain": [
       "    id keyword        location  \\\n",
       "35  53  ablaze      London, UK   \n",
       "36  54  ablaze        Pretoria   \n",
       "37  55  ablaze    World Wide!!   \n",
       "38  56  ablaze             NaN   \n",
       "39  57  ablaze  Paranaque City   \n",
       "\n",
       "                                                 text  target  \n",
       "35  On plus side LOOK AT THE SKY LAST NIGHT IT WAS...       0  \n",
       "36  @PhDSquares #mufc they've built so much hype a...       0  \n",
       "37  INEC Office in Abia Set Ablaze - http://t.co/3...       1  \n",
       "38  Barbados #Bridgetown JAMAICA ÛÒ Two cars set ...       1  \n",
       "39                             Ablaze for you Lord :D       0  "
      ]
     },
     "metadata": {},
     "output_type": "display_data"
    }
   ],
   "source": [
    "train_df = pd.read_csv('/kaggle/input/pg-final-project-datasets/train.csv')\n",
    "test_df = pd.read_csv('/kaggle/input/pg-final-project-datasets/test.csv')\n",
    "print('Train dataset shape:', train_df.shape)\n",
    "print('Test dataset shape:', test_df.shape)\n",
    "print()\n",
    "\n",
    "train_df.head()\n",
    "display(train_df.iloc[35:40])"
   ]
  },
  {
   "cell_type": "markdown",
   "id": "19d3135f",
   "metadata": {
    "id": "twb1ng_h-gIr",
    "papermill": {
     "duration": 0.018577,
     "end_time": "2024-05-21T10:42:53.175664",
     "exception": false,
     "start_time": "2024-05-21T10:42:53.157087",
     "status": "completed"
    },
    "tags": []
   },
   "source": [
    "## Missing values"
   ]
  },
  {
   "cell_type": "code",
   "execution_count": 5,
   "id": "b74e36e3",
   "metadata": {
    "execution": {
     "iopub.execute_input": "2024-05-21T10:42:53.214967Z",
     "iopub.status.busy": "2024-05-21T10:42:53.214635Z",
     "iopub.status.idle": "2024-05-21T10:42:53.233635Z",
     "shell.execute_reply": "2024-05-21T10:42:53.232130Z"
    },
    "id": "tJYXLl2K-gIr",
    "papermill": {
     "duration": 0.04155,
     "end_time": "2024-05-21T10:42:53.235902",
     "exception": false,
     "start_time": "2024-05-21T10:42:53.194352",
     "status": "completed"
    },
    "tags": []
   },
   "outputs": [
    {
     "name": "stdout",
     "output_type": "stream",
     "text": [
      "Missing values in Training dataset\n",
      "id: 0.00%\n",
      "keyword: 0.80%\n",
      "location: 33.27%\n",
      "text: 0.00%\n",
      "target: 0.00%\n",
      "\n",
      "Missing values in Test dataset\n",
      "id: 0.00%\n",
      "keyword: 0.80%\n",
      "location: 33.86%\n",
      "text: 0.00%\n",
      "\n",
      "\n"
     ]
    }
   ],
   "source": [
    "def print_missing_values(df, name):\n",
    "    print(f'Missing values in { name}')\n",
    "    for col in df.columns:\n",
    "        col_missing = df[col].isna().sum()\n",
    "        print(f'{col}: {100*col_missing/len(df):.2f}%',)\n",
    "    print()\n",
    "print_missing_values(train_df, 'Training dataset')\n",
    "print_missing_values(test_df, 'Test dataset')\n",
    "\n",
    "print()\n",
    "\n",
    "# fill the word 'unk' to fill missing fields\n",
    "\n",
    "train_df = train_df.fillna('unk')\n",
    "test_df = test_df.fillna('unk')"
   ]
  },
  {
   "cell_type": "markdown",
   "id": "86abbeda",
   "metadata": {
    "id": "DtagCHzv-gIr",
    "papermill": {
     "duration": 0.018864,
     "end_time": "2024-05-21T10:42:53.273529",
     "exception": false,
     "start_time": "2024-05-21T10:42:53.254665",
     "status": "completed"
    },
    "tags": []
   },
   "source": [
    "## Duplicate records in dataset"
   ]
  },
  {
   "cell_type": "code",
   "execution_count": 6,
   "id": "2f31339d",
   "metadata": {
    "execution": {
     "iopub.execute_input": "2024-05-21T10:42:53.313384Z",
     "iopub.status.busy": "2024-05-21T10:42:53.313048Z",
     "iopub.status.idle": "2024-05-21T10:42:53.339906Z",
     "shell.execute_reply": "2024-05-21T10:42:53.338799Z"
    },
    "id": "20IooiDP-gIr",
    "papermill": {
     "duration": 0.049349,
     "end_time": "2024-05-21T10:42:53.342098",
     "exception": false,
     "start_time": "2024-05-21T10:42:53.292749",
     "status": "completed"
    },
    "tags": []
   },
   "outputs": [
    {
     "name": "stdout",
     "output_type": "stream",
     "text": [
      "There are 52 duplicated records in training dataset.\n",
      "There are 11 duplicated records in test dataset.\n"
     ]
    }
   ],
   "source": [
    "cols = ['text', 'target', 'keyword', 'location']\n",
    "dups_df = train_df[train_df.duplicated(subset = cols,)].sort_values(by = cols)\n",
    "print(f'There are {len(dups_df)} duplicated records in training dataset.')\n",
    "\n",
    "cols = ['text', 'keyword', 'location']\n",
    "dups_df = test_df[test_df.duplicated(subset = cols,)].sort_values(by = cols)\n",
    "print(f'There are {len(dups_df)} duplicated records in test dataset.')"
   ]
  },
  {
   "cell_type": "markdown",
   "id": "442ba0ea",
   "metadata": {
    "id": "Jbi1WKgX-gIs",
    "papermill": {
     "duration": 0.017394,
     "end_time": "2024-05-21T10:42:53.379570",
     "exception": false,
     "start_time": "2024-05-21T10:42:53.362176",
     "status": "completed"
    },
    "tags": []
   },
   "source": [
    "We should remove those duplicated records from training set."
   ]
  },
  {
   "cell_type": "code",
   "execution_count": 7,
   "id": "d0b5f6cc",
   "metadata": {
    "execution": {
     "iopub.execute_input": "2024-05-21T10:42:53.416565Z",
     "iopub.status.busy": "2024-05-21T10:42:53.416242Z",
     "iopub.status.idle": "2024-05-21T10:42:53.426234Z",
     "shell.execute_reply": "2024-05-21T10:42:53.425361Z"
    },
    "id": "dirM5wAw-gIs",
    "papermill": {
     "duration": 0.030686,
     "end_time": "2024-05-21T10:42:53.428343",
     "exception": false,
     "start_time": "2024-05-21T10:42:53.397657",
     "status": "completed"
    },
    "tags": []
   },
   "outputs": [],
   "source": [
    "cols = ['text', 'target', 'keyword', 'location']\n",
    "train_df = train_df.drop_duplicates(cols).reset_index(drop = True)"
   ]
  },
  {
   "cell_type": "markdown",
   "id": "39fe10fd",
   "metadata": {
    "id": "sIWZioQZ-gIs",
    "papermill": {
     "duration": 0.018653,
     "end_time": "2024-05-21T10:42:53.464165",
     "exception": false,
     "start_time": "2024-05-21T10:42:53.445512",
     "status": "completed"
    },
    "tags": []
   },
   "source": [
    "### Delete Duplicate tweet text"
   ]
  },
  {
   "cell_type": "code",
   "execution_count": 8,
   "id": "8d3cf73d",
   "metadata": {
    "execution": {
     "iopub.execute_input": "2024-05-21T10:42:53.502493Z",
     "iopub.status.busy": "2024-05-21T10:42:53.502166Z",
     "iopub.status.idle": "2024-05-21T10:42:53.528458Z",
     "shell.execute_reply": "2024-05-21T10:42:53.527491Z"
    },
    "id": "sDu9-VNm-gIs",
    "papermill": {
     "duration": 0.048119,
     "end_time": "2024-05-21T10:42:53.530587",
     "exception": false,
     "start_time": "2024-05-21T10:42:53.482468",
     "status": "completed"
    },
    "tags": []
   },
   "outputs": [
    {
     "name": "stdout",
     "output_type": "stream",
     "text": [
      "There is 58 duplicated tweets in training dataset.\n",
      "\n"
     ]
    },
    {
     "data": {
      "text/html": [
       "<div>\n",
       "<style scoped>\n",
       "    .dataframe tbody tr th:only-of-type {\n",
       "        vertical-align: middle;\n",
       "    }\n",
       "\n",
       "    .dataframe tbody tr th {\n",
       "        vertical-align: top;\n",
       "    }\n",
       "\n",
       "    .dataframe thead th {\n",
       "        text-align: right;\n",
       "    }\n",
       "</style>\n",
       "<table border=\"1\" class=\"dataframe\">\n",
       "  <thead>\n",
       "    <tr style=\"text-align: right;\">\n",
       "      <th></th>\n",
       "      <th>text_dup_times</th>\n",
       "      <th>keyword</th>\n",
       "      <th>target</th>\n",
       "      <th>location</th>\n",
       "    </tr>\n",
       "  </thead>\n",
       "  <tbody>\n",
       "    <tr>\n",
       "      <th>0</th>\n",
       "      <td>1</td>\n",
       "      <td>40</td>\n",
       "      <td>40</td>\n",
       "      <td>40</td>\n",
       "    </tr>\n",
       "    <tr>\n",
       "      <th>1</th>\n",
       "      <td>2</td>\n",
       "      <td>7</td>\n",
       "      <td>11</td>\n",
       "      <td>14</td>\n",
       "    </tr>\n",
       "    <tr>\n",
       "      <th>2</th>\n",
       "      <td>4</td>\n",
       "      <td>1</td>\n",
       "      <td>1</td>\n",
       "      <td>4</td>\n",
       "    </tr>\n",
       "  </tbody>\n",
       "</table>\n",
       "</div>"
      ],
      "text/plain": [
       "   text_dup_times  keyword  target  location\n",
       "0               1       40      40        40\n",
       "1               2        7      11        14\n",
       "2               4        1       1         4"
      ]
     },
     "execution_count": 8,
     "metadata": {},
     "output_type": "execute_result"
    }
   ],
   "source": [
    "cols = ['text']\n",
    "dups_df = train_df[train_df.duplicated(subset = cols)].sort_values(by = cols)\n",
    "print(f'There is {len(dups_df)} duplicated tweets in training dataset.')\n",
    "print()\n",
    "dups_df = dups_df.groupby(cols).agg({\n",
    "    'id':'count',\n",
    "    'keyword': 'nunique',\n",
    "    'target': 'nunique',\n",
    "    'location': 'nunique',\n",
    "}).reset_index().rename(columns = {'id': 'text_dup_times'})\n",
    "\n",
    "dups_df.groupby('text_dup_times').agg({\n",
    "    'keyword': 'sum',\n",
    "    'target': 'sum',\n",
    "    'location': 'sum',\n",
    "}).reset_index()"
   ]
  },
  {
   "cell_type": "markdown",
   "id": "067aed1f",
   "metadata": {
    "id": "NbDMoysw-gIt",
    "papermill": {
     "duration": 0.018097,
     "end_time": "2024-05-21T10:42:53.569622",
     "exception": false,
     "start_time": "2024-05-21T10:42:53.551525",
     "status": "completed"
    },
    "tags": []
   },
   "source": [
    "### **It looks to me that:**\n",
    "* When the same tweet is duplicated 4 time, it refers to disaster/not disaster with the same keyword in 4 locations (this can't be true). those duplicated tweets should be deleted\n",
    "* When the same tweet is duplicated 2 or 1 time, it was classified as disaster sometimes and sometimes as not a disastor. This is also noise in the data. We should delete those records but we should be careful about the label. We can elelmiate those duplicated tweets by voting on thier labels"
   ]
  },
  {
   "cell_type": "code",
   "execution_count": 9,
   "id": "69172236",
   "metadata": {
    "execution": {
     "iopub.execute_input": "2024-05-21T10:42:53.609215Z",
     "iopub.status.busy": "2024-05-21T10:42:53.608936Z",
     "iopub.status.idle": "2024-05-21T10:42:58.984555Z",
     "shell.execute_reply": "2024-05-21T10:42:58.983628Z"
    },
    "id": "knrGYyvv-gIt",
    "papermill": {
     "duration": 5.398388,
     "end_time": "2024-05-21T10:42:58.987094",
     "exception": false,
     "start_time": "2024-05-21T10:42:53.588706",
     "status": "completed"
    },
    "tags": []
   },
   "outputs": [],
   "source": [
    "train_df = train_df.groupby(by = ['text']).agg({\n",
    "    'id': 'first',\n",
    "    'location': lambda x:x.value_counts().index[0],\n",
    "    'keyword':lambda x:x.value_counts().index[0],\n",
    "    'target': lambda x:x.value_counts().index[0],\n",
    "}).reset_index()"
   ]
  },
  {
   "cell_type": "markdown",
   "id": "a6397693",
   "metadata": {
    "id": "d5tr3hYn-gIt",
    "papermill": {
     "duration": 0.019277,
     "end_time": "2024-05-21T10:42:59.025676",
     "exception": false,
     "start_time": "2024-05-21T10:42:59.006399",
     "status": "completed"
    },
    "tags": []
   },
   "source": [
    "### Target Column"
   ]
  },
  {
   "cell_type": "code",
   "execution_count": 10,
   "id": "12101c04",
   "metadata": {
    "execution": {
     "iopub.execute_input": "2024-05-21T10:42:59.067011Z",
     "iopub.status.busy": "2024-05-21T10:42:59.066653Z",
     "iopub.status.idle": "2024-05-21T10:42:59.437593Z",
     "shell.execute_reply": "2024-05-21T10:42:59.436574Z"
    },
    "id": "GnGbP2Ya-gIt",
    "papermill": {
     "duration": 0.394416,
     "end_time": "2024-05-21T10:42:59.439786",
     "exception": false,
     "start_time": "2024-05-21T10:42:59.045370",
     "status": "completed"
    },
    "tags": []
   },
   "outputs": [
    {
     "name": "stderr",
     "output_type": "stream",
     "text": [
      "/opt/conda/lib/python3.10/site-packages/seaborn/_oldcore.py:1119: FutureWarning: use_inf_as_na option is deprecated and will be removed in a future version. Convert inf values to NaN before operating instead.\n",
      "  with pd.option_context('mode.use_inf_as_na', True):\n",
      "/opt/conda/lib/python3.10/site-packages/seaborn/_oldcore.py:1075: FutureWarning: When grouping with a length-1 list-like, you will need to pass a length-1 tuple to get_group in a future version of pandas. Pass `(name,)` instead of `name` to silence this warning.\n",
      "  data_subset = grouped_data.get_group(pd_key)\n",
      "/opt/conda/lib/python3.10/site-packages/seaborn/_oldcore.py:1075: FutureWarning: When grouping with a length-1 list-like, you will need to pass a length-1 tuple to get_group in a future version of pandas. Pass `(name,)` instead of `name` to silence this warning.\n",
      "  data_subset = grouped_data.get_group(pd_key)\n",
      "/opt/conda/lib/python3.10/site-packages/seaborn/_oldcore.py:1075: FutureWarning: When grouping with a length-1 list-like, you will need to pass a length-1 tuple to get_group in a future version of pandas. Pass `(name,)` instead of `name` to silence this warning.\n",
      "  data_subset = grouped_data.get_group(pd_key)\n"
     ]
    },
    {
     "data": {
      "image/png": "[encoded data removed]",
      "text/plain": [
       "<Figure size 500x500 with 1 Axes>"
      ]
     },
     "metadata": {},
     "output_type": "display_data"
    }
   ],
   "source": [
    "sns.displot(x = 'target', hue = 'target', data = train_df, palette = ['green', 'red'], legend = False)\n",
    "plt.legend(['No disaster', 'disaster'])\n",
    "plt.show()"
   ]
  },
  {
   "cell_type": "markdown",
   "id": "b2657fef",
   "metadata": {
    "id": "-4uL7zqC-gIt",
    "papermill": {
     "duration": 0.019683,
     "end_time": "2024-05-21T10:42:59.479163",
     "exception": false,
     "start_time": "2024-05-21T10:42:59.459480",
     "status": "completed"
    },
    "tags": []
   },
   "source": [
    "### Target distribution based on keyword"
   ]
  },
  {
   "cell_type": "code",
   "execution_count": 11,
   "id": "a1cd275f",
   "metadata": {
    "execution": {
     "iopub.execute_input": "2024-05-21T10:42:59.522041Z",
     "iopub.status.busy": "2024-05-21T10:42:59.521704Z",
     "iopub.status.idle": "2024-05-21T10:43:04.038786Z",
     "shell.execute_reply": "2024-05-21T10:43:04.037819Z"
    },
    "id": "u2a7U4ft-gIu",
    "papermill": {
     "duration": 4.541784,
     "end_time": "2024-05-21T10:43:04.042347",
     "exception": false,
     "start_time": "2024-05-21T10:42:59.500563",
     "status": "completed"
    },
    "tags": []
   },
   "outputs": [
    {
     "data": {
      "text/plain": [
       "<matplotlib.legend.Legend at 0x7e6328376f20>"
      ]
     },
     "execution_count": 11,
     "metadata": {},
     "output_type": "execute_result"
    },
    {
     "data": {
      "image/png": "[encoded data removed]",
      "text/plain": [
       "<Figure size 2000x600 with 1 Axes>"
      ]
     },
     "metadata": {},
     "output_type": "display_data"
    }
   ],
   "source": [
    "df = pd.pivot_table(train_df, index = ['keyword'], columns = ['target'], values = 'id', aggfunc = 'count', fill_value = 0 ).reset_index()\n",
    "df = df.sort_values(by = [0], ascending = False)\n",
    "plt.figure(figsize = (20, 6))\n",
    "sns.barplot(y = 0, x = 'keyword', data = df, color = \"g\", alpha = 0.6, label = 'Not Disaster')\n",
    "sns.barplot(y = 1, x = 'keyword', data = df, color = 'r', alpha = 0.6, label = 'Disaster')\n",
    "plt.title('Target distribution wrt. keyword')\n",
    "plt.xlabel('cleaned keyword : ckeyword')\n",
    "plt.ylabel('Counts')\n",
    "plt.xticks(rotation = 90, fontsize = 8)\n",
    "plt.legend()"
   ]
  },
  {
   "cell_type": "code",
   "execution_count": 12,
   "id": "4c3e406b",
   "metadata": {
    "execution": {
     "iopub.execute_input": "2024-05-21T10:43:04.087098Z",
     "iopub.status.busy": "2024-05-21T10:43:04.086773Z",
     "iopub.status.idle": "2024-05-21T10:43:04.096116Z",
     "shell.execute_reply": "2024-05-21T10:43:04.095277Z"
    },
    "id": "nxKgUUH5-gIu",
    "papermill": {
     "duration": 0.034142,
     "end_time": "2024-05-21T10:43:04.098102",
     "exception": false,
     "start_time": "2024-05-21T10:43:04.063960",
     "status": "completed"
    },
    "tags": []
   },
   "outputs": [
    {
     "data": {
      "text/plain": [
       "keyword\n",
       "unk            56\n",
       "fatalities     45\n",
       "deluge         42\n",
       "armageddon     42\n",
       "damage         41\n",
       "body%20bags    41\n",
       "harm           41\n",
       "evacuate       40\n",
       "twister        40\n",
       "windstorm      40\n",
       "Name: count, dtype: int64"
      ]
     },
     "execution_count": 12,
     "metadata": {},
     "output_type": "execute_result"
    }
   ],
   "source": [
    "train_df['keyword'].value_counts()[0: 10]"
   ]
  },
  {
   "cell_type": "markdown",
   "id": "87e00b4c",
   "metadata": {
    "id": "hPYOlOZy-gIu",
    "papermill": {
     "duration": 0.021739,
     "end_time": "2024-05-21T10:43:04.140484",
     "exception": false,
     "start_time": "2024-05-21T10:43:04.118745",
     "status": "completed"
    },
    "tags": []
   },
   "source": [
    "### Target distribution based on Location"
   ]
  },
  {
   "cell_type": "code",
   "execution_count": 13,
   "id": "c1c2c39b",
   "metadata": {
    "execution": {
     "iopub.execute_input": "2024-05-21T10:43:04.222399Z",
     "iopub.status.busy": "2024-05-21T10:43:04.222017Z",
     "iopub.status.idle": "2024-05-21T10:43:05.296764Z",
     "shell.execute_reply": "2024-05-21T10:43:05.295802Z"
    },
    "id": "y9E6Ob7p-gIu",
    "papermill": {
     "duration": 1.098525,
     "end_time": "2024-05-21T10:43:05.298754",
     "exception": false,
     "start_time": "2024-05-21T10:43:04.200229",
     "status": "completed"
    },
    "tags": []
   },
   "outputs": [
    {
     "data": {
      "image/png": "[encoded data removed]",
      "text/plain": [
       "<Figure size 2000x600 with 1 Axes>"
      ]
     },
     "metadata": {},
     "output_type": "display_data"
    },
    {
     "data": {
      "text/plain": [
       "location\n",
       "unk                2482\n",
       "USA                 104\n",
       "New York             71\n",
       "United States        50\n",
       "London               45\n",
       "Canada               29\n",
       "Los Angeles, CA      26\n",
       "UK                   26\n",
       "Nigeria              23\n",
       "India                21\n",
       "Washington, DC       21\n",
       "Kenya                20\n",
       "Mumbai               20\n",
       "Worldwide            19\n",
       "Australia            18\n",
       "Chicago, IL          18\n",
       "California           17\n",
       "California, USA      15\n",
       "New York, NY         15\n",
       "Everywhere           15\n",
       "Name: count, dtype: int64"
      ]
     },
     "execution_count": 13,
     "metadata": {},
     "output_type": "execute_result"
    }
   ],
   "source": [
    "df = pd.pivot_table(train_df, index = 'location', columns = 'target', values = 'id', aggfunc = 'count', fill_value = 0).reset_index()\n",
    "df = df.sort_values(by = 0, ascending = False)\n",
    "lim = 50\n",
    "plt.figure(figsize = (20, 6))\n",
    "sns.barplot(x = 'location', y = 0, data = df.iloc[1:lim], color = 'g', alpha = 0.6, label = 'Not Disaster')\n",
    "sns.barplot(x = 'location', y = 1, data = df.iloc[1:lim], color = 'r', alpha = 0.6, label = 'Disaster')\n",
    "plt.xlabel('count')\n",
    "plt.title('Target distribution wrt. Location')\n",
    "plt.xticks(rotation = 60, fontsize = 8)\n",
    "plt.legend()\n",
    "plt.show()\n",
    "\n",
    "\n",
    "# This is just to know that dataset contains various different locations & is diverse\n",
    "train_df['location'].value_counts()[0:20]"
   ]
  },
  {
   "cell_type": "markdown",
   "id": "185ffce1",
   "metadata": {
    "id": "fv-_OxCK-gIv",
    "papermill": {
     "duration": 0.021783,
     "end_time": "2024-05-21T10:43:05.343067",
     "exception": false,
     "start_time": "2024-05-21T10:43:05.321284",
     "status": "completed"
    },
    "tags": []
   },
   "source": [
    "## Text Normalisation of tweets"
   ]
  },
  {
   "cell_type": "code",
   "execution_count": 14,
   "id": "3a74a585",
   "metadata": {
    "execution": {
     "iopub.execute_input": "2024-05-21T10:43:05.388627Z",
     "iopub.status.busy": "2024-05-21T10:43:05.388287Z",
     "iopub.status.idle": "2024-05-21T10:43:05.552265Z",
     "shell.execute_reply": "2024-05-21T10:43:05.551399Z"
    },
    "id": "lWJmk4rY-gIv",
    "papermill": {
     "duration": 0.189574,
     "end_time": "2024-05-21T10:43:05.554709",
     "exception": false,
     "start_time": "2024-05-21T10:43:05.365135",
     "status": "completed"
    },
    "tags": []
   },
   "outputs": [],
   "source": [
    "# 'text' : inbuilt attribute of dataset\n",
    "# 'ctext' : tweet text after cleaning\n",
    "\n",
    "train_df['ctext'] = train_df['text'].copy()\n",
    "\n",
    "def clean_txt(txt):\n",
    "    # normalizing the text\n",
    "    res = unicodedata.normalize('NFKC', txt)\n",
    "    # remove non_printable characters\n",
    "    res = re.sub(r'[^\\x00-\\x7F]+', r'', res)\n",
    "    # remove retweet chars\n",
    "    res = re.sub(r'^RT[\\s]+', r'', res)\n",
    "    # remove stock market tiker\n",
    "    res = re.sub(r'\\$\\w*', r'', res)\n",
    "    # replalce less, greater, and chars\n",
    "    res = re.sub(r'&lt;', r'<', res)\n",
    "    res = re.sub(r'&gt;', r'>', res)\n",
    "    res = re.sub(r'&amp;?', r'and', res)\n",
    "    # remove html tags\n",
    "    res = re.sub(r'<[^>]*?>', r'', res)\n",
    "    # separate contected hashtags\n",
    "    res = re.sub(r'#', r' #', res)\n",
    "    res = re.sub(r'\\s#\\s', r' ', res)\n",
    "    return res\n",
    "\n",
    "train_df['ctext'] = train_df['ctext'].apply(clean_txt )"
   ]
  },
  {
   "cell_type": "markdown",
   "id": "012a12a7",
   "metadata": {
    "id": "qjNav3-a-gIv",
    "papermill": {
     "duration": 0.026818,
     "end_time": "2024-05-21T10:43:05.606525",
     "exception": false,
     "start_time": "2024-05-21T10:43:05.579707",
     "status": "completed"
    },
    "tags": []
   },
   "source": [
    "### URL distribution visualisation"
   ]
  },
  {
   "cell_type": "code",
   "execution_count": 15,
   "id": "769c37d7",
   "metadata": {
    "execution": {
     "iopub.execute_input": "2024-05-21T10:43:05.667847Z",
     "iopub.status.busy": "2024-05-21T10:43:05.667379Z",
     "iopub.status.idle": "2024-05-21T10:43:06.337974Z",
     "shell.execute_reply": "2024-05-21T10:43:06.336975Z"
    },
    "id": "XvWRIQ1X-gIw",
    "papermill": {
     "duration": 0.704908,
     "end_time": "2024-05-21T10:43:06.340234",
     "exception": false,
     "start_time": "2024-05-21T10:43:05.635326",
     "status": "completed"
    },
    "tags": []
   },
   "outputs": [
    {
     "name": "stderr",
     "output_type": "stream",
     "text": [
      "/opt/conda/lib/python3.10/site-packages/seaborn/_oldcore.py:1119: FutureWarning: use_inf_as_na option is deprecated and will be removed in a future version. Convert inf values to NaN before operating instead.\n",
      "  with pd.option_context('mode.use_inf_as_na', True):\n",
      "/opt/conda/lib/python3.10/site-packages/seaborn/_oldcore.py:1075: FutureWarning: When grouping with a length-1 list-like, you will need to pass a length-1 tuple to get_group in a future version of pandas. Pass `(name,)` instead of `name` to silence this warning.\n",
      "  data_subset = grouped_data.get_group(pd_key)\n",
      "/opt/conda/lib/python3.10/site-packages/seaborn/_oldcore.py:1075: FutureWarning: When grouping with a length-1 list-like, you will need to pass a length-1 tuple to get_group in a future version of pandas. Pass `(name,)` instead of `name` to silence this warning.\n",
      "  data_subset = grouped_data.get_group(pd_key)\n",
      "/opt/conda/lib/python3.10/site-packages/seaborn/_oldcore.py:1075: FutureWarning: When grouping with a length-1 list-like, you will need to pass a length-1 tuple to get_group in a future version of pandas. Pass `(name,)` instead of `name` to silence this warning.\n",
      "  data_subset = grouped_data.get_group(pd_key)\n"
     ]
    },
    {
     "data": {
      "image/png": "[encoded data removed]",
      "text/plain": [
       "<Figure size 500x500 with 1 Axes>"
      ]
     },
     "metadata": {},
     "output_type": "display_data"
    }
   ],
   "source": [
    "regex = r'http\\S+|www\\.\\S+'\n",
    "sub_str = r' website '\n",
    "def apply_regex(txt, regex, sub_str):\n",
    "    matches = re.findall(regex, txt)\n",
    "    if matches:\n",
    "        ctxt = re.sub(regex, sub_str, txt)\n",
    "        return ctxt, len(matches)\n",
    "    else:\n",
    "        return txt, 0\n",
    "res = train_df['ctext'].apply(apply_regex, args = [regex, sub_str],)\n",
    "train_df['ctext'] = res.apply(lambda t:t[0])\n",
    "train_df['url'] = res.apply(lambda t:t[1])\n",
    "sns.displot(x = 'url', hue = 'target', data = train_df, palette = ['g', 'r'], kind = 'hist', legend = False)\n",
    "plt.legend(['No Disaster', 'Disaster'])\n",
    "plt.title('Target distribution wrt. number of urls in the tweet')\n",
    "plt.show()\n",
    "#print(train_df)"
   ]
  },
  {
   "cell_type": "markdown",
   "id": "cfc6ba76",
   "metadata": {
    "id": "-bfCgsrV-gIw",
    "papermill": {
     "duration": 0.024356,
     "end_time": "2024-05-21T10:43:06.390205",
     "exception": false,
     "start_time": "2024-05-21T10:43:06.365849",
     "status": "completed"
    },
    "tags": []
   },
   "source": [
    "### Analysis of effect of having url in the tweet\n",
    "* When people share no urls in the tweet, it is more likely to be not about a disaster\n",
    "* When people share one url in the tweet, it is more likely to be about a disaster\n"
   ]
  },
  {
   "cell_type": "markdown",
   "id": "7a4a6dda",
   "metadata": {
    "id": "FMUlMGOw-gIw",
    "papermill": {
     "duration": 0.022994,
     "end_time": "2024-05-21T10:43:06.436833",
     "exception": false,
     "start_time": "2024-05-21T10:43:06.413839",
     "status": "completed"
    },
    "tags": []
   },
   "source": [
    "### Hash tags and mentions"
   ]
  },
  {
   "cell_type": "code",
   "execution_count": 16,
   "id": "199db970",
   "metadata": {
    "execution": {
     "iopub.execute_input": "2024-05-21T10:43:06.485020Z",
     "iopub.status.busy": "2024-05-21T10:43:06.484723Z",
     "iopub.status.idle": "2024-05-21T10:43:06.968843Z",
     "shell.execute_reply": "2024-05-21T10:43:06.967923Z"
    },
    "id": "owpZckfZ-gIw",
    "papermill": {
     "duration": 0.510826,
     "end_time": "2024-05-21T10:43:06.971305",
     "exception": false,
     "start_time": "2024-05-21T10:43:06.460479",
     "status": "completed"
    },
    "tags": []
   },
   "outputs": [
    {
     "name": "stderr",
     "output_type": "stream",
     "text": [
      "/opt/conda/lib/python3.10/site-packages/seaborn/_oldcore.py:1119: FutureWarning: use_inf_as_na option is deprecated and will be removed in a future version. Convert inf values to NaN before operating instead.\n",
      "  with pd.option_context('mode.use_inf_as_na', True):\n",
      "/opt/conda/lib/python3.10/site-packages/seaborn/_oldcore.py:1075: FutureWarning: When grouping with a length-1 list-like, you will need to pass a length-1 tuple to get_group in a future version of pandas. Pass `(name,)` instead of `name` to silence this warning.\n",
      "  data_subset = grouped_data.get_group(pd_key)\n",
      "/opt/conda/lib/python3.10/site-packages/seaborn/_oldcore.py:1075: FutureWarning: When grouping with a length-1 list-like, you will need to pass a length-1 tuple to get_group in a future version of pandas. Pass `(name,)` instead of `name` to silence this warning.\n",
      "  data_subset = grouped_data.get_group(pd_key)\n",
      "/opt/conda/lib/python3.10/site-packages/seaborn/_oldcore.py:1075: FutureWarning: When grouping with a length-1 list-like, you will need to pass a length-1 tuple to get_group in a future version of pandas. Pass `(name,)` instead of `name` to silence this warning.\n",
      "  data_subset = grouped_data.get_group(pd_key)\n"
     ]
    },
    {
     "data": {
      "image/png": "[encoded data removed]",
      "text/plain": [
       "<Figure size 500x500 with 1 Axes>"
      ]
     },
     "metadata": {},
     "output_type": "display_data"
    }
   ],
   "source": [
    "def validate_hashtag(hashtags):\n",
    "    res = []\n",
    "    for hashtag in hashtags:\n",
    "        valid = re.findall(r'[a-zA-Z]+', hashtag)\n",
    "        if valid:\n",
    "            res.append(re.sub(r'[^\\w]*', r'', hashtag).lower())\n",
    "        else:\n",
    "            res.append('unk')\n",
    "    return res\n",
    "\n",
    "def extract_hashtags(txt):\n",
    "    regex = r'#+\\s*\\S+'\n",
    "    hash_tag_matches = re.findall(regex, txt)\n",
    "    if hash_tag_matches:\n",
    "        ctxt = re.sub(r'#+\\s*(?P<hash>\\S+)', r'\\g<hash>', txt)\n",
    "        validated_hash = list(set(validate_hashtag(hash_tag_matches)))\n",
    "        return ctxt, len(validated_hash), validated_hash\n",
    "    else:\n",
    "        return txt, 0, ['none']\n",
    "\n",
    "res = train_df['ctext'].apply(extract_hashtags)\n",
    "train_df['ctext'] = res.apply(lambda t:t[0])\n",
    "train_df['hashtag_num'] = res.apply(lambda t:t[1])\n",
    "train_df['hashtags'] = res.apply(lambda t:t[2])\n",
    "sns.displot(x = 'hashtag_num', hue = 'target', data = train_df, palette = ['g', 'r'], kind = 'hist', legend = False)\n",
    "plt.legend(['No Disaster', 'Disaster'])\n",
    "plt.title('Target distribution wrt. number of hashtags in the tweet')\n",
    "plt.show()\n",
    "#print(train_df)"
   ]
  },
  {
   "cell_type": "markdown",
   "id": "bababc6a",
   "metadata": {
    "id": "8kLw4oY6-gIw",
    "papermill": {
     "duration": 0.024495,
     "end_time": "2024-05-21T10:43:07.021941",
     "exception": false,
     "start_time": "2024-05-21T10:43:06.997446",
     "status": "completed"
    },
    "tags": []
   },
   "source": [
    "## How many words do exist in the dictionary"
   ]
  },
  {
   "cell_type": "code",
   "execution_count": 17,
   "id": "5eda4cf9",
   "metadata": {
    "execution": {
     "iopub.execute_input": "2024-05-21T10:43:07.073030Z",
     "iopub.status.busy": "2024-05-21T10:43:07.072692Z",
     "iopub.status.idle": "2024-05-21T10:43:10.457109Z",
     "shell.execute_reply": "2024-05-21T10:43:10.456123Z"
    },
    "id": "CSKdmpgE-gIx",
    "papermill": {
     "duration": 3.41274,
     "end_time": "2024-05-21T10:43:10.459240",
     "exception": false,
     "start_time": "2024-05-21T10:43:07.046500",
     "status": "completed"
    },
    "tags": []
   },
   "outputs": [
    {
     "name": "stdout",
     "output_type": "stream",
     "text": [
      "Tweets contain unknown words: 71.64%\n",
      "After stemming! Tweets contain unknown words: 69.92%\n"
     ]
    },
    {
     "data": {
      "text/plain": [
       "['Dr',\n",
       " 'usagov',\n",
       " 'lynchonsport',\n",
       " 'lnp',\n",
       " 'algeria',\n",
       " 'pornhub',\n",
       " 'stuartbroad8',\n",
       " 'offici',\n",
       " 'nafeezahm',\n",
       " 'prais',\n",
       " 'ypre',\n",
       " 'mdt',\n",
       " 'greatest',\n",
       " 'santanico',\n",
       " 'chem']"
      ]
     },
     "execution_count": 17,
     "metadata": {},
     "output_type": "execute_result"
    }
   ],
   "source": [
    "#print(train_df['ctext'].to_string())\n",
    "txt = ' '.join(train_df.ctext.values)\n",
    "txt = re.sub(r'[%s]' % re.escape(string.punctuation), r' ', txt)\n",
    "txt = re.sub(r'\\s+', r' ', txt)\n",
    "tokens = set(txt.split())\n",
    "word_dict = set(word_dict)\n",
    "not_word_tokens = tokens - tokens.intersection(word_dict)\n",
    "\n",
    "print(f'Tweets contain unknown words: {100 * len(not_word_tokens) / len(tokens):.2f}%')\n",
    "\n",
    "tokens = set([stemmer.stem(w) for w in txt.split()])\n",
    "word_dict = set(word_dict)\n",
    "not_word_tokens = tokens - tokens.intersection(word_dict)\n",
    "\n",
    "print(f'After stemming! Tweets contain unknown words: {100 * len(not_word_tokens) / len(tokens):.2f}%')\n",
    "\n",
    "# list of non word tokens\n",
    "list(not_word_tokens)[:15]"
   ]
  },
  {
   "cell_type": "markdown",
   "id": "c35b463d",
   "metadata": {
    "id": "jfLiyU-t-gI0",
    "papermill": {
     "duration": 0.024101,
     "end_time": "2024-05-21T10:43:10.508554",
     "exception": false,
     "start_time": "2024-05-21T10:43:10.484453",
     "status": "completed"
    },
    "tags": []
   },
   "source": [
    "\n",
    "Unknown word exists due to:\n",
    "* stemming errors\n",
    "* name of places\n",
    "* name of persons\n",
    "* mis-spelling\n",
    "* concatenated words\n",
    "* abbreviations"
   ]
  },
  {
   "cell_type": "markdown",
   "id": "af33118f",
   "metadata": {
    "id": "tN24E8J2-gI1",
    "papermill": {
     "duration": 0.023723,
     "end_time": "2024-05-21T10:43:10.557912",
     "exception": false,
     "start_time": "2024-05-21T10:43:10.534189",
     "status": "completed"
    },
    "tags": []
   },
   "source": [
    "\n",
    "## DISASTER TWEETS CLEANING"
   ]
  },
  {
   "cell_type": "code",
   "execution_count": 18,
   "id": "2c46381a",
   "metadata": {
    "execution": {
     "iopub.execute_input": "2024-05-21T10:43:10.609525Z",
     "iopub.status.busy": "2024-05-21T10:43:10.608786Z",
     "iopub.status.idle": "2024-05-21T10:43:24.245836Z",
     "shell.execute_reply": "2024-05-21T10:43:24.244742Z"
    },
    "id": "Jw7WXQ_q-gI1",
    "papermill": {
     "duration": 13.664803,
     "end_time": "2024-05-21T10:43:24.248472",
     "exception": false,
     "start_time": "2024-05-21T10:43:10.583669",
     "status": "completed"
    },
    "tags": []
   },
   "outputs": [
    {
     "name": "stdout",
     "output_type": "stream",
     "text": [
      "Requirement already satisfied: beautifulsoup4 in /opt/conda/lib/python3.10/site-packages (4.12.2)\r\n",
      "Requirement already satisfied: soupsieve>1.2 in /opt/conda/lib/python3.10/site-packages (from beautifulsoup4) (2.5)\r\n"
     ]
    }
   ],
   "source": [
    "!pip install beautifulsoup4"
   ]
  },
  {
   "cell_type": "code",
   "execution_count": 19,
   "id": "12e01250",
   "metadata": {
    "execution": {
     "iopub.execute_input": "2024-05-21T10:43:24.301487Z",
     "iopub.status.busy": "2024-05-21T10:43:24.301080Z",
     "iopub.status.idle": "2024-05-21T10:43:37.960445Z",
     "shell.execute_reply": "2024-05-21T10:43:37.959200Z"
    },
    "papermill": {
     "duration": 13.688827,
     "end_time": "2024-05-21T10:43:37.962902",
     "exception": false,
     "start_time": "2024-05-21T10:43:24.274075",
     "status": "completed"
    },
    "tags": []
   },
   "outputs": [
    {
     "name": "stdout",
     "output_type": "stream",
     "text": [
      "Collecting ekphrasis\r\n",
      "  Downloading ekphrasis-0.5.4-py3-none-any.whl.metadata (610 bytes)\r\n",
      "Requirement already satisfied: termcolor in /opt/conda/lib/python3.10/site-packages (from ekphrasis) (2.4.0)\r\n",
      "Requirement already satisfied: tqdm in /opt/conda/lib/python3.10/site-packages (from ekphrasis) (4.66.1)\r\n",
      "Requirement already satisfied: colorama in /opt/conda/lib/python3.10/site-packages (from ekphrasis) (0.4.6)\r\n",
      "Requirement already satisfied: ujson in /opt/conda/lib/python3.10/site-packages (from ekphrasis) (5.9.0)\r\n",
      "Requirement already satisfied: matplotlib in /opt/conda/lib/python3.10/site-packages (from ekphrasis) (3.7.5)\r\n",
      "Requirement already satisfied: nltk in /opt/conda/lib/python3.10/site-packages (from ekphrasis) (3.2.4)\r\n",
      "Collecting ftfy (from ekphrasis)\r\n",
      "  Downloading ftfy-6.2.0-py3-none-any.whl.metadata (7.3 kB)\r\n",
      "Requirement already satisfied: numpy in /opt/conda/lib/python3.10/site-packages (from ekphrasis) (1.26.4)\r\n",
      "Requirement already satisfied: wcwidth<0.3.0,>=0.2.12 in /opt/conda/lib/python3.10/site-packages (from ftfy->ekphrasis) (0.2.13)\r\n",
      "Requirement already satisfied: contourpy>=1.0.1 in /opt/conda/lib/python3.10/site-packages (from matplotlib->ekphrasis) (1.2.0)\r\n",
      "Requirement already satisfied: cycler>=0.10 in /opt/conda/lib/python3.10/site-packages (from matplotlib->ekphrasis) (0.12.1)\r\n",
      "Requirement already satisfied: fonttools>=4.22.0 in /opt/conda/lib/python3.10/site-packages (from matplotlib->ekphrasis) (4.47.0)\r\n",
      "Requirement already satisfied: kiwisolver>=1.0.1 in /opt/conda/lib/python3.10/site-packages (from matplotlib->ekphrasis) (1.4.5)\r\n",
      "Requirement already satisfied: packaging>=20.0 in /opt/conda/lib/python3.10/site-packages (from matplotlib->ekphrasis) (21.3)\r\n",
      "Requirement already satisfied: pillow>=6.2.0 in /opt/conda/lib/python3.10/site-packages (from matplotlib->ekphrasis) (9.5.0)\r\n",
      "Requirement already satisfied: pyparsing>=2.3.1 in /opt/conda/lib/python3.10/site-packages (from matplotlib->ekphrasis) (3.1.1)\r\n",
      "Requirement already satisfied: python-dateutil>=2.7 in /opt/conda/lib/python3.10/site-packages (from matplotlib->ekphrasis) (2.9.0.post0)\r\n",
      "Requirement already satisfied: six in /opt/conda/lib/python3.10/site-packages (from nltk->ekphrasis) (1.16.0)\r\n",
      "Downloading ekphrasis-0.5.4-py3-none-any.whl (83 kB)\r\n",
      "\u001b[2K   \u001b[90m━━━━━━━━━━━━━━━━━━━━━━━━━━━━━━━━━━━━━━━━\u001b[0m \u001b[32m83.8/83.8 kB\u001b[0m \u001b[31m1.0 MB/s\u001b[0m eta \u001b[36m0:00:00\u001b[0m\r\n",
      "\u001b[?25hDownloading ftfy-6.2.0-py3-none-any.whl (54 kB)\r\n",
      "\u001b[2K   \u001b[90m━━━━━━━━━━━━━━━━━━━━━━━━━━━━━━━━━━━━━━━━\u001b[0m \u001b[32m54.4/54.4 kB\u001b[0m \u001b[31m3.2 MB/s\u001b[0m eta \u001b[36m0:00:00\u001b[0m\r\n",
      "\u001b[?25hInstalling collected packages: ftfy, ekphrasis\r\n",
      "Successfully installed ekphrasis-0.5.4 ftfy-6.2.0\r\n"
     ]
    }
   ],
   "source": [
    "!pip install ekphrasis"
   ]
  },
  {
   "cell_type": "code",
   "execution_count": 20,
   "id": "eff7e1a3",
   "metadata": {
    "execution": {
     "iopub.execute_input": "2024-05-21T10:43:38.016629Z",
     "iopub.status.busy": "2024-05-21T10:43:38.016225Z",
     "iopub.status.idle": "2024-05-21T10:43:51.016852Z",
     "shell.execute_reply": "2024-05-21T10:43:51.015640Z"
    },
    "papermill": {
     "duration": 13.030274,
     "end_time": "2024-05-21T10:43:51.019705",
     "exception": false,
     "start_time": "2024-05-21T10:43:37.989431",
     "status": "completed"
    },
    "tags": []
   },
   "outputs": [
    {
     "name": "stdout",
     "output_type": "stream",
     "text": [
      "Requirement already satisfied: spacy in /opt/conda/lib/python3.10/site-packages (3.7.3)\r\n",
      "Requirement already satisfied: spacy-legacy<3.1.0,>=3.0.11 in /opt/conda/lib/python3.10/site-packages (from spacy) (3.0.12)\r\n",
      "Requirement already satisfied: spacy-loggers<2.0.0,>=1.0.0 in /opt/conda/lib/python3.10/site-packages (from spacy) (1.0.5)\r\n",
      "Requirement already satisfied: murmurhash<1.1.0,>=0.28.0 in /opt/conda/lib/python3.10/site-packages (from spacy) (1.0.10)\r\n",
      "Requirement already satisfied: cymem<2.1.0,>=2.0.2 in /opt/conda/lib/python3.10/site-packages (from spacy) (2.0.8)\r\n",
      "Requirement already satisfied: preshed<3.1.0,>=3.0.2 in /opt/conda/lib/python3.10/site-packages (from spacy) (3.0.9)\r\n",
      "Requirement already satisfied: thinc<8.3.0,>=8.2.2 in /opt/conda/lib/python3.10/site-packages (from spacy) (8.2.2)\r\n",
      "Requirement already satisfied: wasabi<1.2.0,>=0.9.1 in /opt/conda/lib/python3.10/site-packages (from spacy) (1.1.2)\r\n",
      "Requirement already satisfied: srsly<3.0.0,>=2.4.3 in /opt/conda/lib/python3.10/site-packages (from spacy) (2.4.8)\r\n",
      "Requirement already satisfied: catalogue<2.1.0,>=2.0.6 in /opt/conda/lib/python3.10/site-packages (from spacy) (2.0.10)\r\n",
      "Requirement already satisfied: weasel<0.4.0,>=0.1.0 in /opt/conda/lib/python3.10/site-packages (from spacy) (0.3.4)\r\n",
      "Requirement already satisfied: typer<0.10.0,>=0.3.0 in /opt/conda/lib/python3.10/site-packages (from spacy) (0.9.0)\r\n",
      "Requirement already satisfied: smart-open<7.0.0,>=5.2.1 in /opt/conda/lib/python3.10/site-packages (from spacy) (6.4.0)\r\n",
      "Requirement already satisfied: tqdm<5.0.0,>=4.38.0 in /opt/conda/lib/python3.10/site-packages (from spacy) (4.66.1)\r\n",
      "Requirement already satisfied: requests<3.0.0,>=2.13.0 in /opt/conda/lib/python3.10/site-packages (from spacy) (2.31.0)\r\n",
      "Requirement already satisfied: pydantic!=1.8,!=1.8.1,<3.0.0,>=1.7.4 in /opt/conda/lib/python3.10/site-packages (from spacy) (2.5.3)\r\n",
      "Requirement already satisfied: jinja2 in /opt/conda/lib/python3.10/site-packages (from spacy) (3.1.2)\r\n",
      "Requirement already satisfied: setuptools in /opt/conda/lib/python3.10/site-packages (from spacy) (69.0.3)\r\n",
      "Requirement already satisfied: packaging>=20.0 in /opt/conda/lib/python3.10/site-packages (from spacy) (21.3)\r\n",
      "Requirement already satisfied: langcodes<4.0.0,>=3.2.0 in /opt/conda/lib/python3.10/site-packages (from spacy) (3.3.0)\r\n",
      "Requirement already satisfied: numpy>=1.19.0 in /opt/conda/lib/python3.10/site-packages (from spacy) (1.26.4)\r\n",
      "Requirement already satisfied: pyparsing!=3.0.5,>=2.0.2 in /opt/conda/lib/python3.10/site-packages (from packaging>=20.0->spacy) (3.1.1)\r\n",
      "Requirement already satisfied: annotated-types>=0.4.0 in /opt/conda/lib/python3.10/site-packages (from pydantic!=1.8,!=1.8.1,<3.0.0,>=1.7.4->spacy) (0.6.0)\r\n",
      "Requirement already satisfied: pydantic-core==2.14.6 in /opt/conda/lib/python3.10/site-packages (from pydantic!=1.8,!=1.8.1,<3.0.0,>=1.7.4->spacy) (2.14.6)\r\n",
      "Requirement already satisfied: typing-extensions>=4.6.1 in /opt/conda/lib/python3.10/site-packages (from pydantic!=1.8,!=1.8.1,<3.0.0,>=1.7.4->spacy) (4.9.0)\r\n",
      "Requirement already satisfied: charset-normalizer<4,>=2 in /opt/conda/lib/python3.10/site-packages (from requests<3.0.0,>=2.13.0->spacy) (3.3.2)\r\n",
      "Requirement already satisfied: idna<4,>=2.5 in /opt/conda/lib/python3.10/site-packages (from requests<3.0.0,>=2.13.0->spacy) (3.6)\r\n",
      "Requirement already satisfied: urllib3<3,>=1.21.1 in /opt/conda/lib/python3.10/site-packages (from requests<3.0.0,>=2.13.0->spacy) (1.26.18)\r\n",
      "Requirement already satisfied: certifi>=2017.4.17 in /opt/conda/lib/python3.10/site-packages (from requests<3.0.0,>=2.13.0->spacy) (2024.2.2)\r\n",
      "Requirement already satisfied: blis<0.8.0,>=0.7.8 in /opt/conda/lib/python3.10/site-packages (from thinc<8.3.0,>=8.2.2->spacy) (0.7.10)\r\n",
      "Requirement already satisfied: confection<1.0.0,>=0.0.1 in /opt/conda/lib/python3.10/site-packages (from thinc<8.3.0,>=8.2.2->spacy) (0.1.4)\r\n",
      "Requirement already satisfied: click<9.0.0,>=7.1.1 in /opt/conda/lib/python3.10/site-packages (from typer<0.10.0,>=0.3.0->spacy) (8.1.7)\r\n",
      "Requirement already satisfied: cloudpathlib<0.17.0,>=0.7.0 in /opt/conda/lib/python3.10/site-packages (from weasel<0.4.0,>=0.1.0->spacy) (0.16.0)\r\n",
      "Requirement already satisfied: MarkupSafe>=2.0 in /opt/conda/lib/python3.10/site-packages (from jinja2->spacy) (2.1.3)\r\n"
     ]
    }
   ],
   "source": [
    "!pip install spacy"
   ]
  },
  {
   "cell_type": "markdown",
   "id": "1cd8e23f",
   "metadata": {
    "id": "CroWe3rl-gI1",
    "papermill": {
     "duration": 0.025595,
     "end_time": "2024-05-21T10:43:51.072729",
     "exception": false,
     "start_time": "2024-05-21T10:43:51.047134",
     "status": "completed"
    },
    "tags": []
   },
   "source": [
    "## Import Libs"
   ]
  },
  {
   "cell_type": "code",
   "execution_count": 21,
   "id": "8c847189",
   "metadata": {
    "execution": {
     "iopub.execute_input": "2024-05-21T10:43:51.126894Z",
     "iopub.status.busy": "2024-05-21T10:43:51.125953Z",
     "iopub.status.idle": "2024-05-21T10:43:51.137649Z",
     "shell.execute_reply": "2024-05-21T10:43:51.136750Z"
    },
    "papermill": {
     "duration": 0.041424,
     "end_time": "2024-05-21T10:43:51.139652",
     "exception": false,
     "start_time": "2024-05-21T10:43:51.098228",
     "status": "completed"
    },
    "tags": []
   },
   "outputs": [
    {
     "name": "stdout",
     "output_type": "stream",
     "text": [
      "[nltk_data] Downloading package stopwords to /usr/share/nltk_data...\n",
      "[nltk_data]   Package stopwords is already up-to-date!\n"
     ]
    },
    {
     "data": {
      "text/plain": [
       "True"
      ]
     },
     "execution_count": 21,
     "metadata": {},
     "output_type": "execute_result"
    }
   ],
   "source": [
    "import nltk\n",
    "nltk.download('stopwords')"
   ]
  },
  {
   "cell_type": "code",
   "execution_count": 22,
   "id": "1a710925",
   "metadata": {
    "execution": {
     "iopub.execute_input": "2024-05-21T10:43:51.194184Z",
     "iopub.status.busy": "2024-05-21T10:43:51.193551Z",
     "iopub.status.idle": "2024-05-21T10:44:11.583774Z",
     "shell.execute_reply": "2024-05-21T10:44:11.582616Z"
    },
    "id": "8ILTuNQP-gI1",
    "papermill": {
     "duration": 20.420013,
     "end_time": "2024-05-21T10:44:11.586503",
     "exception": false,
     "start_time": "2024-05-21T10:43:51.166490",
     "status": "completed"
    },
    "tags": []
   },
   "outputs": [
    {
     "name": "stdout",
     "output_type": "stream",
     "text": [
      "Collecting en-core-web-sm==3.7.1\n",
      "  Downloading https://github.com/explosion/spacy-models/releases/download/en_core_web_sm-3.7.1/en_core_web_sm-3.7.1-py3-none-any.whl (12.8 MB)\n",
      "\u001b[2K     \u001b[90m━━━━━━━━━━━━━━━━━━━━━━━━━━━━━━━━━━━━━━━━\u001b[0m \u001b[32m12.8/12.8 MB\u001b[0m \u001b[31m64.1 MB/s\u001b[0m eta \u001b[36m0:00:00\u001b[0m\n",
      "\u001b[?25hRequirement already satisfied: spacy<3.8.0,>=3.7.2 in /opt/conda/lib/python3.10/site-packages (from en-core-web-sm==3.7.1) (3.7.3)\n",
      "Requirement already satisfied: spacy-legacy<3.1.0,>=3.0.11 in /opt/conda/lib/python3.10/site-packages (from spacy<3.8.0,>=3.7.2->en-core-web-sm==3.7.1) (3.0.12)\n",
      "Requirement already satisfied: spacy-loggers<2.0.0,>=1.0.0 in /opt/conda/lib/python3.10/site-packages (from spacy<3.8.0,>=3.7.2->en-core-web-sm==3.7.1) (1.0.5)\n",
      "Requirement already satisfied: murmurhash<1.1.0,>=0.28.0 in /opt/conda/lib/python3.10/site-packages (from spacy<3.8.0,>=3.7.2->en-core-web-sm==3.7.1) (1.0.10)\n",
      "Requirement already satisfied: cymem<2.1.0,>=2.0.2 in /opt/conda/lib/python3.10/site-packages (from spacy<3.8.0,>=3.7.2->en-core-web-sm==3.7.1) (2.0.8)\n",
      "Requirement already satisfied: preshed<3.1.0,>=3.0.2 in /opt/conda/lib/python3.10/site-packages (from spacy<3.8.0,>=3.7.2->en-core-web-sm==3.7.1) (3.0.9)\n",
      "Requirement already satisfied: thinc<8.3.0,>=8.2.2 in /opt/conda/lib/python3.10/site-packages (from spacy<3.8.0,>=3.7.2->en-core-web-sm==3.7.1) (8.2.2)\n",
      "Requirement already satisfied: wasabi<1.2.0,>=0.9.1 in /opt/conda/lib/python3.10/site-packages (from spacy<3.8.0,>=3.7.2->en-core-web-sm==3.7.1) (1.1.2)\n",
      "Requirement already satisfied: srsly<3.0.0,>=2.4.3 in /opt/conda/lib/python3.10/site-packages (from spacy<3.8.0,>=3.7.2->en-core-web-sm==3.7.1) (2.4.8)\n",
      "Requirement already satisfied: catalogue<2.1.0,>=2.0.6 in /opt/conda/lib/python3.10/site-packages (from spacy<3.8.0,>=3.7.2->en-core-web-sm==3.7.1) (2.0.10)\n",
      "Requirement already satisfied: weasel<0.4.0,>=0.1.0 in /opt/conda/lib/python3.10/site-packages (from spacy<3.8.0,>=3.7.2->en-core-web-sm==3.7.1) (0.3.4)\n",
      "Requirement already satisfied: typer<0.10.0,>=0.3.0 in /opt/conda/lib/python3.10/site-packages (from spacy<3.8.0,>=3.7.2->en-core-web-sm==3.7.1) (0.9.0)\n",
      "Requirement already satisfied: smart-open<7.0.0,>=5.2.1 in /opt/conda/lib/python3.10/site-packages (from spacy<3.8.0,>=3.7.2->en-core-web-sm==3.7.1) (6.4.0)\n",
      "Requirement already satisfied: tqdm<5.0.0,>=4.38.0 in /opt/conda/lib/python3.10/site-packages (from spacy<3.8.0,>=3.7.2->en-core-web-sm==3.7.1) (4.66.1)\n",
      "Requirement already satisfied: requests<3.0.0,>=2.13.0 in /opt/conda/lib/python3.10/site-packages (from spacy<3.8.0,>=3.7.2->en-core-web-sm==3.7.1) (2.31.0)\n",
      "Requirement already satisfied: pydantic!=1.8,!=1.8.1,<3.0.0,>=1.7.4 in /opt/conda/lib/python3.10/site-packages (from spacy<3.8.0,>=3.7.2->en-core-web-sm==3.7.1) (2.5.3)\n",
      "Requirement already satisfied: jinja2 in /opt/conda/lib/python3.10/site-packages (from spacy<3.8.0,>=3.7.2->en-core-web-sm==3.7.1) (3.1.2)\n",
      "Requirement already satisfied: setuptools in /opt/conda/lib/python3.10/site-packages (from spacy<3.8.0,>=3.7.2->en-core-web-sm==3.7.1) (69.0.3)\n",
      "Requirement already satisfied: packaging>=20.0 in /opt/conda/lib/python3.10/site-packages (from spacy<3.8.0,>=3.7.2->en-core-web-sm==3.7.1) (21.3)\n",
      "Requirement already satisfied: langcodes<4.0.0,>=3.2.0 in /opt/conda/lib/python3.10/site-packages (from spacy<3.8.0,>=3.7.2->en-core-web-sm==3.7.1) (3.3.0)\n",
      "Requirement already satisfied: numpy>=1.19.0 in /opt/conda/lib/python3.10/site-packages (from spacy<3.8.0,>=3.7.2->en-core-web-sm==3.7.1) (1.26.4)\n",
      "Requirement already satisfied: pyparsing!=3.0.5,>=2.0.2 in /opt/conda/lib/python3.10/site-packages (from packaging>=20.0->spacy<3.8.0,>=3.7.2->en-core-web-sm==3.7.1) (3.1.1)\n",
      "Requirement already satisfied: annotated-types>=0.4.0 in /opt/conda/lib/python3.10/site-packages (from pydantic!=1.8,!=1.8.1,<3.0.0,>=1.7.4->spacy<3.8.0,>=3.7.2->en-core-web-sm==3.7.1) (0.6.0)\n",
      "Requirement already satisfied: pydantic-core==2.14.6 in /opt/conda/lib/python3.10/site-packages (from pydantic!=1.8,!=1.8.1,<3.0.0,>=1.7.4->spacy<3.8.0,>=3.7.2->en-core-web-sm==3.7.1) (2.14.6)\n",
      "Requirement already satisfied: typing-extensions>=4.6.1 in /opt/conda/lib/python3.10/site-packages (from pydantic!=1.8,!=1.8.1,<3.0.0,>=1.7.4->spacy<3.8.0,>=3.7.2->en-core-web-sm==3.7.1) (4.9.0)\n",
      "Requirement already satisfied: charset-normalizer<4,>=2 in /opt/conda/lib/python3.10/site-packages (from requests<3.0.0,>=2.13.0->spacy<3.8.0,>=3.7.2->en-core-web-sm==3.7.1) (3.3.2)\n",
      "Requirement already satisfied: idna<4,>=2.5 in /opt/conda/lib/python3.10/site-packages (from requests<3.0.0,>=2.13.0->spacy<3.8.0,>=3.7.2->en-core-web-sm==3.7.1) (3.6)\n",
      "Requirement already satisfied: urllib3<3,>=1.21.1 in /opt/conda/lib/python3.10/site-packages (from requests<3.0.0,>=2.13.0->spacy<3.8.0,>=3.7.2->en-core-web-sm==3.7.1) (1.26.18)\n",
      "Requirement already satisfied: certifi>=2017.4.17 in /opt/conda/lib/python3.10/site-packages (from requests<3.0.0,>=2.13.0->spacy<3.8.0,>=3.7.2->en-core-web-sm==3.7.1) (2024.2.2)\n",
      "Requirement already satisfied: blis<0.8.0,>=0.7.8 in /opt/conda/lib/python3.10/site-packages (from thinc<8.3.0,>=8.2.2->spacy<3.8.0,>=3.7.2->en-core-web-sm==3.7.1) (0.7.10)\n",
      "Requirement already satisfied: confection<1.0.0,>=0.0.1 in /opt/conda/lib/python3.10/site-packages (from thinc<8.3.0,>=8.2.2->spacy<3.8.0,>=3.7.2->en-core-web-sm==3.7.1) (0.1.4)\n",
      "Requirement already satisfied: click<9.0.0,>=7.1.1 in /opt/conda/lib/python3.10/site-packages (from typer<0.10.0,>=0.3.0->spacy<3.8.0,>=3.7.2->en-core-web-sm==3.7.1) (8.1.7)\n",
      "Requirement already satisfied: cloudpathlib<0.17.0,>=0.7.0 in /opt/conda/lib/python3.10/site-packages (from weasel<0.4.0,>=0.1.0->spacy<3.8.0,>=3.7.2->en-core-web-sm==3.7.1) (0.16.0)\n",
      "Requirement already satisfied: MarkupSafe>=2.0 in /opt/conda/lib/python3.10/site-packages (from jinja2->spacy<3.8.0,>=3.7.2->en-core-web-sm==3.7.1) (2.1.3)\n",
      "\u001b[38;5;2m✔ Download and installation successful\u001b[0m\n",
      "You can now load the package via spacy.load('en_core_web_sm')\n",
      "\u001b[38;5;3m⚠ Restart to reload dependencies\u001b[0m\n",
      "If you are in a Jupyter or Colab notebook, you may need to restart Python in\n",
      "order to load all the package's dependencies. You can do this by selecting the\n",
      "'Restart kernel' or 'Restart runtime' option.\n"
     ]
    }
   ],
   "source": [
    "import requests, json\n",
    "import string\n",
    "import re\n",
    "from itertools import chain\n",
    "\n",
    "import numpy as np\n",
    "import pandas as pd\n",
    "\n",
    "from bs4 import BeautifulSoup\n",
    "\n",
    "from ekphrasis.classes.preprocessor import TextPreProcessor\n",
    "from ekphrasis.classes.tokenizer import SocialTokenizer\n",
    "from ekphrasis.dicts.emoticons import emoticons\n",
    "from ekphrasis.dicts.noslang.slangdict import slangdict\n",
    "\n",
    "from nltk.corpus import words\n",
    "from nltk.corpus import stopwords\n",
    "import spacy\n",
    "\n",
    "spacy.cli.download(\"en_core_web_sm\")\n",
    "nlp = spacy.load(\"en_core_web_sm\")\n",
    "en_words = words.words()\n",
    "st_words = stopwords.words()"
   ]
  },
  {
   "cell_type": "markdown",
   "id": "b1f7704c",
   "metadata": {
    "id": "fX_B1qvx-gI1",
    "papermill": {
     "duration": 0.027984,
     "end_time": "2024-05-21T10:44:11.643287",
     "exception": false,
     "start_time": "2024-05-21T10:44:11.615303",
     "status": "completed"
    },
    "tags": []
   },
   "source": [
    "## Read data"
   ]
  },
  {
   "cell_type": "code",
   "execution_count": 23,
   "id": "d2e9ce35",
   "metadata": {
    "execution": {
     "iopub.execute_input": "2024-05-21T10:44:11.702565Z",
     "iopub.status.busy": "2024-05-21T10:44:11.701565Z",
     "iopub.status.idle": "2024-05-21T10:44:11.790111Z",
     "shell.execute_reply": "2024-05-21T10:44:11.789137Z"
    },
    "id": "GVD48Qrn-gI2",
    "papermill": {
     "duration": 0.120421,
     "end_time": "2024-05-21T10:44:11.792313",
     "exception": false,
     "start_time": "2024-05-21T10:44:11.671892",
     "status": "completed"
    },
    "tags": []
   },
   "outputs": [
    {
     "name": "stdout",
     "output_type": "stream",
     "text": [
      "(7503, 9) (3263, 5)\n"
     ]
    }
   ],
   "source": [
    "# training data : 'df' and testing data : 'test_df'\n",
    "\n",
    "#df = pd.read_csv('/kaggle/input/nlp-getting-started/train.csv')\n",
    "df = train_df\n",
    "#test_df = pd.read_csv('/kaggle/input/nlp-getting-started/test.csv')\n",
    "df_leak = pd.read_csv('/kaggle/input/pg-final-project-datasets/socialmedia-disaster-tweets-DFE.csv',  encoding ='ISO-8859-1')\n",
    "df_leak['target'] = (df_leak['choose_one'] == 'Relevant').astype(np.int8)\n",
    "df_leak['id'] = df_leak.index.astype(np.int16)\n",
    "df_leak = df_leak[['target', 'id']]\n",
    "test_df = test_df.merge(df_leak, on=['id'], how='left')\n",
    "\n",
    "print(df.shape, test_df.shape)"
   ]
  },
  {
   "cell_type": "markdown",
   "id": "e02e1e92",
   "metadata": {
    "id": "qvDsiyzq-gI2",
    "papermill": {
     "duration": 0.026193,
     "end_time": "2024-05-21T10:44:11.844766",
     "exception": false,
     "start_time": "2024-05-21T10:44:11.818573",
     "status": "completed"
    },
    "tags": []
   },
   "source": [
    "### Util Functions\n"
   ]
  },
  {
   "cell_type": "code",
   "execution_count": 24,
   "id": "9dc2478f",
   "metadata": {
    "execution": {
     "iopub.execute_input": "2024-05-21T10:44:11.900135Z",
     "iopub.status.busy": "2024-05-21T10:44:11.899791Z",
     "iopub.status.idle": "2024-05-21T10:44:11.906189Z",
     "shell.execute_reply": "2024-05-21T10:44:11.905291Z"
    },
    "id": "83d2TSNl-gI2",
    "papermill": {
     "duration": 0.03675,
     "end_time": "2024-05-21T10:44:11.908474",
     "exception": false,
     "start_time": "2024-05-21T10:44:11.871724",
     "status": "completed"
    },
    "tags": []
   },
   "outputs": [],
   "source": [
    "def get_unk_words(txts):\n",
    "    txt = ' '.join(txts)\n",
    "    doc = nlp(txt)\n",
    "    tokens = set([tok.lemma_ for tok in doc])\n",
    "\n",
    "    word_dict = set([tok.lower() for tok in en_words])\n",
    "    not_word_tokens = tokens - tokens.intersection(word_dict)\n",
    "    print('Vocabs size', len(tokens))\n",
    "    print('Unknown vocabs size', len(not_word_tokens))\n",
    "    print(f'Tweets contain unknown words: {100 * len(not_word_tokens) / len(tokens):.2f}%')\n",
    "    return not_word_tokens"
   ]
  },
  {
   "cell_type": "markdown",
   "id": "cf6d27bb",
   "metadata": {
    "id": "-e4jVdsr-gI3",
    "papermill": {
     "duration": 0.027019,
     "end_time": "2024-05-21T10:44:11.962439",
     "exception": false,
     "start_time": "2024-05-21T10:44:11.935420",
     "status": "completed"
    },
    "tags": []
   },
   "source": [
    "### Chat Abbreviations"
   ]
  },
  {
   "cell_type": "code",
   "execution_count": 25,
   "id": "c7485def",
   "metadata": {
    "execution": {
     "iopub.execute_input": "2024-05-21T10:44:12.017846Z",
     "iopub.status.busy": "2024-05-21T10:44:12.017535Z",
     "iopub.status.idle": "2024-05-21T10:44:12.095713Z",
     "shell.execute_reply": "2024-05-21T10:44:12.094504Z"
    },
    "id": "yNuU5d6--gI3",
    "papermill": {
     "duration": 0.108835,
     "end_time": "2024-05-21T10:44:12.097965",
     "exception": false,
     "start_time": "2024-05-21T10:44:11.989130",
     "status": "completed"
    },
    "tags": []
   },
   "outputs": [
    {
     "name": "stdout",
     "output_type": "stream",
     "text": [
      "('*4u', 'Kiss for you')\n",
      "('*67', 'unknown')\n",
      "('*eg*', 'evil grin')\n",
      "('07734', 'hello')\n",
      "('0day', 'software illegally obtained before it was released')\n",
      "('0noe', 'Oh No')\n",
      "('0vr', 'over')\n",
      "('10q', 'thank you')\n",
      "('10tacle', 'tentacle')\n",
      "('10x', 'thanks')\n",
      "\n",
      "Slang Words Count: 5429\n",
      "\n",
      "I want to go aamof home\n",
      "I want to go as a matter of fact home\n"
     ]
    }
   ],
   "source": [
    "\n",
    "pairs =  list(slangdict.items())\n",
    "for i in range(10):\n",
    "    print(pairs[i])\n",
    "\n",
    "uncased_slang_dict = {}\n",
    "for key, value in slangdict.items():\n",
    "    value = re.sub(r'it means', '', value)\n",
    "    value = re.sub(r'\\*\\*\\*', 'uck', value)\n",
    "    value = re.sub(r'\\*\\*', 'it', value)\n",
    "    value = re.sub(r'it refers to', '', value)\n",
    "    uncased_slang_dict[key.lower()] = value.lower()\n",
    "\n",
    "print()\n",
    "print('Slang Words Count:', len(uncased_slang_dict))\n",
    "print()\n",
    "\n",
    "replacement_patterns = [\n",
    "    (r'won\\'t', 'will not'),\n",
    "    (r'can\\'t', 'cannot'),\n",
    "    (r'i\\'m', 'i am'),\n",
    "    (r'I\\'m', 'I am'),\n",
    "    (r'ain\\'t', 'is not'),\n",
    "    (r'(\\w+)\\'ll', '\\g<1> will'),\n",
    "    (r'(\\w+)n\\'t', '\\g<1> not'),\n",
    "    (r'(\\w+)\\'ve', '\\g<1> have'),\n",
    "    (r'(\\w+)\\'s', '\\g<1> is'),\n",
    "    (r'(\\w+)\\'re', '\\g<1> are'),\n",
    "    (r'(\\w+)\\'d', '\\g<1> would'),\n",
    "]\n",
    "\n",
    "abbr = {\n",
    "    \"$\" : \" dollar \",\n",
    "    \"€\" : \" euro \",\n",
    "    \"4ao\" : \"for adults only\",\n",
    "    \"a.m\" : \"before midday\",\n",
    "    \"a3\" : \"anytime anywhere anyplace\",\n",
    "    \"aamof\" : \"as a matter of fact\",\n",
    "    \"acct\" : \"account\",\n",
    "    \"adih\" : \"another day in hell\",\n",
    "    \"afaic\" : \"as far as i am concerned\",\n",
    "    \"afaict\" : \"as far as i can tell\",\n",
    "    \"afaik\" : \"as far as i know\",\n",
    "    \"afair\" : \"as far as i remember\",\n",
    "    \"afk\" : \"away from keyboard\",\n",
    "    \"app\" : \"application\",\n",
    "    \"approx\" : \"approximately\",\n",
    "    \"apps\" : \"applications\",\n",
    "    \"asap\" : \"as soon as possible\",\n",
    "    \"asl\" : \"age, sex, location\",\n",
    "    \"atk\" : \"at the keyboard\",\n",
    "    \"ave.\" : \"avenue\",\n",
    "    \"aymm\" : \"are you my mother\",\n",
    "    \"ayor\" : \"at your own risk\", \n",
    "    \"b&b\" : \"bed and breakfast\",\n",
    "    \"b+b\" : \"bed and breakfast\",\n",
    "    \"b.c\" : \"before christ\",\n",
    "    \"b2b\" : \"business to business\",\n",
    "    \"b2c\" : \"business to customer\",\n",
    "    \"b4\" : \"before\",\n",
    "    \"b4n\" : \"bye for now\",\n",
    "    \"b@u\" : \"back at you\",\n",
    "    \"bae\" : \"before anyone else\",\n",
    "    \"bak\" : \"back at keyboard\",\n",
    "    \"bbbg\" : \"bye bye be good\",\n",
    "    \"bbc\" : \"british broadcasting corporation\",\n",
    "    \"bbias\" : \"be back in a second\",\n",
    "    \"bbl\" : \"be back later\",\n",
    "    \"bbs\" : \"be back soon\",\n",
    "    \"be4\" : \"before\",\n",
    "    \"bfn\" : \"bye for now\",\n",
    "    \"blvd\" : \"boulevard\",\n",
    "    \"bout\" : \"about\",\n",
    "    \"brb\" : \"be right back\",\n",
    "    \"bros\" : \"brothers\",\n",
    "    \"brt\" : \"be right there\",\n",
    "    \"bsaaw\" : \"big smile and a wink\",\n",
    "    \"btw\" : \"by the way\",\n",
    "    \"bwl\" : \"bursting with laughter\",\n",
    "    \"c/o\" : \"care of\",\n",
    "    \"cet\" : \"central european time\",\n",
    "    \"cf\" : \"compare\",\n",
    "    \"cia\" : \"central intelligence agency\",\n",
    "    \"csl\" : \"can not stop laughing\",\n",
    "    \"cu\" : \"see you\",\n",
    "    \"cul8r\" : \"see you later\",\n",
    "    \"cv\" : \"curriculum vitae\",\n",
    "    \"cwot\" : \"complete waste of time\",\n",
    "    \"cya\" : \"see you\",\n",
    "    \"cyt\" : \"see you tomorrow\",\n",
    "    \"dae\" : \"does anyone else\",\n",
    "    \"dbmib\" : \"do not bother me i am busy\",\n",
    "    \"diy\" : \"do it yourself\",\n",
    "    \"dm\" : \"direct message\",\n",
    "    \"dwh\" : \"during work hours\",\n",
    "    \"e123\" : \"easy as one two three\",\n",
    "    \"eet\" : \"eastern european time\",\n",
    "    \"eg\" : \"example\",\n",
    "    \"embm\" : \"early morning business meeting\",\n",
    "    \"encl\" : \"enclosed\",\n",
    "    \"encl.\" : \"enclosed\",\n",
    "    \"etc\" : \"and so on\",\n",
    "    \"faq\" : \"frequently asked questions\",\n",
    "    \"fawc\" : \"for anyone who cares\",\n",
    "    \"fb\" : \"facebook\",\n",
    "    \"fc\" : \"fingers crossed\",\n",
    "    \"fig\" : \"figure\",\n",
    "    \"fimh\" : \"forever in my heart\", \n",
    "    \"ft.\" : \"feet\",\n",
    "    \"ft\" : \"featuring\",\n",
    "    \"ftl\" : \"for the loss\",\n",
    "    \"ftw\" : \"for the win\",\n",
    "    \"fwiw\" : \"for what it is worth\",\n",
    "    \"fyi\" : \"for your information\",\n",
    "    \"g9\" : \"genius\",\n",
    "    \"gahoy\" : \"get a hold of yourself\",\n",
    "    \"gal\" : \"get a life\",\n",
    "    \"gcse\" : \"general certificate of secondary education\",\n",
    "    \"gfn\" : \"gone for now\",\n",
    "    \"gg\" : \"good game\",\n",
    "    \"gl\" : \"good luck\",\n",
    "    \"glhf\" : \"good luck have fun\",\n",
    "    \"gmt\" : \"greenwich mean time\",\n",
    "    \"gmta\" : \"great minds think alike\",\n",
    "    \"gn\" : \"good night\",\n",
    "    \"g.o.a.t\" : \"greatest of all time\",\n",
    "    \"goat\" : \"greatest of all time\",\n",
    "    \"goi\" : \"get over it\",\n",
    "    \"gps\" : \"global positioning system\",\n",
    "    \"gr8\" : \"great\",\n",
    "    \"gratz\" : \"congratulations\",\n",
    "    \"gyal\" : \"girl\",\n",
    "    \"h&c\" : \"hot and cold\",\n",
    "    \"hp\" : \"horsepower\",\n",
    "    \"hr\" : \"hour\",\n",
    "    \"hrh\" : \"his royal highness\",\n",
    "    \"ht\" : \"height\",\n",
    "    \"ibrb\" : \"i will be right back\",\n",
    "    \"ic\" : \"i see\",\n",
    "    \"icq\" : \"i seek you\",\n",
    "    \"icymi\" : \"in case you missed it\",\n",
    "    \"idc\" : \"i do not care\",\n",
    "    \"idgadf\" : \"i do not give a damn fuck\",\n",
    "    \"idgaf\" : \"i do not give a fuck\",\n",
    "    \"idk\" : \"i do not know\",\n",
    "    \"ie\" : \"that is\",\n",
    "    \"i.e\" : \"that is\",\n",
    "    \"ifyp\" : \"i feel your pain\",\n",
    "    \"IG\" : \"instagram\",\n",
    "    \"iirc\" : \"if i remember correctly\",\n",
    "    \"ilu\" : \"i love you\",\n",
    "    \"ily\" : \"i love you\",\n",
    "    \"imho\" : \"in my humble opinion\",\n",
    "    \"imo\" : \"in my opinion\",\n",
    "    \"imu\" : \"i miss you\",\n",
    "    \"iow\" : \"in other words\",\n",
    "    \"irl\" : \"in real life\",\n",
    "    \"j4f\" : \"just for fun\",\n",
    "    \"jic\" : \"just in case\",\n",
    "    \"jk\" : \"just kidding\",\n",
    "    \"jsyk\" : \"just so you know\",\n",
    "    \"l8r\" : \"later\",\n",
    "    \"lb\" : \"pound\",\n",
    "    \"lbs\" : \"pounds\",\n",
    "    \"ldr\" : \"long distance relationship\",\n",
    "    \"lmao\" : \"laugh my ass off\",\n",
    "    \"lmfao\" : \"laugh my fucking ass off\",\n",
    "    \"lol\" : \"laughing out loud\",\n",
    "    \"ltd\" : \"limited\",\n",
    "    \"ltns\" : \"long time no see\",\n",
    "    \"m8\" : \"mate\",\n",
    "    \"mf\" : \"motherfucker\",\n",
    "    \"mfs\" : \"motherfuckers\",\n",
    "    \"mfw\" : \"my face when\",\n",
    "    \"mofo\" : \"motherfucker\",\n",
    "    \"mph\" : \"miles per hour\",\n",
    "    \"mr\" : \"mister\",\n",
    "    \"mrw\" : \"my reaction when\",\n",
    "    \"ms\" : \"miss\",\n",
    "    \"mte\" : \"my thoughts exactly\",\n",
    "    \"nagi\" : \"not a good idea\",\n",
    "    \"nbc\" : \"national broadcasting company\",\n",
    "    \"nbd\" : \"not big deal\",\n",
    "    \"nfs\" : \"not for sale\",\n",
    "    \"ngl\" : \"not going to lie\",\n",
    "    \"nhs\" : \"national health service\",\n",
    "    \"nrn\" : \"no reply necessary\",\n",
    "    \"nsfl\" : \"not safe for life\",\n",
    "    \"nsfw\" : \"not safe for work\",\n",
    "    \"nth\" : \"nice to have\",\n",
    "    \"nvr\" : \"never\",\n",
    "    \"nyc\" : \"new york city\",\n",
    "    \"oc\" : \"original content\",\n",
    "    \"og\" : \"original\",\n",
    "    \"ohp\" : \"overhead projector\",\n",
    "    \"oic\" : \"oh i see\",\n",
    "    \"omdb\" : \"over my dead body\",\n",
    "    \"omg\" : \"oh my god\",\n",
    "    \"omw\" : \"on my way\",\n",
    "    \"p.a\" : \"per annum\",\n",
    "    \"p.m\" : \"after midday\",\n",
    "    \"pm\" : \"prime minister\",\n",
    "    \"poc\" : \"people of color\",\n",
    "    \"pov\" : \"point of view\",\n",
    "    \"pp\" : \"pages\",\n",
    "    \"ppl\" : \"people\",\n",
    "    \"prw\" : \"parents are watching\",\n",
    "    \"ps\" : \"postscript\",\n",
    "    \"pt\" : \"point\",\n",
    "    \"ptb\" : \"please text back\",\n",
    "    \"pto\" : \"please turn over\",\n",
    "    \"qpsa\" : \"what happens\", #\"que pasa\",\n",
    "    \"ratchet\" : \"rude\",\n",
    "    \"rbtl\" : \"read between the lines\",\n",
    "    \"rlrt\" : \"real life retweet\", \n",
    "    \"rofl\" : \"rolling on the floor laughing\",\n",
    "    \"roflol\" : \"rolling on the floor laughing out loud\",\n",
    "    \"rotflmao\" : \"rolling on the floor laughing my ass off\",\n",
    "    \"rt\" : \"retweet\",\n",
    "    \"ruok\" : \"are you ok\",\n",
    "    \"sfw\" : \"safe for work\",\n",
    "    \"sk8\" : \"skate\",\n",
    "    \"smh\" : \"shake my head\",\n",
    "    \"sq\" : \"square\",\n",
    "    \"srsly\" : \"seriously\", \n",
    "    \"ssdd\" : \"same stuff different day\",\n",
    "    \"tbh\" : \"to be honest\",\n",
    "    \"tbs\" : \"tablespooful\",\n",
    "    \"tbsp\" : \"tablespooful\",\n",
    "    \"tfw\" : \"that feeling when\",\n",
    "    \"thks\" : \"thank you\",\n",
    "    \"tho\" : \"though\",\n",
    "    \"thx\" : \"thank you\",\n",
    "    \"tia\" : \"thanks in advance\",\n",
    "    \"til\" : \"today i learned\",\n",
    "    \"tl;dr\" : \"too long i did not read\",\n",
    "    \"tldr\" : \"too long i did not read\",\n",
    "    \"tmb\" : \"tweet me back\",\n",
    "    \"tntl\" : \"trying not to laugh\",\n",
    "    \"ttyl\" : \"talk to you later\",\n",
    "    \"u\" : \"you\",\n",
    "    \"u2\" : \"you too\",\n",
    "    \"u4e\" : \"yours for ever\",\n",
    "    \"utc\" : \"coordinated universal time\",\n",
    "    \"w/\" : \"with\",\n",
    "    \"w/o\" : \"without\",\n",
    "    \"w8\" : \"wait\",\n",
    "    \"wassup\" : \"what is up\",\n",
    "    \"wb\" : \"welcome back\",\n",
    "    \"wtf\" : \"what the fuck\",\n",
    "    \"wtg\" : \"way to go\",\n",
    "    \"wtpa\" : \"where the party at\",\n",
    "    \"wuf\" : \"where are you from\",\n",
    "    \"wuzup\" : \"what is up\",\n",
    "    \"wywh\" : \"wish you were here\",\n",
    "    \"yd\" : \"yard\",\n",
    "    \"ygtr\" : \"you got that right\",\n",
    "    \"ynk\" : \"you never know\",\n",
    "    \"zzz\" : \"sleeping bored and tired\",\n",
    "    \"yr\": \"year\",\n",
    "    \"u.s\":\"usa\",\n",
    "}\n",
    "\n",
    "def replace_slang(txt, slang):\n",
    "    ctxt = re.sub(r'\\s+', ' ', txt)\n",
    "    res = []\n",
    "    for tok in ctxt.split():\n",
    "        if tok.lower() in slang:\n",
    "            res.append(slang[tok.lower()])\n",
    "        else:\n",
    "            res.append(tok)\n",
    "    res = ' '.join(res)\n",
    "    return res.strip()\n",
    "\n",
    "sent = 'I want to go aamof home'\n",
    "print(sent)\n",
    "print(replace_slang(sent, abbr))"
   ]
  },
  {
   "cell_type": "markdown",
   "id": "14716601",
   "metadata": {
    "id": "aex3BduQ-gI3",
    "papermill": {
     "duration": 0.028248,
     "end_time": "2024-05-21T10:44:12.154939",
     "exception": false,
     "start_time": "2024-05-21T10:44:12.126691",
     "status": "completed"
    },
    "tags": []
   },
   "source": [
    "## Define text preprocessor\n",
    "* extract emojis\n",
    "* replace numbers/date/money\n",
    "* extract hashtags\n",
    "* correct enlongated/repeated character"
   ]
  },
  {
   "cell_type": "code",
   "execution_count": 26,
   "id": "07b88fa9",
   "metadata": {
    "execution": {
     "iopub.execute_input": "2024-05-21T10:44:12.210222Z",
     "iopub.status.busy": "2024-05-21T10:44:12.209920Z",
     "iopub.status.idle": "2024-05-21T10:44:34.348411Z",
     "shell.execute_reply": "2024-05-21T10:44:34.347300Z"
    },
    "id": "6hPJhhjU-gI4",
    "papermill": {
     "duration": 22.169989,
     "end_time": "2024-05-21T10:44:34.351625",
     "exception": false,
     "start_time": "2024-05-21T10:44:12.181636",
     "status": "completed"
    },
    "tags": []
   },
   "outputs": [
    {
     "name": "stdout",
     "output_type": "stream",
     "text": [
      "Word statistics files not found!\n",
      "Downloading... "
     ]
    },
    {
     "name": "stderr",
     "output_type": "stream",
     "text": [
      "/opt/conda/lib/python3.10/site-packages/ekphrasis/classes/tokenizer.py:225: FutureWarning: Possible nested set at position 2190\n",
      "  self.tok = re.compile(r\"({})\".format(\"|\".join(pipeline)))\n"
     ]
    },
    {
     "name": "stdout",
     "output_type": "stream",
     "text": [
      "done!\n",
      "Unpacking... done!\n",
      "Reading twitter - 1grams ...\n",
      "generating cache file for faster loading...\n",
      "reading ngrams /root/.ekphrasis/stats/twitter/counts_1grams.txt\n",
      "Reading twitter - 2grams ...\n",
      "generating cache file for faster loading...\n",
      "reading ngrams /root/.ekphrasis/stats/twitter/counts_2grams.txt\n",
      "Reading twitter - 1grams ...\n"
     ]
    },
    {
     "name": "stderr",
     "output_type": "stream",
     "text": [
      "/opt/conda/lib/python3.10/site-packages/ekphrasis/classes/exmanager.py:14: FutureWarning: Possible nested set at position 42\n",
      "  regexes = {k.lower(): re.compile(self.expressions[k]) for k, v in\n"
     ]
    }
   ],
   "source": [
    "text_processor = TextPreProcessor(\n",
    "    # terms that will be normalized\n",
    "    normalize = ['rest_emoticons', 'rtl_face', 'cashtag','url',\n",
    "                 'email', 'percent', 'money', 'phone', 'user', \n",
    "                 'time', 'date', 'number', 'eastern_emoticons'],\n",
    "    # terms that will be annotated\n",
    "    annotate = set([\"elongated\", \"repeated\"]),\n",
    "    fix_html = True,  # fix HTML tokens\n",
    "    segmenter=\"twitter\", \n",
    "    corrector = \"twitter\", \n",
    "    unpack_hashtags = True,  # perform word segmentation on hashtags\n",
    "    unpack_contractions = True,  # Unpack contractions (can't -> can not)\n",
    "    spell_correct_elong = False,  # spell correction for elongated words\n",
    "    tokenizer=SocialTokenizer(lowercase=False).tokenize,\n",
    "    dicts=[emoticons]\n",
    ")"
   ]
  },
  {
   "cell_type": "markdown",
   "id": "5a518086",
   "metadata": {
    "id": "rOcVUCrZ-gI4",
    "papermill": {
     "duration": 0.028869,
     "end_time": "2024-05-21T10:44:34.410297",
     "exception": false,
     "start_time": "2024-05-21T10:44:34.381428",
     "status": "completed"
    },
    "tags": []
   },
   "source": [
    "## Text Cleaning"
   ]
  },
  {
   "cell_type": "code",
   "execution_count": 27,
   "id": "1e4fc509",
   "metadata": {
    "execution": {
     "iopub.execute_input": "2024-05-21T10:44:34.470162Z",
     "iopub.status.busy": "2024-05-21T10:44:34.469561Z",
     "iopub.status.idle": "2024-05-21T10:44:34.478085Z",
     "shell.execute_reply": "2024-05-21T10:44:34.477261Z"
    },
    "id": "YmDm8Quu-gI4",
    "papermill": {
     "duration": 0.040743,
     "end_time": "2024-05-21T10:44:34.480101",
     "exception": false,
     "start_time": "2024-05-21T10:44:34.439358",
     "status": "completed"
    },
    "tags": []
   },
   "outputs": [],
   "source": [
    "def preprocess(txt):\n",
    "    # remove non-ascii characters\n",
    "    res = txt.encode('ascii', 'ignore').decode()\n",
    "    # replace slang token if the token is not an english word\n",
    "    res = replace_slang(res, uncased_slang_dict)\n",
    "    # replace shorten pattern i.e I'll--> I will\n",
    "    for patt, rep in replacement_patterns:\n",
    "        res = re.sub(patt, rep, res)\n",
    "    # Extract emojis and hashtags and segment the txt\n",
    "    res = ' '.join(text_processor.pre_process_doc(res)).strip()\n",
    "    for patt in [r\"<elongated>\", r\"<repeated>\"]:\n",
    "        res = re.sub(patt, '', res)\n",
    "        \n",
    "    # another try to replace the slangs after segmentation\n",
    "    res = replace_slang(res, uncased_slang_dict)\n",
    "\n",
    "    # remove punctuaions\n",
    "    res = re.sub(r'[%s]' % re.escape(''.join(string.punctuation)), r' ',res)\n",
    "    # lower case\n",
    "    res = res.lower()\n",
    "    # remove consecutive duplicated tokens\n",
    "    res = re.sub(r'\\b(\\w+)(?:\\W+\\1\\b)+', r'\\1', res)\n",
    "    #remove extra spaces\n",
    "    res = re.sub(r'\\s+', ' ', res)\n",
    "    return res.strip()"
   ]
  },
  {
   "cell_type": "code",
   "execution_count": 28,
   "id": "f5285873",
   "metadata": {
    "execution": {
     "iopub.execute_input": "2024-05-21T10:44:34.538801Z",
     "iopub.status.busy": "2024-05-21T10:44:34.538513Z",
     "iopub.status.idle": "2024-05-21T10:44:45.351243Z",
     "shell.execute_reply": "2024-05-21T10:44:45.350309Z"
    },
    "id": "wsEkBRc4-gI4",
    "papermill": {
     "duration": 10.844903,
     "end_time": "2024-05-21T10:44:45.353595",
     "exception": false,
     "start_time": "2024-05-21T10:44:34.508692",
     "status": "completed"
    },
    "tags": []
   },
   "outputs": [
    {
     "data": {
      "text/html": [
       "<div>\n",
       "<style scoped>\n",
       "    .dataframe tbody tr th:only-of-type {\n",
       "        vertical-align: middle;\n",
       "    }\n",
       "\n",
       "    .dataframe tbody tr th {\n",
       "        vertical-align: top;\n",
       "    }\n",
       "\n",
       "    .dataframe thead th {\n",
       "        text-align: right;\n",
       "    }\n",
       "</style>\n",
       "<table border=\"1\" class=\"dataframe\">\n",
       "  <thead>\n",
       "    <tr style=\"text-align: right;\">\n",
       "      <th></th>\n",
       "      <th>text</th>\n",
       "      <th>id</th>\n",
       "      <th>location</th>\n",
       "      <th>keyword</th>\n",
       "      <th>target</th>\n",
       "      <th>ctext</th>\n",
       "      <th>url</th>\n",
       "      <th>hashtag_num</th>\n",
       "      <th>hashtags</th>\n",
       "    </tr>\n",
       "  </thead>\n",
       "  <tbody>\n",
       "    <tr>\n",
       "      <th>35</th>\n",
       "      <td>#BBSNews latest 4 #Palestine &amp;amp; #Israel -  ...</td>\n",
       "      <td>3337</td>\n",
       "      <td>USA</td>\n",
       "      <td>demolished</td>\n",
       "      <td>1</td>\n",
       "      <td>be back soon news latest number palestine isra...</td>\n",
       "      <td>1</td>\n",
       "      <td>3</td>\n",
       "      <td>[palestine, israel, bbsnews]</td>\n",
       "    </tr>\n",
       "    <tr>\n",
       "      <th>36</th>\n",
       "      <td>#BBShelli seems pretty sure she's the one that...</td>\n",
       "      <td>9971</td>\n",
       "      <td>Louavul, KY</td>\n",
       "      <td>tsunami</td>\n",
       "      <td>0</td>\n",
       "      <td>bye shelli seems pretty sure she is the one th...</td>\n",
       "      <td>0</td>\n",
       "      <td>2</td>\n",
       "      <td>[bbshelli, bb17]</td>\n",
       "    </tr>\n",
       "    <tr>\n",
       "      <th>37</th>\n",
       "      <td>#BHRAMABULL Watch Run The Jewels Use Facts to ...</td>\n",
       "      <td>8262</td>\n",
       "      <td>tri state</td>\n",
       "      <td>rioting</td>\n",
       "      <td>1</td>\n",
       "      <td>bhramabull watch run the jewels use facts to d...</td>\n",
       "      <td>1</td>\n",
       "      <td>1</td>\n",
       "      <td>[bhramabull]</td>\n",
       "    </tr>\n",
       "    <tr>\n",
       "      <th>38</th>\n",
       "      <td>#BREAKING 10th death confirmed in Legionnaires...</td>\n",
       "      <td>7594</td>\n",
       "      <td>Pro-American and Anti-#Occupy</td>\n",
       "      <td>outbreak</td>\n",
       "      <td>1</td>\n",
       "      <td>breaking 1 0 th death confirmed in legionnaire...</td>\n",
       "      <td>1</td>\n",
       "      <td>1</td>\n",
       "      <td>[breaking]</td>\n",
       "    </tr>\n",
       "    <tr>\n",
       "      <th>39</th>\n",
       "      <td>#BREAKING411 4 police officers arrested for ab...</td>\n",
       "      <td>7748</td>\n",
       "      <td>New York, NY</td>\n",
       "      <td>police</td>\n",
       "      <td>1</td>\n",
       "      <td>breaking 411 number police officers arrested f...</td>\n",
       "      <td>1</td>\n",
       "      <td>1</td>\n",
       "      <td>[breaking411]</td>\n",
       "    </tr>\n",
       "  </tbody>\n",
       "</table>\n",
       "</div>"
      ],
      "text/plain": [
       "                                                 text    id  \\\n",
       "35  #BBSNews latest 4 #Palestine &amp; #Israel -  ...  3337   \n",
       "36  #BBShelli seems pretty sure she's the one that...  9971   \n",
       "37  #BHRAMABULL Watch Run The Jewels Use Facts to ...  8262   \n",
       "38  #BREAKING 10th death confirmed in Legionnaires...  7594   \n",
       "39  #BREAKING411 4 police officers arrested for ab...  7748   \n",
       "\n",
       "                         location     keyword  target  \\\n",
       "35                            USA  demolished       1   \n",
       "36                    Louavul, KY     tsunami       0   \n",
       "37                      tri state     rioting       1   \n",
       "38  Pro-American and Anti-#Occupy    outbreak       1   \n",
       "39                   New York, NY      police       1   \n",
       "\n",
       "                                                ctext  url  hashtag_num  \\\n",
       "35  be back soon news latest number palestine isra...    1            3   \n",
       "36  bye shelli seems pretty sure she is the one th...    0            2   \n",
       "37  bhramabull watch run the jewels use facts to d...    1            1   \n",
       "38  breaking 1 0 th death confirmed in legionnaire...    1            1   \n",
       "39  breaking 411 number police officers arrested f...    1            1   \n",
       "\n",
       "                        hashtags  \n",
       "35  [palestine, israel, bbsnews]  \n",
       "36              [bbshelli, bb17]  \n",
       "37                  [bhramabull]  \n",
       "38                    [breaking]  \n",
       "39                 [breaking411]  "
      ]
     },
     "metadata": {},
     "output_type": "display_data"
    },
    {
     "data": {
      "text/plain": [
       "35    user if you pretend to feel a certain way the ...\n",
       "36    for legal and medical referral service user ca...\n",
       "37    there is a construction guy working on the dis...\n",
       "38    user i feel like i am going to do it on accide...\n",
       "39    on the m 42 northbound between junctions j3 an...\n",
       "Name: ctext, dtype: object"
      ]
     },
     "metadata": {},
     "output_type": "display_data"
    }
   ],
   "source": [
    "df['ctext'] = df['text'].apply(preprocess)\n",
    "test_df['ctext'] = test_df['text'].apply(preprocess)\n",
    "\n",
    "# have a look at clean dataset\n",
    "\n",
    "display(df.iloc[35:40])\n",
    "display(test_df['ctext'].iloc[35:40])"
   ]
  },
  {
   "cell_type": "markdown",
   "id": "702962b5",
   "metadata": {
    "id": "POXOemG8-gI4",
    "papermill": {
     "duration": 0.02775,
     "end_time": "2024-05-21T10:44:45.411135",
     "exception": false,
     "start_time": "2024-05-21T10:44:45.383385",
     "status": "completed"
    },
    "tags": []
   },
   "source": [
    "## Pre-Processing Results"
   ]
  },
  {
   "cell_type": "code",
   "execution_count": 29,
   "id": "a429e94f",
   "metadata": {
    "execution": {
     "iopub.execute_input": "2024-05-21T10:44:45.478558Z",
     "iopub.status.busy": "2024-05-21T10:44:45.477658Z",
     "iopub.status.idle": "2024-05-21T10:45:16.539077Z",
     "shell.execute_reply": "2024-05-21T10:45:16.538005Z"
    },
    "id": "CKNQ0zPu-gI4",
    "papermill": {
     "duration": 31.127077,
     "end_time": "2024-05-21T10:45:16.569185",
     "exception": false,
     "start_time": "2024-05-21T10:44:45.442108",
     "status": "completed"
    },
    "tags": []
   },
   "outputs": [
    {
     "name": "stdout",
     "output_type": "stream",
     "text": [
      "Plain tweet text:  ! Residents Return To Destroyed Homes As Washington Wildfire Burns on http://t.co/UcI8stQUg1\n",
      "\n",
      "Cleaned tweet text:  residents return to destroyed homes as washington wildfire burns on url\n",
      "\n",
      "Plain tweet text:  # handbags Genuine Mulberry Antony Cross Body Messenger Bag Dark Oak Soft Buffalo Leather:  å£279.00End Date: W... http://t.co/FTM4RKl8mN\n",
      "\n",
      "Cleaned tweet text:  handbags genuine mulberry antony cross body messenger bag dark oak soft buffalo leather number 0 end date w url\n",
      "\n",
      "Plain tweet text:  #360WiseNews : China's Stock Market Crash: Are There Gems In The Rubble? http://t.co/9Naw3QOQOL\n",
      "\n",
      "Cleaned tweet text:  360 wise news china is stock market crash are there gems in the rubble url\n",
      "\n",
      "Plain tweet text:  #360WiseNews : China's Stock Market Crash: Are There Gems In The Rubble? http://t.co/aOd2ftBMGU\n",
      "\n",
      "Cleaned tweet text:  360 wise news china is stock market crash are there gems in the rubble url\n",
      "\n",
      "Plain tweet text:  #360WiseNews : China's Stock Market Crash: Are There Gems In The Rubble? http://t.co/eaTFro3d5x\n",
      "\n",
      "Cleaned tweet text:  360 wise news china is stock market crash are there gems in the rubble url\n",
      "\n",
      "Plain tweet text:  #360WiseNews : China's Stock Market Crash: Are There Gems In The Rubble? http://t.co/gQskwqZuUl\n",
      "\n",
      "Cleaned tweet text:  360 wise news china is stock market crash are there gems in the rubble url\n",
      "\n",
      "Plain tweet text:  #3: TITAN WarriorCord 100 Feet - Authentic Military 550 Paracord - MIL-C-5040-H Type III 7 Strand 5/16' di... http://t.co/EEjRMKtJ0R\n",
      "\n",
      "Cleaned tweet text:  number titan warriorcord number feet authentic military number paracord mil c number h type i number strand number di url\n",
      "\n",
      "Plain tweet text:  #3Novices : Renison mine sees seismic event http://t.co/2i4EOGGO5j A small earthquake at Tasmania's Renison tin project has created a temÛ_\n",
      "\n",
      "Cleaned tweet text:  3 novices renison mine sees seismic event url a small earthquake at tasmania is renison tin project has created a tem\n",
      "\n",
      "Plain tweet text:  #4: The Hobbit: The Desolation of Smaug (Bilingual) http://t.co/G5dO2X6226\n",
      "\n",
      "Cleaned tweet text:  number the hobbit the desolation of smaug bilingual url\n",
      "\n",
      "Plain tweet text:  #?? #?? #??? #??? MH370: Aircraft debris found on La Reunion is from missing Malaysia Airlines ...  http://t.co/MRVXBZywd4\n",
      "\n",
      "Cleaned tweet text:  mh370 aircraft debris found on la reunion is from missing malaysia airlines url\n",
      "\n",
      "Count of unknown words in train dataset\n",
      "Vocabs size 11303\n",
      "Unknown vocabs size 4135\n",
      "Tweets contain unknown words: 36.58%\n",
      "\n",
      "Count of unknown words in test dataset\n",
      "Vocabs size 7134\n",
      "Unknown vocabs size 2213\n",
      "Tweets contain unknown words: 31.02%\n"
     ]
    }
   ],
   "source": [
    "for txt, ctxt in df[['text', 'ctext']].values[0:10]:\n",
    "    print('Plain tweet text: ',txt)\n",
    "    print()\n",
    "    print('Cleaned tweet text: ', ctxt)\n",
    "    print()\n",
    "\n",
    "print('Count of unknown words in train dataset')\n",
    "not_word_tokens = get_unk_words(df['ctext'])\n",
    "print()\n",
    "print('Count of unknown words in test dataset')\n",
    "not_word_tokens = get_unk_words(test_df['ctext'])"
   ]
  },
  {
   "cell_type": "markdown",
   "id": "296328d4",
   "metadata": {
    "id": "8-biADnt-gI4",
    "papermill": {
     "duration": 0.027335,
     "end_time": "2024-05-21T10:45:16.624988",
     "exception": false,
     "start_time": "2024-05-21T10:45:16.597653",
     "status": "completed"
    },
    "tags": []
   },
   "source": [
    "### Unknown Words"
   ]
  },
  {
   "cell_type": "code",
   "execution_count": 30,
   "id": "bbd3c75a",
   "metadata": {
    "execution": {
     "iopub.execute_input": "2024-05-21T10:45:16.682134Z",
     "iopub.status.busy": "2024-05-21T10:45:16.681118Z",
     "iopub.status.idle": "2024-05-21T10:45:16.687224Z",
     "shell.execute_reply": "2024-05-21T10:45:16.685909Z"
    },
    "id": "lRqvXKSs-gI4",
    "papermill": {
     "duration": 0.036505,
     "end_time": "2024-05-21T10:45:16.689338",
     "exception": false,
     "start_time": "2024-05-21T10:45:16.652833",
     "status": "completed"
    },
    "tags": []
   },
   "outputs": [
    {
     "name": "stdout",
     "output_type": "stream",
     "text": [
      "pemantaujkt48\n",
      "trotting\n",
      "dubstep\n",
      "hn\n",
      "pray4\n",
      "mdt\n",
      "viab\n",
      "linford\n",
      "edm\n",
      "ibrahimovic\n",
      "wh\n",
      "thi\n",
      "chem\n",
      "sf\n",
      "swc\n",
      "decor\n",
      "privatisation\n",
      "gop\n",
      "onbeingwith\n",
      "nbchannibal\n"
     ]
    }
   ],
   "source": [
    "for tok in list(not_word_tokens)[0:20]:\n",
    "    print(tok)"
   ]
  },
  {
   "cell_type": "markdown",
   "id": "2ddcc68b",
   "metadata": {
    "id": "5sMV8Z96-gI4",
    "papermill": {
     "duration": 0.028946,
     "end_time": "2024-05-21T10:45:16.746116",
     "exception": false,
     "start_time": "2024-05-21T10:45:16.717170",
     "status": "completed"
    },
    "tags": []
   },
   "source": [
    "### Remove duplicated texts"
   ]
  },
  {
   "cell_type": "code",
   "execution_count": 31,
   "id": "74ffdee1",
   "metadata": {
    "execution": {
     "iopub.execute_input": "2024-05-21T10:45:16.804015Z",
     "iopub.status.busy": "2024-05-21T10:45:16.803703Z",
     "iopub.status.idle": "2024-05-21T10:45:23.614659Z",
     "shell.execute_reply": "2024-05-21T10:45:23.613637Z"
    },
    "id": "K_URQ2fX-gI4",
    "papermill": {
     "duration": 6.841758,
     "end_time": "2024-05-21T10:45:23.617038",
     "exception": false,
     "start_time": "2024-05-21T10:45:16.775280",
     "status": "completed"
    },
    "tags": []
   },
   "outputs": [
    {
     "name": "stdout",
     "output_type": "stream",
     "text": [
      "(6861, 6)\n"
     ]
    }
   ],
   "source": [
    "df = df.fillna('unk')\n",
    "test_df = test_df.fillna('unk')\n",
    "\n",
    "df = df.groupby(by = ['ctext']).agg({\n",
    "    'id': 'first',\n",
    "    'location': lambda x:x.value_counts().index[0],\n",
    "    'keyword':lambda x:x.value_counts().index[0],\n",
    "    'target': lambda x:x.value_counts().index[0],\n",
    "    'text': lambda x:x.value_counts().index[0],\n",
    "}).reset_index()\n",
    "\n",
    "print(df.shape)"
   ]
  },
  {
   "cell_type": "markdown",
   "id": "963c69fa",
   "metadata": {
    "id": "25roJFYC-gI5",
    "papermill": {
     "duration": 0.027162,
     "end_time": "2024-05-21T10:45:23.675187",
     "exception": false,
     "start_time": "2024-05-21T10:45:23.648025",
     "status": "completed"
    },
    "tags": []
   },
   "source": [
    "## Clean column keywords\n",
    "* remove strange characters\n",
    "* replace words with their lemma"
   ]
  },
  {
   "cell_type": "code",
   "execution_count": 32,
   "id": "d6e2408f",
   "metadata": {
    "execution": {
     "iopub.execute_input": "2024-05-21T10:45:23.732026Z",
     "iopub.status.busy": "2024-05-21T10:45:23.731536Z",
     "iopub.status.idle": "2024-05-21T10:45:23.738060Z",
     "shell.execute_reply": "2024-05-21T10:45:23.737068Z"
    },
    "id": "YzRbxfM5-gI5",
    "papermill": {
     "duration": 0.037661,
     "end_time": "2024-05-21T10:45:23.740076",
     "exception": false,
     "start_time": "2024-05-21T10:45:23.702415",
     "status": "completed"
    },
    "tags": []
   },
   "outputs": [],
   "source": [
    "def preprocess_keywords(txt):\n",
    "    res = txt.lower()\n",
    "    res = re.sub(r'[^a-zA-Z]', r' ', res)\n",
    "    res = re.sub(r'\\s+', r' ', res)\n",
    "    doc = nlp(res)\n",
    "    res = ' '.join([token.lemma_ for token in doc])\n",
    "    res = re.sub(r'\\s+', r' ', res)\n",
    "    return res.strip()"
   ]
  },
  {
   "cell_type": "code",
   "execution_count": 33,
   "id": "8593e5c9",
   "metadata": {
    "execution": {
     "iopub.execute_input": "2024-05-21T10:45:23.799372Z",
     "iopub.status.busy": "2024-05-21T10:45:23.798621Z",
     "iopub.status.idle": "2024-05-21T10:45:24.992473Z",
     "shell.execute_reply": "2024-05-21T10:45:24.991675Z"
    },
    "id": "PibyYo38-gI5",
    "papermill": {
     "duration": 1.225714,
     "end_time": "2024-05-21T10:45:24.994871",
     "exception": false,
     "start_time": "2024-05-21T10:45:23.769157",
     "status": "completed"
    },
    "tags": []
   },
   "outputs": [],
   "source": [
    "keyword = set(df['keyword'].values)\n",
    "keyword = {\n",
    "    key: preprocess_keywords(key).lower() for key in keyword\n",
    "}\n",
    "    \n",
    "df['ckeyword'] = df['keyword'].apply(lambda txt: keyword[txt])\n",
    "test_df['ckeyword'] = test_df['keyword'].apply(lambda txt: keyword[txt])"
   ]
  },
  {
   "cell_type": "code",
   "execution_count": 34,
   "id": "e1d199ba",
   "metadata": {
    "execution": {
     "iopub.execute_input": "2024-05-21T10:45:25.056151Z",
     "iopub.status.busy": "2024-05-21T10:45:25.055810Z",
     "iopub.status.idle": "2024-05-21T10:45:25.190391Z",
     "shell.execute_reply": "2024-05-21T10:45:25.189640Z"
    },
    "id": "keQTVSNl-gI5",
    "papermill": {
     "duration": 0.167711,
     "end_time": "2024-05-21T10:45:25.192641",
     "exception": false,
     "start_time": "2024-05-21T10:45:25.024930",
     "status": "completed"
    },
    "tags": []
   },
   "outputs": [],
   "source": [
    "df[df['keyword']!='unk'][['keyword', 'ckeyword']]  # print valid keywords which are not 'unk'\n",
    "\n",
    "ids = [328,443,513,2619,3640,3900,4342,5781,6552,6554,6570,6701,6702,6729,6861,7226]\n",
    "df.loc[df['id'].isin(ids), 'target'] = 0\n",
    "\n",
    "df.to_csv('df.csv', index = False)\n",
    "test_df.to_csv('test_df.csv', index = False)"
   ]
  },
  {
   "cell_type": "markdown",
   "id": "32487eea",
   "metadata": {
    "id": "i6k_cyw8-gI6",
    "papermill": {
     "duration": 0.029188,
     "end_time": "2024-05-21T10:45:25.251415",
     "exception": false,
     "start_time": "2024-05-21T10:45:25.222227",
     "status": "completed"
    },
    "tags": []
   },
   "source": [
    "# Model Training"
   ]
  },
  {
   "cell_type": "markdown",
   "id": "b09fb82f",
   "metadata": {
    "id": "mmVguM8s-gI6",
    "papermill": {
     "duration": 0.027237,
     "end_time": "2024-05-21T10:45:25.307004",
     "exception": false,
     "start_time": "2024-05-21T10:45:25.279767",
     "status": "completed"
    },
    "tags": []
   },
   "source": [
    "### 1. LSTM MODEL"
   ]
  },
  {
   "cell_type": "code",
   "execution_count": 35,
   "id": "fb696449",
   "metadata": {
    "execution": {
     "iopub.execute_input": "2024-05-21T10:45:25.364731Z",
     "iopub.status.busy": "2024-05-21T10:45:25.364379Z",
     "iopub.status.idle": "2024-05-21T10:45:35.720121Z",
     "shell.execute_reply": "2024-05-21T10:45:35.718938Z"
    },
    "id": "qmK5tqBK-gI6",
    "papermill": {
     "duration": 10.38749,
     "end_time": "2024-05-21T10:45:35.722608",
     "exception": false,
     "start_time": "2024-05-21T10:45:25.335118",
     "status": "completed"
    },
    "tags": []
   },
   "outputs": [
    {
     "name": "stderr",
     "output_type": "stream",
     "text": [
      "2024-05-21 10:45:26.912400: E external/local_xla/xla/stream_executor/cuda/cuda_dnn.cc:9261] Unable to register cuDNN factory: Attempting to register factory for plugin cuDNN when one has already been registered\n",
      "2024-05-21 10:45:26.912544: E external/local_xla/xla/stream_executor/cuda/cuda_fft.cc:607] Unable to register cuFFT factory: Attempting to register factory for plugin cuFFT when one has already been registered\n",
      "2024-05-21 10:45:27.019076: E external/local_xla/xla/stream_executor/cuda/cuda_blas.cc:1515] Unable to register cuBLAS factory: Attempting to register factory for plugin cuBLAS when one has already been registered\n"
     ]
    }
   ],
   "source": [
    "import tensorflow as tf \n",
    "from tensorflow.keras import layers\n",
    "\n",
    "X = df['ctext'].to_numpy()\n",
    "y = df['target'].to_numpy()\n",
    "\n",
    "from sklearn.model_selection import train_test_split\n",
    "X_train,X_test,y_train,y_test = train_test_split(X,y,\n",
    "                                                 random_state=42, \n",
    "                                                 test_size=0.2)"
   ]
  },
  {
   "cell_type": "code",
   "execution_count": 36,
   "id": "cb63c56e",
   "metadata": {
    "execution": {
     "iopub.execute_input": "2024-05-21T10:45:35.782527Z",
     "iopub.status.busy": "2024-05-21T10:45:35.781536Z",
     "iopub.status.idle": "2024-05-21T10:45:37.069824Z",
     "shell.execute_reply": "2024-05-21T10:45:37.069020Z"
    },
    "papermill": {
     "duration": 1.320493,
     "end_time": "2024-05-21T10:45:37.072177",
     "exception": false,
     "start_time": "2024-05-21T10:45:35.751684",
     "status": "completed"
    },
    "tags": []
   },
   "outputs": [],
   "source": [
    "import tensorflow as tf\n",
    "from tensorflow.keras import layers\n",
    "\n",
    "MAX_TOKENS = 20_000\n",
    "EMBEDDING_SIZE = 64\n",
    "\n",
    "# Assuming X contains your input data\n",
    "text_vectorizer = layers.TextVectorization(max_tokens=MAX_TOKENS)\n",
    "text_vectorizer.adapt(X)\n",
    "\n",
    "inputs = layers.Input(shape=(1,), dtype=tf.string)\n",
    "x = text_vectorizer(inputs)\n",
    "x = layers.Embedding(MAX_TOKENS, EMBEDDING_SIZE)(x)\n",
    "x = layers.Bidirectional(layers.LSTM(64, activation='relu', return_sequences=True))(x)\n",
    "x = layers.LSTM(32, activation='relu')(x)\n",
    "outputs = layers.Dense(1, activation='sigmoid')(x)\n",
    "\n",
    "model = tf.keras.Model(inputs=inputs, outputs=outputs)\n"
   ]
  },
  {
   "cell_type": "code",
   "execution_count": 37,
   "id": "be88e4cc",
   "metadata": {
    "execution": {
     "iopub.execute_input": "2024-05-21T10:45:37.132029Z",
     "iopub.status.busy": "2024-05-21T10:45:37.131710Z",
     "iopub.status.idle": "2024-05-21T10:48:28.476118Z",
     "shell.execute_reply": "2024-05-21T10:48:28.475071Z"
    },
    "id": "1gE81krR-gI6",
    "papermill": {
     "duration": 171.375146,
     "end_time": "2024-05-21T10:48:28.478175",
     "exception": false,
     "start_time": "2024-05-21T10:45:37.103029",
     "status": "completed"
    },
    "tags": []
   },
   "outputs": [
    {
     "data": {
      "text/html": [
       "<pre style=\"white-space:pre;overflow-x:auto;line-height:normal;font-family:Menlo,'DejaVu Sans Mono',consolas,'Courier New',monospace\"><span style=\"font-weight: bold\">Model: \"functional_3\"</span>\n",
       "</pre>\n"
      ],
      "text/plain": [
       "\u001b[1mModel: \"functional_3\"\u001b[0m\n"
      ]
     },
     "metadata": {},
     "output_type": "display_data"
    },
    {
     "data": {
      "text/html": [
       "<pre style=\"white-space:pre;overflow-x:auto;line-height:normal;font-family:Menlo,'DejaVu Sans Mono',consolas,'Courier New',monospace\">┏━━━━━━━━━━━━━━━━━━━━━━━━━━━━━━━━━┳━━━━━━━━━━━━━━━━━━━━━━━━┳━━━━━━━━━━━━━━━┓\n",
       "┃<span style=\"font-weight: bold\"> Layer (type)                    </span>┃<span style=\"font-weight: bold\"> Output Shape           </span>┃<span style=\"font-weight: bold\">       Param # </span>┃\n",
       "┡━━━━━━━━━━━━━━━━━━━━━━━━━━━━━━━━━╇━━━━━━━━━━━━━━━━━━━━━━━━╇━━━━━━━━━━━━━━━┩\n",
       "│ input_layer (<span style=\"color: #0087ff; text-decoration-color: #0087ff\">InputLayer</span>)        │ (<span style=\"color: #00d7ff; text-decoration-color: #00d7ff\">None</span>, <span style=\"color: #00af00; text-decoration-color: #00af00\">1</span>)              │             <span style=\"color: #00af00; text-decoration-color: #00af00\">0</span> │\n",
       "├─────────────────────────────────┼────────────────────────┼───────────────┤\n",
       "│ text_vectorization              │ (<span style=\"color: #00d7ff; text-decoration-color: #00d7ff\">None</span>, <span style=\"color: #00d7ff; text-decoration-color: #00d7ff\">None</span>)           │             <span style=\"color: #00af00; text-decoration-color: #00af00\">0</span> │\n",
       "│ (<span style=\"color: #0087ff; text-decoration-color: #0087ff\">TextVectorization</span>)             │                        │               │\n",
       "├─────────────────────────────────┼────────────────────────┼───────────────┤\n",
       "│ embedding (<span style=\"color: #0087ff; text-decoration-color: #0087ff\">Embedding</span>)           │ (<span style=\"color: #00d7ff; text-decoration-color: #00d7ff\">None</span>, <span style=\"color: #00d7ff; text-decoration-color: #00d7ff\">None</span>, <span style=\"color: #00af00; text-decoration-color: #00af00\">64</span>)       │     <span style=\"color: #00af00; text-decoration-color: #00af00\">1,280,000</span> │\n",
       "├─────────────────────────────────┼────────────────────────┼───────────────┤\n",
       "│ bidirectional (<span style=\"color: #0087ff; text-decoration-color: #0087ff\">Bidirectional</span>)   │ (<span style=\"color: #00d7ff; text-decoration-color: #00d7ff\">None</span>, <span style=\"color: #00d7ff; text-decoration-color: #00d7ff\">None</span>, <span style=\"color: #00af00; text-decoration-color: #00af00\">128</span>)      │        <span style=\"color: #00af00; text-decoration-color: #00af00\">66,048</span> │\n",
       "├─────────────────────────────────┼────────────────────────┼───────────────┤\n",
       "│ lstm_1 (<span style=\"color: #0087ff; text-decoration-color: #0087ff\">LSTM</span>)                   │ (<span style=\"color: #00d7ff; text-decoration-color: #00d7ff\">None</span>, <span style=\"color: #00af00; text-decoration-color: #00af00\">32</span>)             │        <span style=\"color: #00af00; text-decoration-color: #00af00\">20,608</span> │\n",
       "├─────────────────────────────────┼────────────────────────┼───────────────┤\n",
       "│ dense (<span style=\"color: #0087ff; text-decoration-color: #0087ff\">Dense</span>)                   │ (<span style=\"color: #00d7ff; text-decoration-color: #00d7ff\">None</span>, <span style=\"color: #00af00; text-decoration-color: #00af00\">1</span>)              │            <span style=\"color: #00af00; text-decoration-color: #00af00\">33</span> │\n",
       "└─────────────────────────────────┴────────────────────────┴───────────────┘\n",
       "</pre>\n"
      ],
      "text/plain": [
       "┏━━━━━━━━━━━━━━━━━━━━━━━━━━━━━━━━━┳━━━━━━━━━━━━━━━━━━━━━━━━┳━━━━━━━━━━━━━━━┓\n",
       "┃\u001b[1m \u001b[0m\u001b[1mLayer (type)                   \u001b[0m\u001b[1m \u001b[0m┃\u001b[1m \u001b[0m\u001b[1mOutput Shape          \u001b[0m\u001b[1m \u001b[0m┃\u001b[1m \u001b[0m\u001b[1m      Param #\u001b[0m\u001b[1m \u001b[0m┃\n",
       "┡━━━━━━━━━━━━━━━━━━━━━━━━━━━━━━━━━╇━━━━━━━━━━━━━━━━━━━━━━━━╇━━━━━━━━━━━━━━━┩\n",
       "│ input_layer (\u001b[38;5;33mInputLayer\u001b[0m)        │ (\u001b[38;5;45mNone\u001b[0m, \u001b[38;5;34m1\u001b[0m)              │             \u001b[38;5;34m0\u001b[0m │\n",
       "├─────────────────────────────────┼────────────────────────┼───────────────┤\n",
       "│ text_vectorization              │ (\u001b[38;5;45mNone\u001b[0m, \u001b[38;5;45mNone\u001b[0m)           │             \u001b[38;5;34m0\u001b[0m │\n",
       "│ (\u001b[38;5;33mTextVectorization\u001b[0m)             │                        │               │\n",
       "├─────────────────────────────────┼────────────────────────┼───────────────┤\n",
       "│ embedding (\u001b[38;5;33mEmbedding\u001b[0m)           │ (\u001b[38;5;45mNone\u001b[0m, \u001b[38;5;45mNone\u001b[0m, \u001b[38;5;34m64\u001b[0m)       │     \u001b[38;5;34m1,280,000\u001b[0m │\n",
       "├─────────────────────────────────┼────────────────────────┼───────────────┤\n",
       "│ bidirectional (\u001b[38;5;33mBidirectional\u001b[0m)   │ (\u001b[38;5;45mNone\u001b[0m, \u001b[38;5;45mNone\u001b[0m, \u001b[38;5;34m128\u001b[0m)      │        \u001b[38;5;34m66,048\u001b[0m │\n",
       "├─────────────────────────────────┼────────────────────────┼───────────────┤\n",
       "│ lstm_1 (\u001b[38;5;33mLSTM\u001b[0m)                   │ (\u001b[38;5;45mNone\u001b[0m, \u001b[38;5;34m32\u001b[0m)             │        \u001b[38;5;34m20,608\u001b[0m │\n",
       "├─────────────────────────────────┼────────────────────────┼───────────────┤\n",
       "│ dense (\u001b[38;5;33mDense\u001b[0m)                   │ (\u001b[38;5;45mNone\u001b[0m, \u001b[38;5;34m1\u001b[0m)              │            \u001b[38;5;34m33\u001b[0m │\n",
       "└─────────────────────────────────┴────────────────────────┴───────────────┘\n"
      ]
     },
     "metadata": {},
     "output_type": "display_data"
    },
    {
     "data": {
      "text/html": [
       "<pre style=\"white-space:pre;overflow-x:auto;line-height:normal;font-family:Menlo,'DejaVu Sans Mono',consolas,'Courier New',monospace\"><span style=\"font-weight: bold\"> Total params: </span><span style=\"color: #00af00; text-decoration-color: #00af00\">1,366,689</span> (5.21 MB)\n",
       "</pre>\n"
      ],
      "text/plain": [
       "\u001b[1m Total params: \u001b[0m\u001b[38;5;34m1,366,689\u001b[0m (5.21 MB)\n"
      ]
     },
     "metadata": {},
     "output_type": "display_data"
    },
    {
     "data": {
      "text/html": [
       "<pre style=\"white-space:pre;overflow-x:auto;line-height:normal;font-family:Menlo,'DejaVu Sans Mono',consolas,'Courier New',monospace\"><span style=\"font-weight: bold\"> Trainable params: </span><span style=\"color: #00af00; text-decoration-color: #00af00\">1,366,689</span> (5.21 MB)\n",
       "</pre>\n"
      ],
      "text/plain": [
       "\u001b[1m Trainable params: \u001b[0m\u001b[38;5;34m1,366,689\u001b[0m (5.21 MB)\n"
      ]
     },
     "metadata": {},
     "output_type": "display_data"
    },
    {
     "data": {
      "text/html": [
       "<pre style=\"white-space:pre;overflow-x:auto;line-height:normal;font-family:Menlo,'DejaVu Sans Mono',consolas,'Courier New',monospace\"><span style=\"font-weight: bold\"> Non-trainable params: </span><span style=\"color: #00af00; text-decoration-color: #00af00\">0</span> (0.00 B)\n",
       "</pre>\n"
      ],
      "text/plain": [
       "\u001b[1m Non-trainable params: \u001b[0m\u001b[38;5;34m0\u001b[0m (0.00 B)\n"
      ]
     },
     "metadata": {},
     "output_type": "display_data"
    },
    {
     "name": "stdout",
     "output_type": "stream",
     "text": [
      "Epoch 1/10\n",
      "\u001b[1m172/172\u001b[0m \u001b[32m━━━━━━━━━━━━━━━━━━━━\u001b[0m\u001b[37m\u001b[0m \u001b[1m25s\u001b[0m 97ms/step - accuracy: 0.5839 - loss: 0.6643 - val_accuracy: 0.7961 - val_loss: 0.4629\n",
      "Epoch 2/10\n",
      "\u001b[1m172/172\u001b[0m \u001b[32m━━━━━━━━━━━━━━━━━━━━\u001b[0m\u001b[37m\u001b[0m \u001b[1m16s\u001b[0m 92ms/step - accuracy: 0.8534 - loss: 0.3645 - val_accuracy: 0.7997 - val_loss: 0.4837\n",
      "Epoch 3/10\n",
      "\u001b[1m172/172\u001b[0m \u001b[32m━━━━━━━━━━━━━━━━━━━━\u001b[0m\u001b[37m\u001b[0m \u001b[1m16s\u001b[0m 92ms/step - accuracy: 0.9286 - loss: 0.2072 - val_accuracy: 0.7895 - val_loss: 0.5131\n",
      "Epoch 4/10\n",
      "\u001b[1m172/172\u001b[0m \u001b[32m━━━━━━━━━━━━━━━━━━━━\u001b[0m\u001b[37m\u001b[0m \u001b[1m16s\u001b[0m 92ms/step - accuracy: 0.9538 - loss: 0.1274 - val_accuracy: 0.7793 - val_loss: 0.6021\n",
      "Epoch 5/10\n",
      "\u001b[1m172/172\u001b[0m \u001b[32m━━━━━━━━━━━━━━━━━━━━\u001b[0m\u001b[37m\u001b[0m \u001b[1m16s\u001b[0m 94ms/step - accuracy: 0.9775 - loss: 0.0694 - val_accuracy: 0.7611 - val_loss: 6.2264\n",
      "Epoch 6/10\n",
      "\u001b[1m172/172\u001b[0m \u001b[32m━━━━━━━━━━━━━━━━━━━━\u001b[0m\u001b[37m\u001b[0m \u001b[1m16s\u001b[0m 92ms/step - accuracy: 0.9809 - loss: 2.2227 - val_accuracy: 0.7597 - val_loss: 38.8586\n",
      "Epoch 7/10\n",
      "\u001b[1m172/172\u001b[0m \u001b[32m━━━━━━━━━━━━━━━━━━━━\u001b[0m\u001b[37m\u001b[0m \u001b[1m16s\u001b[0m 94ms/step - accuracy: 0.9888 - loss: 0.0314 - val_accuracy: 0.7458 - val_loss: 192.9667\n",
      "Epoch 8/10\n",
      "\u001b[1m172/172\u001b[0m \u001b[32m━━━━━━━━━━━━━━━━━━━━\u001b[0m\u001b[37m\u001b[0m \u001b[1m16s\u001b[0m 92ms/step - accuracy: 0.9929 - loss: 0.0242 - val_accuracy: 0.7320 - val_loss: 45.5062\n",
      "Epoch 9/10\n",
      "\u001b[1m172/172\u001b[0m \u001b[32m━━━━━━━━━━━━━━━━━━━━\u001b[0m\u001b[37m\u001b[0m \u001b[1m16s\u001b[0m 93ms/step - accuracy: 0.9922 - loss: 0.0227 - val_accuracy: 0.7553 - val_loss: 188.5444\n",
      "Epoch 10/10\n",
      "\u001b[1m172/172\u001b[0m \u001b[32m━━━━━━━━━━━━━━━━━━━━\u001b[0m\u001b[37m\u001b[0m \u001b[1m16s\u001b[0m 92ms/step - accuracy: 0.9925 - loss: 0.0222 - val_accuracy: 0.7597 - val_loss: 134.3609\n",
      "Average Accuracy of LSTM Model :\n",
      "\u001b[1m43/43\u001b[0m \u001b[32m━━━━━━━━━━━━━━━━━━━━\u001b[0m\u001b[37m\u001b[0m \u001b[1m1s\u001b[0m 32ms/step - accuracy: 0.7740 - loss: 54.0824\n"
     ]
    },
    {
     "data": {
      "text/plain": [
       "[134.36085510253906, 0.7596504092216492]"
      ]
     },
     "execution_count": 37,
     "metadata": {},
     "output_type": "execute_result"
    }
   ],
   "source": [
    "import tensorflow as tf\n",
    "model = tf.keras.models.Model(inputs, outputs)\n",
    "\n",
    "model.summary()\n",
    "model.compile(optimizer='adam',\n",
    "              loss=tf.keras.losses.BinaryCrossentropy(), \n",
    "              metrics = ['accuracy'])\n",
    "history = model.fit(X_train,y_train,\n",
    "          validation_data = (X_test,y_test),\n",
    "          epochs = 10)\n",
    "\n",
    "print('Average Accuracy of LSTM Model :')\n",
    "model.evaluate(X_test,y_test)"
   ]
  },
  {
   "cell_type": "markdown",
   "id": "474ffda0",
   "metadata": {
    "papermill": {
     "duration": 0.18141,
     "end_time": "2024-05-21T10:48:28.840222",
     "exception": false,
     "start_time": "2024-05-21T10:48:28.658812",
     "status": "completed"
    },
    "tags": []
   },
   "source": [
    "## Visualisation"
   ]
  },
  {
   "cell_type": "code",
   "execution_count": 38,
   "id": "68fe3bdf",
   "metadata": {
    "execution": {
     "iopub.execute_input": "2024-05-21T10:48:29.198604Z",
     "iopub.status.busy": "2024-05-21T10:48:29.198199Z",
     "iopub.status.idle": "2024-05-21T10:48:29.576600Z",
     "shell.execute_reply": "2024-05-21T10:48:29.575507Z"
    },
    "id": "zheFD4yW-gI7",
    "papermill": {
     "duration": 0.562955,
     "end_time": "2024-05-21T10:48:29.578903",
     "exception": false,
     "start_time": "2024-05-21T10:48:29.015948",
     "status": "completed"
    },
    "tags": []
   },
   "outputs": [
    {
     "data": {
      "text/plain": [
       "<matplotlib.legend.Legend at 0x7e61a0294d00>"
      ]
     },
     "execution_count": 38,
     "metadata": {},
     "output_type": "execute_result"
    },
    {
     "data": {
      "image/png": "[encoded data removed]",
      "text/plain": [
       "<Figure size 640x480 with 1 Axes>"
      ]
     },
     "metadata": {},
     "output_type": "display_data"
    }
   ],
   "source": [
    "# import matplotlib.pyplot as plt\n",
    "plt.plot(history.history['val_accuracy'],'r',label='val_acc')\n",
    "plt.plot(history.history['accuracy'],'b',label='train_acc')\n",
    "plt.title(\"Model Accuracy Curve\")\n",
    "plt.ylabel(\"Accuracy\")\n",
    "plt.xlabel(\"Number of Epochs\")\n",
    "plt.grid()\n",
    "plt.legend()"
   ]
  },
  {
   "cell_type": "markdown",
   "id": "d7697e6a",
   "metadata": {
    "papermill": {
     "duration": 0.173777,
     "end_time": "2024-05-21T10:48:29.935459",
     "exception": false,
     "start_time": "2024-05-21T10:48:29.761682",
     "status": "completed"
    },
    "tags": []
   },
   "source": [
    "## Model Testing"
   ]
  },
  {
   "cell_type": "code",
   "execution_count": 39,
   "id": "e1c903af",
   "metadata": {
    "execution": {
     "iopub.execute_input": "2024-05-21T10:48:30.284747Z",
     "iopub.status.busy": "2024-05-21T10:48:30.284348Z",
     "iopub.status.idle": "2024-05-21T10:48:34.821463Z",
     "shell.execute_reply": "2024-05-21T10:48:34.820571Z"
    },
    "papermill": {
     "duration": 4.712062,
     "end_time": "2024-05-21T10:48:34.823819",
     "exception": false,
     "start_time": "2024-05-21T10:48:30.111757",
     "status": "completed"
    },
    "tags": []
   },
   "outputs": [
    {
     "name": "stdout",
     "output_type": "stream",
     "text": [
      "Actual target values : \n",
      "[1 1 1 1 1 1 0 0 0 0 0 0 0 0 0 1 0 0 0 0 0 0 0 1 0]\n",
      "\n",
      "\u001b[1m102/102\u001b[0m \u001b[32m━━━━━━━━━━━━━━━━━━━━\u001b[0m\u001b[37m\u001b[0m \u001b[1m4s\u001b[0m 37ms/step\n",
      "Predicted Values by the model : \n"
     ]
    },
    {
     "data": {
      "text/html": [
       "<div>\n",
       "<style scoped>\n",
       "    .dataframe tbody tr th:only-of-type {\n",
       "        vertical-align: middle;\n",
       "    }\n",
       "\n",
       "    .dataframe tbody tr th {\n",
       "        vertical-align: top;\n",
       "    }\n",
       "\n",
       "    .dataframe thead th {\n",
       "        text-align: right;\n",
       "    }\n",
       "</style>\n",
       "<table border=\"1\" class=\"dataframe\">\n",
       "  <thead>\n",
       "    <tr style=\"text-align: right;\">\n",
       "      <th></th>\n",
       "      <th>id</th>\n",
       "      <th>target</th>\n",
       "    </tr>\n",
       "  </thead>\n",
       "  <tbody>\n",
       "    <tr>\n",
       "      <th>0</th>\n",
       "      <td>0</td>\n",
       "      <td>1</td>\n",
       "    </tr>\n",
       "    <tr>\n",
       "      <th>1</th>\n",
       "      <td>2</td>\n",
       "      <td>1</td>\n",
       "    </tr>\n",
       "    <tr>\n",
       "      <th>2</th>\n",
       "      <td>3</td>\n",
       "      <td>1</td>\n",
       "    </tr>\n",
       "    <tr>\n",
       "      <th>3</th>\n",
       "      <td>9</td>\n",
       "      <td>1</td>\n",
       "    </tr>\n",
       "    <tr>\n",
       "      <th>4</th>\n",
       "      <td>11</td>\n",
       "      <td>1</td>\n",
       "    </tr>\n",
       "    <tr>\n",
       "      <th>5</th>\n",
       "      <td>12</td>\n",
       "      <td>0</td>\n",
       "    </tr>\n",
       "    <tr>\n",
       "      <th>6</th>\n",
       "      <td>21</td>\n",
       "      <td>0</td>\n",
       "    </tr>\n",
       "    <tr>\n",
       "      <th>7</th>\n",
       "      <td>22</td>\n",
       "      <td>0</td>\n",
       "    </tr>\n",
       "    <tr>\n",
       "      <th>8</th>\n",
       "      <td>27</td>\n",
       "      <td>0</td>\n",
       "    </tr>\n",
       "    <tr>\n",
       "      <th>9</th>\n",
       "      <td>29</td>\n",
       "      <td>0</td>\n",
       "    </tr>\n",
       "    <tr>\n",
       "      <th>10</th>\n",
       "      <td>30</td>\n",
       "      <td>0</td>\n",
       "    </tr>\n",
       "    <tr>\n",
       "      <th>11</th>\n",
       "      <td>35</td>\n",
       "      <td>0</td>\n",
       "    </tr>\n",
       "    <tr>\n",
       "      <th>12</th>\n",
       "      <td>42</td>\n",
       "      <td>0</td>\n",
       "    </tr>\n",
       "    <tr>\n",
       "      <th>13</th>\n",
       "      <td>43</td>\n",
       "      <td>0</td>\n",
       "    </tr>\n",
       "    <tr>\n",
       "      <th>14</th>\n",
       "      <td>45</td>\n",
       "      <td>0</td>\n",
       "    </tr>\n",
       "    <tr>\n",
       "      <th>15</th>\n",
       "      <td>46</td>\n",
       "      <td>1</td>\n",
       "    </tr>\n",
       "    <tr>\n",
       "      <th>16</th>\n",
       "      <td>47</td>\n",
       "      <td>0</td>\n",
       "    </tr>\n",
       "    <tr>\n",
       "      <th>17</th>\n",
       "      <td>51</td>\n",
       "      <td>1</td>\n",
       "    </tr>\n",
       "    <tr>\n",
       "      <th>18</th>\n",
       "      <td>58</td>\n",
       "      <td>0</td>\n",
       "    </tr>\n",
       "    <tr>\n",
       "      <th>19</th>\n",
       "      <td>60</td>\n",
       "      <td>0</td>\n",
       "    </tr>\n",
       "    <tr>\n",
       "      <th>20</th>\n",
       "      <td>69</td>\n",
       "      <td>0</td>\n",
       "    </tr>\n",
       "    <tr>\n",
       "      <th>21</th>\n",
       "      <td>70</td>\n",
       "      <td>0</td>\n",
       "    </tr>\n",
       "    <tr>\n",
       "      <th>22</th>\n",
       "      <td>72</td>\n",
       "      <td>0</td>\n",
       "    </tr>\n",
       "    <tr>\n",
       "      <th>23</th>\n",
       "      <td>75</td>\n",
       "      <td>1</td>\n",
       "    </tr>\n",
       "    <tr>\n",
       "      <th>24</th>\n",
       "      <td>84</td>\n",
       "      <td>0</td>\n",
       "    </tr>\n",
       "  </tbody>\n",
       "</table>\n",
       "</div>"
      ],
      "text/plain": [
       "    id  target\n",
       "0    0       1\n",
       "1    2       1\n",
       "2    3       1\n",
       "3    9       1\n",
       "4   11       1\n",
       "5   12       0\n",
       "6   21       0\n",
       "7   22       0\n",
       "8   27       0\n",
       "9   29       0\n",
       "10  30       0\n",
       "11  35       0\n",
       "12  42       0\n",
       "13  43       0\n",
       "14  45       0\n",
       "15  46       1\n",
       "16  47       0\n",
       "17  51       1\n",
       "18  58       0\n",
       "19  60       0\n",
       "20  69       0\n",
       "21  70       0\n",
       "22  72       0\n",
       "23  75       1\n",
       "24  84       0"
      ]
     },
     "metadata": {},
     "output_type": "display_data"
    }
   ],
   "source": [
    "#Model prediction on TC\n",
    "\n",
    "x_test = test_df['ctext'].to_numpy()\n",
    "\n",
    "#display(test_df.iloc[:25])\n",
    "#print(x_test)\n",
    "\n",
    "y_actual = test_df['target'].to_numpy()\n",
    "print(\"Actual target values : \")\n",
    "print(y_actual[:25])\n",
    "print()\n",
    "preds = model.predict(test_df['ctext'])\n",
    "preds = tf.squeeze(tf.round(preds))\n",
    "\n",
    "submission = pd.read_csv('/kaggle/input/pg-final-project-datasets/sample_submission.csv')\n",
    "\n",
    "submission['target'] = preds.numpy().astype(int)\n",
    "\n",
    "#submission.head()\n",
    "print('Predicted Values by the model : ')\n",
    "display(submission.iloc[:25])\n"
   ]
  },
  {
   "cell_type": "code",
   "execution_count": 40,
   "id": "e0cd1d74",
   "metadata": {
    "execution": {
     "iopub.execute_input": "2024-05-21T10:48:35.199594Z",
     "iopub.status.busy": "2024-05-21T10:48:35.199232Z",
     "iopub.status.idle": "2024-05-21T10:48:35.819425Z",
     "shell.execute_reply": "2024-05-21T10:48:35.817909Z"
    },
    "papermill": {
     "duration": 0.812628,
     "end_time": "2024-05-21T10:48:35.821233",
     "exception": true,
     "start_time": "2024-05-21T10:48:35.008605",
     "status": "failed"
    },
    "tags": []
   },
   "outputs": [
    {
     "ename": "NameError",
     "evalue": "name 'y_pred' is not defined",
     "output_type": "error",
     "traceback": [
      "\u001b[0;31m---------------------------------------------------------------------------\u001b[0m",
      "\u001b[0;31mNameError\u001b[0m                                 Traceback (most recent call last)",
      "Cell \u001b[0;32mIn[40], line 5\u001b[0m\n\u001b[1;32m      3\u001b[0m \u001b[38;5;28;01mimport\u001b[39;00m \u001b[38;5;21;01mmatplotlib\u001b[39;00m\u001b[38;5;21;01m.\u001b[39;00m\u001b[38;5;21;01mpyplot\u001b[39;00m \u001b[38;5;28;01mas\u001b[39;00m \u001b[38;5;21;01mplt\u001b[39;00m\n\u001b[1;32m      4\u001b[0m \u001b[38;5;66;03m# Calculate evaluation metrics\u001b[39;00m\n\u001b[0;32m----> 5\u001b[0m test_accuracy \u001b[38;5;241m=\u001b[39m accuracy_score(y_test, \u001b[43my_pred\u001b[49m)\n\u001b[1;32m      6\u001b[0m \u001b[38;5;28mprint\u001b[39m(\u001b[38;5;124m\"\u001b[39m\u001b[38;5;124mTest Accuracy:\u001b[39m\u001b[38;5;124m\"\u001b[39m, test_accuracy)\n\u001b[1;32m      8\u001b[0m precision \u001b[38;5;241m=\u001b[39m precision_score(y_test, y_pred)\n",
      "\u001b[0;31mNameError\u001b[0m: name 'y_pred' is not defined"
     ]
    }
   ],
   "source": [
    "from sklearn.metrics import accuracy_score, precision_score, recall_score, f1_score, confusion_matrix\n",
    "import seaborn as sns\n",
    "import matplotlib.pyplot as plt\n",
    "# Calculate evaluation metrics\n",
    "test_accuracy = accuracy_score(y_test, y_pred)\n",
    "print(\"Test Accuracy:\", test_accuracy)\n",
    "\n",
    "precision = precision_score(y_test, y_pred)\n",
    "print(\"Precision:\", precision)\n",
    "\n",
    "recall = recall_score(y_test, y_pred)\n",
    "print(\"Recall:\", recall)\n",
    "\n",
    "f1 = f1_score(y_test, y_pred)\n",
    "print(\"F1-score:\", f1)\n",
    "\n",
    "# Generate the confusion matrix\n",
    "conf_matrix = confusion_matrix(y_test, y_pred)\n",
    "\n",
    "# Plot the confusion matrix\n",
    "plt.figure(figsize=(8, 6))\n",
    "sns.heatmap(conf_matrix, annot=True, fmt='d', cmap='Blues')\n",
    "plt.xlabel('Predicted Labels')\n",
    "plt.ylabel('True Labels')\n",
    "plt.title('Confusion Matrix')\n",
    "plt.show()"
   ]
  },
  {
   "cell_type": "code",
   "execution_count": null,
   "id": "9977a41c",
   "metadata": {
    "papermill": {
     "duration": null,
     "end_time": null,
     "exception": null,
     "start_time": null,
     "status": "pending"
    },
    "tags": []
   },
   "outputs": [],
   "source": []
  },
  {
   "cell_type": "code",
   "execution_count": null,
   "id": "8cc92e04",
   "metadata": {
    "papermill": {
     "duration": null,
     "end_time": null,
     "exception": null,
     "start_time": null,
     "status": "pending"
    },
    "tags": []
   },
   "outputs": [],
   "source": []
  }
 ],
 "metadata": {
  "kaggle": {
   "accelerator": "nvidiaTeslaT4",
   "dataSources": [
    {
     "datasetId": 494054,
     "sourceId": 918121,
     "sourceType": "datasetVersion"
    },
    {
     "datasetId": 4984321,
     "sourceId": 8381549,
     "sourceType": "datasetVersion"
    },
    {
     "datasetId": 5020159,
     "sourceId": 8430008,
     "sourceType": "datasetVersion"
    },
    {
     "datasetId": 5020168,
     "sourceId": 8430017,
     "sourceType": "datasetVersion"
    },
    {
     "datasetId": 934701,
     "sourceId": 8453282,
     "sourceType": "datasetVersion"
    }
   ],
   "dockerImageVersionId": 30698,
   "isGpuEnabled": true,
   "isInternetEnabled": true,
   "language": "python",
   "sourceType": "notebook"
  },
  "kernelspec": {
   "display_name": "Python 3",
   "language": "python",
   "name": "python3"
  },
  "language_info": {
   "codemirror_mode": {
    "name": "ipython",
    "version": 3
   },
   "file_extension": ".py",
   "mimetype": "text/x-python",
   "name": "python",
   "nbconvert_exporter": "python",
   "pygments_lexer": "ipython3",
   "version": "3.10.13"
  },
  "papermill": {
   "default_parameters": {},
   "duration": 351.272492,
   "end_time": "2024-05-21T10:48:39.114367",
   "environment_variables": {},
   "exception": true,
   "input_path": "__notebook__.ipynb",
   "output_path": "__notebook__.ipynb",
   "parameters": {},
   "start_time": "2024-05-21T10:42:47.841875",
   "version": "2.5.0"
  }
 },
 "nbformat": 4,
 "nbformat_minor": 5
}
