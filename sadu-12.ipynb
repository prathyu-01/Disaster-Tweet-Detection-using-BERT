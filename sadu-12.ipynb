{
 "cells": [
  {
   "cell_type": "code",
   "execution_count": 1,
   "metadata": {
    "execution": {
     "iopub.execute_input": "2024-05-20T17:03:57.842242Z",
     "iopub.status.busy": "2024-05-20T17:03:57.841933Z",
     "iopub.status.idle": "2024-05-20T17:04:16.247383Z",
     "shell.execute_reply": "2024-05-20T17:04:16.246294Z",
     "shell.execute_reply.started": "2024-05-20T17:03:57.842216Z"
    }
   },
   "outputs": [
    {
     "name": "stdout",
     "output_type": "stream",
     "text": [
      "Found existing installation: tensorflow 2.15.0\n",
      "Uninstalling tensorflow-2.15.0:\n",
      "  Successfully uninstalled tensorflow-2.15.0\n"
     ]
    }
   ],
   "source": [
    "!pip uninstall tensorflow -y"
   ]
  },
  {
   "cell_type": "code",
   "execution_count": 2,
   "metadata": {
    "execution": {
     "iopub.execute_input": "2024-05-20T17:04:17.941323Z",
     "iopub.status.busy": "2024-05-20T17:04:17.940617Z",
     "iopub.status.idle": "2024-05-20T17:04:57.348492Z",
     "shell.execute_reply": "2024-05-20T17:04:57.347600Z",
     "shell.execute_reply.started": "2024-05-20T17:04:17.941286Z"
    }
   },
   "outputs": [
    {
     "name": "stdout",
     "output_type": "stream",
     "text": [
      "Collecting tensorflow==2.15.0\n",
      "  Downloading tensorflow-2.15.0-cp310-cp310-manylinux_2_17_x86_64.manylinux2014_x86_64.whl.metadata (4.4 kB)\n",
      "Requirement already satisfied: absl-py>=1.0.0 in /opt/conda/lib/python3.10/site-packages (from tensorflow==2.15.0) (1.4.0)\n",
      "Requirement already satisfied: astunparse>=1.6.0 in /opt/conda/lib/python3.10/site-packages (from tensorflow==2.15.0) (1.6.3)\n",
      "Requirement already satisfied: flatbuffers>=23.5.26 in /opt/conda/lib/python3.10/site-packages (from tensorflow==2.15.0) (23.5.26)\n",
      "Requirement already satisfied: gast!=0.5.0,!=0.5.1,!=0.5.2,>=0.2.1 in /opt/conda/lib/python3.10/site-packages (from tensorflow==2.15.0) (0.5.4)\n",
      "Requirement already satisfied: google-pasta>=0.1.1 in /opt/conda/lib/python3.10/site-packages (from tensorflow==2.15.0) (0.2.0)\n",
      "Requirement already satisfied: h5py>=2.9.0 in /opt/conda/lib/python3.10/site-packages (from tensorflow==2.15.0) (3.10.0)\n",
      "Requirement already satisfied: libclang>=13.0.0 in /opt/conda/lib/python3.10/site-packages (from tensorflow==2.15.0) (16.0.6)\n",
      "Requirement already satisfied: ml-dtypes~=0.2.0 in /opt/conda/lib/python3.10/site-packages (from tensorflow==2.15.0) (0.2.0)\n",
      "Requirement already satisfied: numpy<2.0.0,>=1.23.5 in /opt/conda/lib/python3.10/site-packages (from tensorflow==2.15.0) (1.24.4)\n",
      "Requirement already satisfied: opt-einsum>=2.3.2 in /opt/conda/lib/python3.10/site-packages (from tensorflow==2.15.0) (3.3.0)\n",
      "Requirement already satisfied: packaging in /opt/conda/lib/python3.10/site-packages (from tensorflow==2.15.0) (21.3)\n",
      "Requirement already satisfied: protobuf!=4.21.0,!=4.21.1,!=4.21.2,!=4.21.3,!=4.21.4,!=4.21.5,<5.0.0dev,>=3.20.3 in /opt/conda/lib/python3.10/site-packages (from tensorflow==2.15.0) (3.20.3)\n",
      "Requirement already satisfied: setuptools in /opt/conda/lib/python3.10/site-packages (from tensorflow==2.15.0) (69.0.3)\n",
      "Requirement already satisfied: six>=1.12.0 in /opt/conda/lib/python3.10/site-packages (from tensorflow==2.15.0) (1.16.0)\n",
      "Requirement already satisfied: termcolor>=1.1.0 in /opt/conda/lib/python3.10/site-packages (from tensorflow==2.15.0) (2.4.0)\n",
      "Requirement already satisfied: typing-extensions>=3.6.6 in /opt/conda/lib/python3.10/site-packages (from tensorflow==2.15.0) (4.9.0)\n",
      "Requirement already satisfied: wrapt<1.15,>=1.11.0 in /opt/conda/lib/python3.10/site-packages (from tensorflow==2.15.0) (1.14.1)\n",
      "Requirement already satisfied: tensorflow-io-gcs-filesystem>=0.23.1 in /opt/conda/lib/python3.10/site-packages (from tensorflow==2.15.0) (0.35.0)\n",
      "Requirement already satisfied: grpcio<2.0,>=1.24.3 in /opt/conda/lib/python3.10/site-packages (from tensorflow==2.15.0) (1.51.1)\n",
      "Requirement already satisfied: tensorboard<2.16,>=2.15 in /opt/conda/lib/python3.10/site-packages (from tensorflow==2.15.0) (2.15.1)\n",
      "Requirement already satisfied: tensorflow-estimator<2.16,>=2.15.0 in /opt/conda/lib/python3.10/site-packages (from tensorflow==2.15.0) (2.15.0)\n",
      "Requirement already satisfied: keras<2.16,>=2.15.0 in /opt/conda/lib/python3.10/site-packages (from tensorflow==2.15.0) (2.15.0)\n",
      "Requirement already satisfied: wheel<1.0,>=0.23.0 in /opt/conda/lib/python3.10/site-packages (from astunparse>=1.6.0->tensorflow==2.15.0) (0.42.0)\n",
      "Requirement already satisfied: google-auth<3,>=1.6.3 in /opt/conda/lib/python3.10/site-packages (from tensorboard<2.16,>=2.15->tensorflow==2.15.0) (2.26.1)\n",
      "Requirement already satisfied: google-auth-oauthlib<2,>=0.5 in /opt/conda/lib/python3.10/site-packages (from tensorboard<2.16,>=2.15->tensorflow==2.15.0) (1.2.0)\n",
      "Requirement already satisfied: markdown>=2.6.8 in /opt/conda/lib/python3.10/site-packages (from tensorboard<2.16,>=2.15->tensorflow==2.15.0) (3.5.2)\n",
      "Requirement already satisfied: requests<3,>=2.21.0 in /opt/conda/lib/python3.10/site-packages (from tensorboard<2.16,>=2.15->tensorflow==2.15.0) (2.31.0)\n",
      "Requirement already satisfied: tensorboard-data-server<0.8.0,>=0.7.0 in /opt/conda/lib/python3.10/site-packages (from tensorboard<2.16,>=2.15->tensorflow==2.15.0) (0.7.2)\n",
      "Requirement already satisfied: werkzeug>=1.0.1 in /opt/conda/lib/python3.10/site-packages (from tensorboard<2.16,>=2.15->tensorflow==2.15.0) (3.0.1)\n",
      "Requirement already satisfied: pyparsing!=3.0.5,>=2.0.2 in /opt/conda/lib/python3.10/site-packages (from packaging->tensorflow==2.15.0) (3.1.1)\n",
      "Requirement already satisfied: cachetools<6.0,>=2.0.0 in /opt/conda/lib/python3.10/site-packages (from google-auth<3,>=1.6.3->tensorboard<2.16,>=2.15->tensorflow==2.15.0) (4.2.4)\n",
      "Requirement already satisfied: pyasn1-modules>=0.2.1 in /opt/conda/lib/python3.10/site-packages (from google-auth<3,>=1.6.3->tensorboard<2.16,>=2.15->tensorflow==2.15.0) (0.3.0)\n",
      "Requirement already satisfied: rsa<5,>=3.1.4 in /opt/conda/lib/python3.10/site-packages (from google-auth<3,>=1.6.3->tensorboard<2.16,>=2.15->tensorflow==2.15.0) (4.9)\n",
      "Requirement already satisfied: requests-oauthlib>=0.7.0 in /opt/conda/lib/python3.10/site-packages (from google-auth-oauthlib<2,>=0.5->tensorboard<2.16,>=2.15->tensorflow==2.15.0) (1.3.1)\n",
      "Requirement already satisfied: charset-normalizer<4,>=2 in /opt/conda/lib/python3.10/site-packages (from requests<3,>=2.21.0->tensorboard<2.16,>=2.15->tensorflow==2.15.0) (3.3.2)\n",
      "Requirement already satisfied: idna<4,>=2.5 in /opt/conda/lib/python3.10/site-packages (from requests<3,>=2.21.0->tensorboard<2.16,>=2.15->tensorflow==2.15.0) (3.6)\n",
      "Requirement already satisfied: urllib3<3,>=1.21.1 in /opt/conda/lib/python3.10/site-packages (from requests<3,>=2.21.0->tensorboard<2.16,>=2.15->tensorflow==2.15.0) (1.26.18)\n",
      "Requirement already satisfied: certifi>=2017.4.17 in /opt/conda/lib/python3.10/site-packages (from requests<3,>=2.21.0->tensorboard<2.16,>=2.15->tensorflow==2.15.0) (2023.11.17)\n",
      "Requirement already satisfied: MarkupSafe>=2.1.1 in /opt/conda/lib/python3.10/site-packages (from werkzeug>=1.0.1->tensorboard<2.16,>=2.15->tensorflow==2.15.0) (2.1.3)\n",
      "Requirement already satisfied: pyasn1<0.6.0,>=0.4.6 in /opt/conda/lib/python3.10/site-packages (from pyasn1-modules>=0.2.1->google-auth<3,>=1.6.3->tensorboard<2.16,>=2.15->tensorflow==2.15.0) (0.5.1)\n",
      "Requirement already satisfied: oauthlib>=3.0.0 in /opt/conda/lib/python3.10/site-packages (from requests-oauthlib>=0.7.0->google-auth-oauthlib<2,>=0.5->tensorboard<2.16,>=2.15->tensorflow==2.15.0) (3.2.2)\n",
      "Downloading tensorflow-2.15.0-cp310-cp310-manylinux_2_17_x86_64.manylinux2014_x86_64.whl (475.2 MB)\n",
      "\u001b[2K   \u001b[90m━━━━━━━━━━━━━━━━━━━━━━━━━━━━━━━━━━━━━━━━\u001b[0m \u001b[32m475.2/475.2 MB\u001b[0m \u001b[31m3.4 MB/s\u001b[0m eta \u001b[36m0:00:00\u001b[0m:00:01\u001b[0m00:01\u001b[0m\n",
      "\u001b[?25hInstalling collected packages: tensorflow\n",
      "\u001b[31mERROR: pip's dependency resolver does not currently take into account all the packages that are installed. This behaviour is the source of the following dependency conflicts.\n",
      "tensorflowjs 4.16.0 requires packaging~=23.1, but you have packaging 21.3 which is incompatible.\u001b[0m\u001b[31m\n",
      "\u001b[0mSuccessfully installed tensorflow-2.15.0\n"
     ]
    }
   ],
   "source": [
    "!pip install tensorflow==2.15.0"
   ]
  },
  {
   "cell_type": "code",
   "execution_count": 4,
   "metadata": {
    "execution": {
     "iopub.execute_input": "2024-05-20T17:06:24.820773Z",
     "iopub.status.busy": "2024-05-20T17:06:24.819778Z",
     "iopub.status.idle": "2024-05-20T17:06:24.830104Z",
     "shell.execute_reply": "2024-05-20T17:06:24.829076Z",
     "shell.execute_reply.started": "2024-05-20T17:06:24.820734Z"
    }
   },
   "outputs": [
    {
     "name": "stdout",
     "output_type": "stream",
     "text": [
      "/kaggle/input/pg-final-project-datasets/sample_submission.csv\n",
      "/kaggle/input/pg-final-project-datasets/socialmedia-disaster-tweets-DFE.csv\n",
      "/kaggle/input/pg-final-project-datasets/train.csv\n",
      "/kaggle/input/pg-final-project-datasets/test.csv\n"
     ]
    }
   ],
   "source": [
    "# This Python 3 environment comes with many helpful analytics libraries installed\n",
    "# It is defined by the kaggle/python Docker image: https://github.com/kaggle/docker-python\n",
    "# For example, here's several helpful packages to load\n",
    "\n",
    "import numpy as np # linear algebra\n",
    "import pandas as pd # data processing, CSV file I/O (e.g. pd.read_csv)\n",
    "\n",
    "# Input data files are available in the read-only \"../input/\" directory\n",
    "# For example, running this (by clicking run or pressing Shift+Enter) will list all files under the input directory\n",
    "\n",
    "#import os\n",
    "import os\n",
    "# os.environ['TF_XLA_FLAGS'] = '--tf_xla_enable_xla_devices=false'\n",
    "\n",
    "for dirname, _, filenames in os.walk('/kaggle/input'):\n",
    "    for filename in filenames:\n",
    "        print(os.path.join(dirname, filename))\n",
    "\n",
    "# You can write up to 20GB to the current directory (/kaggle/working/) that gets preserved as output when you create a version using \"Save & Run All\" \n",
    "# You can also write temporary files to /kaggle/temp/, but they won't be saved outside of the current session"
   ]
  },
  {
   "cell_type": "code",
   "execution_count": 6,
   "metadata": {
    "execution": {
     "iopub.execute_input": "2024-05-20T17:07:19.279958Z",
     "iopub.status.busy": "2024-05-20T17:07:19.279586Z",
     "iopub.status.idle": "2024-05-20T17:07:19.285745Z",
     "shell.execute_reply": "2024-05-20T17:07:19.284768Z",
     "shell.execute_reply.started": "2024-05-20T17:07:19.279921Z"
    }
   },
   "outputs": [
    {
     "name": "stdout",
     "output_type": "stream",
     "text": [
      "2.15.0\n"
     ]
    }
   ],
   "source": [
    "import tensorflow as tf\n",
    "print(tf.__version__)\n",
    "from tensorflow.keras.layers import Input, Dropout, Dense, Layer"
   ]
  },
  {
   "cell_type": "code",
   "execution_count": 5,
   "metadata": {
    "execution": {
     "iopub.execute_input": "2024-05-20T17:06:47.068706Z",
     "iopub.status.busy": "2024-05-20T17:06:47.068123Z",
     "iopub.status.idle": "2024-05-20T17:06:59.631233Z",
     "shell.execute_reply": "2024-05-20T17:06:59.630154Z",
     "shell.execute_reply.started": "2024-05-20T17:06:47.068677Z"
    }
   },
   "outputs": [
    {
     "name": "stdout",
     "output_type": "stream",
     "text": [
      "Collecting text-hammer\n",
      "  Downloading text_hammer-0.1.5-py3-none-any.whl.metadata (2.2 kB)\n",
      "Collecting beautifulsoup4==4.9.1 (from text-hammer)\n",
      "  Downloading beautifulsoup4-4.9.1-py3-none-any.whl.metadata (4.1 kB)\n",
      "Requirement already satisfied: pandas in /opt/conda/lib/python3.10/site-packages (from text-hammer) (2.1.4)\n",
      "Requirement already satisfied: numpy in /opt/conda/lib/python3.10/site-packages (from text-hammer) (1.24.4)\n",
      "Requirement already satisfied: spacy in /opt/conda/lib/python3.10/site-packages (from text-hammer) (3.7.2)\n",
      "Requirement already satisfied: TextBlob in /opt/conda/lib/python3.10/site-packages (from text-hammer) (0.17.1)\n",
      "Requirement already satisfied: soupsieve>1.2 in /opt/conda/lib/python3.10/site-packages (from beautifulsoup4==4.9.1->text-hammer) (2.5)\n",
      "Requirement already satisfied: python-dateutil>=2.8.2 in /opt/conda/lib/python3.10/site-packages (from pandas->text-hammer) (2.8.2)\n",
      "Requirement already satisfied: pytz>=2020.1 in /opt/conda/lib/python3.10/site-packages (from pandas->text-hammer) (2023.3.post1)\n",
      "Requirement already satisfied: tzdata>=2022.1 in /opt/conda/lib/python3.10/site-packages (from pandas->text-hammer) (2023.4)\n",
      "Requirement already satisfied: spacy-legacy<3.1.0,>=3.0.11 in /opt/conda/lib/python3.10/site-packages (from spacy->text-hammer) (3.0.12)\n",
      "Requirement already satisfied: spacy-loggers<2.0.0,>=1.0.0 in /opt/conda/lib/python3.10/site-packages (from spacy->text-hammer) (1.0.5)\n",
      "Requirement already satisfied: murmurhash<1.1.0,>=0.28.0 in /opt/conda/lib/python3.10/site-packages (from spacy->text-hammer) (1.0.10)\n",
      "Requirement already satisfied: cymem<2.1.0,>=2.0.2 in /opt/conda/lib/python3.10/site-packages (from spacy->text-hammer) (2.0.8)\n",
      "Requirement already satisfied: preshed<3.1.0,>=3.0.2 in /opt/conda/lib/python3.10/site-packages (from spacy->text-hammer) (3.0.9)\n",
      "Requirement already satisfied: thinc<8.3.0,>=8.1.8 in /opt/conda/lib/python3.10/site-packages (from spacy->text-hammer) (8.2.2)\n",
      "Requirement already satisfied: wasabi<1.2.0,>=0.9.1 in /opt/conda/lib/python3.10/site-packages (from spacy->text-hammer) (1.1.2)\n",
      "Requirement already satisfied: srsly<3.0.0,>=2.4.3 in /opt/conda/lib/python3.10/site-packages (from spacy->text-hammer) (2.4.8)\n",
      "Requirement already satisfied: catalogue<2.1.0,>=2.0.6 in /opt/conda/lib/python3.10/site-packages (from spacy->text-hammer) (2.0.10)\n",
      "Requirement already satisfied: weasel<0.4.0,>=0.1.0 in /opt/conda/lib/python3.10/site-packages (from spacy->text-hammer) (0.3.4)\n",
      "Requirement already satisfied: typer<0.10.0,>=0.3.0 in /opt/conda/lib/python3.10/site-packages (from spacy->text-hammer) (0.9.0)\n",
      "Requirement already satisfied: smart-open<7.0.0,>=5.2.1 in /opt/conda/lib/python3.10/site-packages (from spacy->text-hammer) (6.4.0)\n",
      "Requirement already satisfied: tqdm<5.0.0,>=4.38.0 in /opt/conda/lib/python3.10/site-packages (from spacy->text-hammer) (4.66.1)\n",
      "Requirement already satisfied: requests<3.0.0,>=2.13.0 in /opt/conda/lib/python3.10/site-packages (from spacy->text-hammer) (2.31.0)\n",
      "Requirement already satisfied: pydantic!=1.8,!=1.8.1,<3.0.0,>=1.7.4 in /opt/conda/lib/python3.10/site-packages (from spacy->text-hammer) (2.5.3)\n",
      "Requirement already satisfied: jinja2 in /opt/conda/lib/python3.10/site-packages (from spacy->text-hammer) (3.1.2)\n",
      "Requirement already satisfied: setuptools in /opt/conda/lib/python3.10/site-packages (from spacy->text-hammer) (69.0.3)\n",
      "Requirement already satisfied: packaging>=20.0 in /opt/conda/lib/python3.10/site-packages (from spacy->text-hammer) (21.3)\n",
      "Requirement already satisfied: langcodes<4.0.0,>=3.2.0 in /opt/conda/lib/python3.10/site-packages (from spacy->text-hammer) (3.3.0)\n",
      "Requirement already satisfied: nltk>=3.1 in /opt/conda/lib/python3.10/site-packages (from TextBlob->text-hammer) (3.2.4)\n",
      "Requirement already satisfied: six in /opt/conda/lib/python3.10/site-packages (from nltk>=3.1->TextBlob->text-hammer) (1.16.0)\n",
      "Requirement already satisfied: pyparsing!=3.0.5,>=2.0.2 in /opt/conda/lib/python3.10/site-packages (from packaging>=20.0->spacy->text-hammer) (3.1.1)\n",
      "Requirement already satisfied: annotated-types>=0.4.0 in /opt/conda/lib/python3.10/site-packages (from pydantic!=1.8,!=1.8.1,<3.0.0,>=1.7.4->spacy->text-hammer) (0.6.0)\n",
      "Requirement already satisfied: pydantic-core==2.14.6 in /opt/conda/lib/python3.10/site-packages (from pydantic!=1.8,!=1.8.1,<3.0.0,>=1.7.4->spacy->text-hammer) (2.14.6)\n",
      "Requirement already satisfied: typing-extensions>=4.6.1 in /opt/conda/lib/python3.10/site-packages (from pydantic!=1.8,!=1.8.1,<3.0.0,>=1.7.4->spacy->text-hammer) (4.9.0)\n",
      "Requirement already satisfied: charset-normalizer<4,>=2 in /opt/conda/lib/python3.10/site-packages (from requests<3.0.0,>=2.13.0->spacy->text-hammer) (3.3.2)\n",
      "Requirement already satisfied: idna<4,>=2.5 in /opt/conda/lib/python3.10/site-packages (from requests<3.0.0,>=2.13.0->spacy->text-hammer) (3.6)\n",
      "Requirement already satisfied: urllib3<3,>=1.21.1 in /opt/conda/lib/python3.10/site-packages (from requests<3.0.0,>=2.13.0->spacy->text-hammer) (1.26.18)\n",
      "Requirement already satisfied: certifi>=2017.4.17 in /opt/conda/lib/python3.10/site-packages (from requests<3.0.0,>=2.13.0->spacy->text-hammer) (2023.11.17)\n",
      "Requirement already satisfied: blis<0.8.0,>=0.7.8 in /opt/conda/lib/python3.10/site-packages (from thinc<8.3.0,>=8.1.8->spacy->text-hammer) (0.7.10)\n",
      "Requirement already satisfied: confection<1.0.0,>=0.0.1 in /opt/conda/lib/python3.10/site-packages (from thinc<8.3.0,>=8.1.8->spacy->text-hammer) (0.1.4)\n",
      "Requirement already satisfied: click<9.0.0,>=7.1.1 in /opt/conda/lib/python3.10/site-packages (from typer<0.10.0,>=0.3.0->spacy->text-hammer) (8.1.7)\n",
      "Requirement already satisfied: cloudpathlib<0.17.0,>=0.7.0 in /opt/conda/lib/python3.10/site-packages (from weasel<0.4.0,>=0.1.0->spacy->text-hammer) (0.16.0)\n",
      "Requirement already satisfied: MarkupSafe>=2.0 in /opt/conda/lib/python3.10/site-packages (from jinja2->spacy->text-hammer) (2.1.3)\n",
      "Downloading text_hammer-0.1.5-py3-none-any.whl (7.6 kB)\n",
      "Downloading beautifulsoup4-4.9.1-py3-none-any.whl (115 kB)\n",
      "\u001b[2K   \u001b[90m━━━━━━━━━━━━━━━━━━━━━━━━━━━━━━━━━━━━━━━━\u001b[0m \u001b[32m115.1/115.1 kB\u001b[0m \u001b[31m4.8 MB/s\u001b[0m eta \u001b[36m0:00:00\u001b[0m\n",
      "\u001b[?25hInstalling collected packages: beautifulsoup4, text-hammer\n",
      "  Attempting uninstall: beautifulsoup4\n",
      "    Found existing installation: beautifulsoup4 4.12.2\n",
      "    Uninstalling beautifulsoup4-4.12.2:\n",
      "      Successfully uninstalled beautifulsoup4-4.12.2\n",
      "\u001b[31mERROR: pip's dependency resolver does not currently take into account all the packages that are installed. This behaviour is the source of the following dependency conflicts.\n",
      "libpysal 4.9.2 requires beautifulsoup4>=4.10, but you have beautifulsoup4 4.9.1 which is incompatible.\n",
      "libpysal 4.9.2 requires packaging>=22, but you have packaging 21.3 which is incompatible.\n",
      "libpysal 4.9.2 requires shapely>=2.0.1, but you have shapely 1.8.5.post1 which is incompatible.\n",
      "momepy 0.7.0 requires shapely>=2, but you have shapely 1.8.5.post1 which is incompatible.\n",
      "spopt 0.6.0 requires shapely>=2.0.1, but you have shapely 1.8.5.post1 which is incompatible.\u001b[0m\u001b[31m\n",
      "\u001b[0mSuccessfully installed beautifulsoup4-4.9.1 text-hammer-0.1.5\n"
     ]
    }
   ],
   "source": [
    "!pip install text-hammer"
   ]
  },
  {
   "cell_type": "code",
   "execution_count": 7,
   "metadata": {
    "execution": {
     "iopub.execute_input": "2024-05-20T17:07:47.083707Z",
     "iopub.status.busy": "2024-05-20T17:07:47.083110Z",
     "iopub.status.idle": "2024-05-20T17:07:47.325425Z",
     "shell.execute_reply": "2024-05-20T17:07:47.324428Z",
     "shell.execute_reply.started": "2024-05-20T17:07:47.083676Z"
    }
   },
   "outputs": [
    {
     "data": {
      "text/plain": [
       "0"
      ]
     },
     "execution_count": 7,
     "metadata": {},
     "output_type": "execute_result"
    }
   ],
   "source": [
    "import gc\n",
    "#import tensorflow as tf\n",
    "\n",
    "tf.keras.backend.clear_session()\n",
    "gc.collect()\n"
   ]
  },
  {
   "cell_type": "code",
   "execution_count": 8,
   "metadata": {
    "execution": {
     "iopub.execute_input": "2024-05-20T17:08:07.459572Z",
     "iopub.status.busy": "2024-05-20T17:08:07.459241Z",
     "iopub.status.idle": "2024-05-20T17:08:17.281053Z",
     "shell.execute_reply": "2024-05-20T17:08:17.280164Z",
     "shell.execute_reply.started": "2024-05-20T17:08:07.459546Z"
    }
   },
   "outputs": [],
   "source": [
    "import numpy as np\n",
    "import matplotlib.pyplot as plt\n",
    "import text_hammer as th\n",
    "from tqdm.notebook import tqdm\n",
    "import pandas as pd\n",
    "tqdm.pandas()\n",
    "#import tensorflow as tf\n",
    "from tensorflow.keras.layers import Input, Dropout, Dense, Layer\n",
    "from tensorflow.keras.optimizers import Adam\n",
    "from tensorflow.keras.losses import BinaryCrossentropy\n",
    "from tensorflow.keras.metrics import BinaryAccuracy\n",
    "from transformers import TFBertModel, AutoTokenizer\n",
    "from sklearn.metrics import f1_score, accuracy_score"
   ]
  },
  {
   "cell_type": "markdown",
   "metadata": {},
   "source": [
    "# Read Data"
   ]
  },
  {
   "cell_type": "code",
   "execution_count": 9,
   "metadata": {
    "execution": {
     "iopub.execute_input": "2024-05-20T17:09:11.823463Z",
     "iopub.status.busy": "2024-05-20T17:09:11.822730Z",
     "iopub.status.idle": "2024-05-20T17:09:11.893188Z",
     "shell.execute_reply": "2024-05-20T17:09:11.892427Z",
     "shell.execute_reply.started": "2024-05-20T17:09:11.823429Z"
    }
   },
   "outputs": [],
   "source": [
    "train_df = pd.read_csv('/kaggle/input/pg-final-project-datasets/train.csv',usecols=['id','text','target'])\n",
    "test_df = pd.read_csv('/kaggle/input/pg-final-project-datasets/test.csv',usecols=['id','text'])\n",
    "sample_df = pd.read_csv('/kaggle/input/pg-final-project-datasets/sample_submission.csv')"
   ]
  },
  {
   "cell_type": "code",
   "execution_count": 10,
   "metadata": {
    "execution": {
     "iopub.execute_input": "2024-05-20T17:09:20.572744Z",
     "iopub.status.busy": "2024-05-20T17:09:20.572385Z",
     "iopub.status.idle": "2024-05-20T17:09:20.579453Z",
     "shell.execute_reply": "2024-05-20T17:09:20.578353Z",
     "shell.execute_reply.started": "2024-05-20T17:09:20.572715Z"
    }
   },
   "outputs": [],
   "source": [
    "def text_preprocessing(train_df,text):\n",
    "    \n",
    "    train_df[text] = train_df[text].progress_apply(lambda x: str(x).lower())\n",
    "    train_df[text] = train_df[text].progress_apply(lambda x: th.remove_emails(x))\n",
    "    train_df[text] = train_df[text].progress_apply(lambda x: th.remove_html_tags(x))\n",
    "    train_df[text] = train_df[text].progress_apply(lambda x: th.remove_special_chars(x))\n",
    "    train_df[text] = train_df[text].progress_apply(lambda x: th.remove_accented_chars(x))\n",
    "    return train_df\n"
   ]
  },
  {
   "cell_type": "code",
   "execution_count": 11,
   "metadata": {
    "execution": {
     "iopub.execute_input": "2024-05-20T17:09:27.561230Z",
     "iopub.status.busy": "2024-05-20T17:09:27.560511Z",
     "iopub.status.idle": "2024-05-20T17:09:27.567314Z",
     "shell.execute_reply": "2024-05-20T17:09:27.566365Z",
     "shell.execute_reply.started": "2024-05-20T17:09:27.561197Z"
    }
   },
   "outputs": [],
   "source": [
    "# Text preprocessing function\n",
    "def text_preprocessing(test_df, text):\n",
    "    column = text\n",
    "    test_df[text] = test_df[text].progress_apply(lambda x: str(x).lower())\n",
    "    test_df[text] = test_df[text].progress_apply(lambda x: th.remove_emails(x))\n",
    "    test_df[text] = test_df[text].progress_apply(lambda x: th.remove_html_tags(x))\n",
    "    test_df[text] = test_df[text].progress_apply(lambda x: th.remove_special_chars(x))\n",
    "    test_df[text] = test_df[text].progress_apply(lambda x: th.remove_accented_chars(x))\n",
    "    return test_df"
   ]
  },
  {
   "cell_type": "code",
   "execution_count": 12,
   "metadata": {
    "execution": {
     "iopub.execute_input": "2024-05-20T17:09:34.998928Z",
     "iopub.status.busy": "2024-05-20T17:09:34.998567Z",
     "iopub.status.idle": "2024-05-20T17:09:37.668299Z",
     "shell.execute_reply": "2024-05-20T17:09:37.667472Z",
     "shell.execute_reply.started": "2024-05-20T17:09:34.998899Z"
    }
   },
   "outputs": [
    {
     "data": {
      "application/vnd.jupyter.widget-view+json": {
       "model_id": "dbf06440285a43c39b4a25307566b1bb",
       "version_major": 2,
       "version_minor": 0
      },
      "text/plain": [
       "  0%|          | 0/7613 [00:00<?, ?it/s]"
      ]
     },
     "metadata": {},
     "output_type": "display_data"
    },
    {
     "data": {
      "application/vnd.jupyter.widget-view+json": {
       "model_id": "93bdbc8d692e4c65bca2dbc1890a3439",
       "version_major": 2,
       "version_minor": 0
      },
      "text/plain": [
       "  0%|          | 0/7613 [00:00<?, ?it/s]"
      ]
     },
     "metadata": {},
     "output_type": "display_data"
    },
    {
     "data": {
      "application/vnd.jupyter.widget-view+json": {
       "model_id": "c426b11e181d49fca0fb4e859b2a67c8",
       "version_major": 2,
       "version_minor": 0
      },
      "text/plain": [
       "  0%|          | 0/7613 [00:00<?, ?it/s]"
      ]
     },
     "metadata": {},
     "output_type": "display_data"
    },
    {
     "data": {
      "application/vnd.jupyter.widget-view+json": {
       "model_id": "afb603881847413da62db9024da898c2",
       "version_major": 2,
       "version_minor": 0
      },
      "text/plain": [
       "  0%|          | 0/7613 [00:00<?, ?it/s]"
      ]
     },
     "metadata": {},
     "output_type": "display_data"
    },
    {
     "data": {
      "application/vnd.jupyter.widget-view+json": {
       "model_id": "0d017e820281448696c98fe9cf7ff2cf",
       "version_major": 2,
       "version_minor": 0
      },
      "text/plain": [
       "  0%|          | 0/7613 [00:00<?, ?it/s]"
      ]
     },
     "metadata": {},
     "output_type": "display_data"
    },
    {
     "data": {
      "application/vnd.jupyter.widget-view+json": {
       "model_id": "d680ad2d8c934a16bde2295ac19f0fb0",
       "version_major": 2,
       "version_minor": 0
      },
      "text/plain": [
       "  0%|          | 0/3263 [00:00<?, ?it/s]"
      ]
     },
     "metadata": {},
     "output_type": "display_data"
    },
    {
     "data": {
      "application/vnd.jupyter.widget-view+json": {
       "model_id": "49e718b55cfc4068b8b122c83e1f665e",
       "version_major": 2,
       "version_minor": 0
      },
      "text/plain": [
       "  0%|          | 0/3263 [00:00<?, ?it/s]"
      ]
     },
     "metadata": {},
     "output_type": "display_data"
    },
    {
     "data": {
      "application/vnd.jupyter.widget-view+json": {
       "model_id": "39e61b8a3a404bfdb3e3bbb409cfae93",
       "version_major": 2,
       "version_minor": 0
      },
      "text/plain": [
       "  0%|          | 0/3263 [00:00<?, ?it/s]"
      ]
     },
     "metadata": {},
     "output_type": "display_data"
    },
    {
     "data": {
      "application/vnd.jupyter.widget-view+json": {
       "model_id": "42e33e6819c449c2b6f1374ba62f8d16",
       "version_major": 2,
       "version_minor": 0
      },
      "text/plain": [
       "  0%|          | 0/3263 [00:00<?, ?it/s]"
      ]
     },
     "metadata": {},
     "output_type": "display_data"
    },
    {
     "data": {
      "application/vnd.jupyter.widget-view+json": {
       "model_id": "cd61828abafd4e4cb4ab317457735313",
       "version_major": 2,
       "version_minor": 0
      },
      "text/plain": [
       "  0%|          | 0/3263 [00:00<?, ?it/s]"
      ]
     },
     "metadata": {},
     "output_type": "display_data"
    }
   ],
   "source": [
    "# Clean the training and test data\n",
    "train_cleaned_df = text_preprocessing(train_df, 'text')\n",
    "test_cleaned_df = text_preprocessing(test_df, 'text')\n",
    "train_df = train_cleaned_df.copy()\n",
    "test_df = test_cleaned_df.copy()"
   ]
  },
  {
   "cell_type": "code",
   "execution_count": 13,
   "metadata": {
    "execution": {
     "iopub.execute_input": "2024-05-20T17:09:44.142580Z",
     "iopub.status.busy": "2024-05-20T17:09:44.141901Z",
     "iopub.status.idle": "2024-05-20T17:09:55.111448Z",
     "shell.execute_reply": "2024-05-20T17:09:55.110611Z",
     "shell.execute_reply.started": "2024-05-20T17:09:44.142547Z"
    }
   },
   "outputs": [
    {
     "data": {
      "application/vnd.jupyter.widget-view+json": {
       "model_id": "2813e8b89540456199573ce55688d8a4",
       "version_major": 2,
       "version_minor": 0
      },
      "text/plain": [
       "tokenizer_config.json:   0%|          | 0.00/48.0 [00:00<?, ?B/s]"
      ]
     },
     "metadata": {},
     "output_type": "display_data"
    },
    {
     "data": {
      "application/vnd.jupyter.widget-view+json": {
       "model_id": "6d161cedf0064548a50cbc47af2858e5",
       "version_major": 2,
       "version_minor": 0
      },
      "text/plain": [
       "config.json:   0%|          | 0.00/571 [00:00<?, ?B/s]"
      ]
     },
     "metadata": {},
     "output_type": "display_data"
    },
    {
     "data": {
      "application/vnd.jupyter.widget-view+json": {
       "model_id": "0b3320c263fc44a2b56002ded08d7cb3",
       "version_major": 2,
       "version_minor": 0
      },
      "text/plain": [
       "vocab.txt:   0%|          | 0.00/232k [00:00<?, ?B/s]"
      ]
     },
     "metadata": {},
     "output_type": "display_data"
    },
    {
     "data": {
      "application/vnd.jupyter.widget-view+json": {
       "model_id": "780a16b47d2e48e98dc6d17cbb5d428e",
       "version_major": 2,
       "version_minor": 0
      },
      "text/plain": [
       "tokenizer.json:   0%|          | 0.00/466k [00:00<?, ?B/s]"
      ]
     },
     "metadata": {},
     "output_type": "display_data"
    },
    {
     "data": {
      "application/vnd.jupyter.widget-view+json": {
       "model_id": "326bf4e7b65343a7bc43ecf7a133589a",
       "version_major": 2,
       "version_minor": 0
      },
      "text/plain": [
       "model.safetensors:   0%|          | 0.00/1.34G [00:00<?, ?B/s]"
      ]
     },
     "metadata": {},
     "output_type": "display_data"
    },
    {
     "name": "stderr",
     "output_type": "stream",
     "text": [
      "Some weights of the PyTorch model were not used when initializing the TF 2.0 model TFBertModel: ['cls.seq_relationship.bias', 'cls.predictions.transform.dense.bias', 'cls.predictions.transform.LayerNorm.bias', 'cls.predictions.bias', 'cls.seq_relationship.weight', 'cls.predictions.transform.dense.weight', 'cls.predictions.transform.LayerNorm.weight']\n",
      "- This IS expected if you are initializing TFBertModel from a PyTorch model trained on another task or with another architecture (e.g. initializing a TFBertForSequenceClassification model from a BertForPreTraining model).\n",
      "- This IS NOT expected if you are initializing TFBertModel from a PyTorch model that you expect to be exactly identical (e.g. initializing a TFBertForSequenceClassification model from a BertForSequenceClassification model).\n",
      "All the weights of TFBertModel were initialized from the PyTorch model.\n",
      "If your task is similar to the task the model of the checkpoint was trained on, you can already use TFBertModel for predictions without further training.\n"
     ]
    }
   ],
   "source": [
    "from transformers import AutoTokenizer, TFBertModel\n",
    "\n",
    "# Load tokenizer and model\n",
    "tokenizer = AutoTokenizer.from_pretrained('bert-large-uncased')\n",
    "model = TFBertModel.from_pretrained('bert-large-uncased')"
   ]
  },
  {
   "cell_type": "code",
   "execution_count": 14,
   "metadata": {
    "execution": {
     "iopub.execute_input": "2024-05-20T17:09:55.113784Z",
     "iopub.status.busy": "2024-05-20T17:09:55.113401Z",
     "iopub.status.idle": "2024-05-20T17:09:55.837779Z",
     "shell.execute_reply": "2024-05-20T17:09:55.836711Z",
     "shell.execute_reply.started": "2024-05-20T17:09:55.113749Z"
    }
   },
   "outputs": [],
   "source": [
    "# Tokenize the text data\n",
    "x_train = tokenizer(\n",
    "    text=train_df.text.tolist(),\n",
    "    add_special_tokens=True,\n",
    "    max_length=36,\n",
    "    truncation=True,\n",
    "    padding=True, \n",
    "    return_tensors='tf',\n",
    "    return_token_type_ids=False,\n",
    "    return_attention_mask=True,\n",
    "    verbose=True\n",
    ")\n",
    "x_test = tokenizer(\n",
    "    text=test_df.text.tolist(),\n",
    "    add_special_tokens=True,\n",
    "    max_length=36,\n",
    "    truncation=True,\n",
    "    padding=True, \n",
    "    return_tensors='tf',\n",
    "    return_token_type_ids=False,\n",
    "    return_attention_mask=True,\n",
    "    verbose=True\n",
    ")"
   ]
  },
  {
   "cell_type": "code",
   "execution_count": 15,
   "metadata": {
    "execution": {
     "iopub.execute_input": "2024-05-20T17:10:01.749306Z",
     "iopub.status.busy": "2024-05-20T17:10:01.748275Z",
     "iopub.status.idle": "2024-05-20T17:10:01.754071Z",
     "shell.execute_reply": "2024-05-20T17:10:01.752965Z",
     "shell.execute_reply.started": "2024-05-20T17:10:01.749262Z"
    }
   },
   "outputs": [],
   "source": [
    "# Prepare the labels\n",
    "y_train = train_df.target.values"
   ]
  },
  {
   "cell_type": "code",
   "execution_count": 16,
   "metadata": {
    "execution": {
     "iopub.execute_input": "2024-05-20T17:10:09.120564Z",
     "iopub.status.busy": "2024-05-20T17:10:09.120084Z",
     "iopub.status.idle": "2024-05-20T17:10:09.129767Z",
     "shell.execute_reply": "2024-05-20T17:10:09.128328Z",
     "shell.execute_reply.started": "2024-05-20T17:10:09.120521Z"
    }
   },
   "outputs": [
    {
     "data": {
      "text/plain": [
       "{'input_ids': [101, 7592, 2204, 2851, 1045, 3246, 2017, 2024, 2725, 2092, 1004, 1008, 1004, 1008, 1004, 1004, 102], 'token_type_ids': [0, 0, 0, 0, 0, 0, 0, 0, 0, 0, 0, 0, 0, 0, 0, 0, 0], 'attention_mask': [1, 1, 1, 1, 1, 1, 1, 1, 1, 1, 1, 1, 1, 1, 1, 1, 1]}"
      ]
     },
     "execution_count": 16,
     "metadata": {},
     "output_type": "execute_result"
    }
   ],
   "source": [
    "tokenizer('Hello good morning  i hope you are doing well  &*&*&&')"
   ]
  },
  {
   "cell_type": "code",
   "execution_count": 17,
   "metadata": {
    "execution": {
     "iopub.execute_input": "2024-05-20T17:10:15.288237Z",
     "iopub.status.busy": "2024-05-20T17:10:15.287383Z",
     "iopub.status.idle": "2024-05-20T17:10:15.301900Z",
     "shell.execute_reply": "2024-05-20T17:10:15.300842Z",
     "shell.execute_reply.started": "2024-05-20T17:10:15.288204Z"
    }
   },
   "outputs": [
    {
     "name": "stdout",
     "output_type": "stream",
     "text": [
      "max len of tweets 31\n"
     ]
    }
   ],
   "source": [
    "print(\"max len of tweets\",max([len(x.split()) for x in train_df.text]))\n",
    "max_length = 36"
   ]
  },
  {
   "cell_type": "code",
   "execution_count": 18,
   "metadata": {
    "execution": {
     "iopub.execute_input": "2024-05-20T17:10:23.299606Z",
     "iopub.status.busy": "2024-05-20T17:10:23.298904Z",
     "iopub.status.idle": "2024-05-20T17:10:23.306061Z",
     "shell.execute_reply": "2024-05-20T17:10:23.305044Z",
     "shell.execute_reply.started": "2024-05-20T17:10:23.299574Z"
    }
   },
   "outputs": [
    {
     "data": {
      "text/plain": [
       "array([1, 1, 1, ..., 1, 1, 1])"
      ]
     },
     "execution_count": 18,
     "metadata": {},
     "output_type": "execute_result"
    }
   ],
   "source": [
    "y_train = train_df.target.values\n",
    "y_train"
   ]
  },
  {
   "cell_type": "code",
   "execution_count": 19,
   "metadata": {
    "execution": {
     "iopub.execute_input": "2024-05-20T17:10:30.905686Z",
     "iopub.status.busy": "2024-05-20T17:10:30.904926Z",
     "iopub.status.idle": "2024-05-20T17:10:41.989463Z",
     "shell.execute_reply": "2024-05-20T17:10:41.988073Z",
     "shell.execute_reply.started": "2024-05-20T17:10:30.905652Z"
    }
   },
   "outputs": [
    {
     "data": {
      "application/vnd.jupyter.widget-view+json": {
       "model_id": "e7171f8c98164fb6a983b354d0833578",
       "version_major": 2,
       "version_minor": 0
      },
      "text/plain": [
       "config.json:   0%|          | 0.00/570 [00:00<?, ?B/s]"
      ]
     },
     "metadata": {},
     "output_type": "display_data"
    },
    {
     "data": {
      "application/vnd.jupyter.widget-view+json": {
       "model_id": "c3b213c4da3f4797a942041dd4cb8da3",
       "version_major": 2,
       "version_minor": 0
      },
      "text/plain": [
       "model.safetensors:   0%|          | 0.00/440M [00:00<?, ?B/s]"
      ]
     },
     "metadata": {},
     "output_type": "display_data"
    },
    {
     "name": "stderr",
     "output_type": "stream",
     "text": [
      "Some weights of the PyTorch model were not used when initializing the TF 2.0 model TFBertModel: ['cls.predictions.bias', 'cls.seq_relationship.bias', 'cls.predictions.transform.dense.bias', 'cls.seq_relationship.weight', 'cls.predictions.transform.LayerNorm.bias', 'cls.predictions.transform.dense.weight', 'cls.predictions.transform.LayerNorm.weight']\n",
      "- This IS expected if you are initializing TFBertModel from a PyTorch model trained on another task or with another architecture (e.g. initializing a TFBertForSequenceClassification model from a BertForPreTraining model).\n",
      "- This IS NOT expected if you are initializing TFBertModel from a PyTorch model that you expect to be exactly identical (e.g. initializing a TFBertForSequenceClassification model from a BertForSequenceClassification model).\n",
      "All the weights of TFBertModel were initialized from the PyTorch model.\n",
      "If your task is similar to the task the model of the checkpoint was trained on, you can already use TFBertModel for predictions without further training.\n"
     ]
    },
    {
     "name": "stdout",
     "output_type": "stream",
     "text": [
      "Model: \"model\"\n",
      "__________________________________________________________________________________________________\n",
      " Layer (type)                Output Shape                 Param #   Connected to                  \n",
      "==================================================================================================\n",
      " input_ids (InputLayer)      [(None, 36)]                 0         []                            \n",
      "                                                                                                  \n",
      " attention_mask (InputLayer  [(None, 36)]                 0         []                            \n",
      " )                                                                                                \n",
      "                                                                                                  \n",
      " bert_layer (BertLayer)      (None, 768)                  1094822   ['input_ids[0][0]',           \n",
      "                                                          40         'attention_mask[0][0]']      \n",
      "                                                                                                  \n",
      " dropout_110 (Dropout)       (None, 768)                  0         ['bert_layer[0][0]']          \n",
      "                                                                                                  \n",
      " dense (Dense)               (None, 128)                  98432     ['dropout_110[0][0]']         \n",
      "                                                                                                  \n",
      " dropout_111 (Dropout)       (None, 128)                  0         ['dense[0][0]']               \n",
      "                                                                                                  \n",
      " dense_1 (Dense)             (None, 32)                   4128      ['dropout_111[0][0]']         \n",
      "                                                                                                  \n",
      " dense_2 (Dense)             (None, 1)                    33        ['dense_1[0][0]']             \n",
      "                                                                                                  \n",
      "==================================================================================================\n",
      "Total params: 109584833 (418.03 MB)\n",
      "Trainable params: 109584833 (418.03 MB)\n",
      "Non-trainable params: 0 (0.00 Byte)\n",
      "__________________________________________________________________________________________________\n"
     ]
    }
   ],
   "source": [
    "physical_devices = tf.config.experimental.list_physical_devices('GPU')\n",
    "# Set the maximum sequence length\n",
    "max_len = 36\n",
    "\n",
    "# Define a custom Keras layer for BERT\n",
    "class BertLayer(Layer):\n",
    "    def __init__(self, **kwargs):\n",
    "        super(BertLayer, self).__init__(**kwargs)\n",
    "        self.bert = TFBertModel.from_pretrained('bert-base-uncased')\n",
    "\n",
    "    def call(self, inputs):\n",
    "        input_ids, attention_mask = inputs\n",
    "        outputs = self.bert(input_ids, attention_mask=attention_mask)\n",
    "        return outputs.last_hidden_state[:, 0, :]  # pooler_output\n",
    "\n",
    "# Define input layers\n",
    "input_ids = Input(shape=(max_len,), dtype=tf.int32, name=\"input_ids\")\n",
    "input_mask = Input(shape=(max_len,), dtype=tf.int32, name=\"attention_mask\")\n",
    "\n",
    "# Get BERT embeddings\n",
    "bert_output = BertLayer()([input_ids, input_mask])\n",
    "\n",
    "# Add dropout and dense layers\n",
    "out = Dropout(0.1)(bert_output)\n",
    "out = Dense(128, activation='relu')(out)\n",
    "out = Dropout(0.1)(out)\n",
    "out = Dense(32, activation='relu')(out)\n",
    "\n",
    "# Define the output layer\n",
    "y = Dense(1, activation='sigmoid')(out)\n",
    "\n",
    "# Create the model\n",
    "model = tf.keras.Model(inputs=[input_ids, input_mask], outputs=y)\n",
    "\n",
    "# Setting the BERT layer as trainable\n",
    "model.layers[2].trainable = True  # Adjusting the trainability of the BERT layers if needed\n",
    "\n",
    "# Define a learning rate schedule\n",
    "lr_schedule = tf.keras.optimizers.schedules.PolynomialDecay(\n",
    "    initial_learning_rate=6e-6,\n",
    "    decay_steps=10000,  # Adjusting the number of decay steps based on our dataset size\n",
    "    end_learning_rate=0\n",
    ")\n",
    "\n",
    "# Create the optimizer\n",
    "optimizer = Adam(\n",
    "    learning_rate=lr_schedule,\n",
    "    epsilon=1e-8,\n",
    "    clipnorm=1.0\n",
    ")\n",
    "\n",
    "# Compile the model \n",
    "loss = BinaryCrossentropy(from_logits=False)\n",
    "metrics = [BinaryAccuracy()]\n",
    "\n",
    "model.compile(\n",
    "    optimizer=optimizer,\n",
    "    loss=loss,\n",
    "    metrics=metrics\n",
    ")\n",
    "\n",
    "# the model summary and plotting the model\n",
    "model.summary()"
   ]
  },
  {
   "cell_type": "code",
   "execution_count": 20,
   "metadata": {
    "execution": {
     "iopub.execute_input": "2024-05-20T17:10:43.516637Z",
     "iopub.status.busy": "2024-05-20T17:10:43.516273Z",
     "iopub.status.idle": "2024-05-20T17:10:43.723323Z",
     "shell.execute_reply": "2024-05-20T17:10:43.722427Z",
     "shell.execute_reply.started": "2024-05-20T17:10:43.516608Z"
    }
   },
   "outputs": [
    {
     "data": {
      "image/png": "[encoded data removed]",
      "text/plain": [
       "<IPython.core.display.Image object>"
      ]
     },
     "execution_count": 20,
     "metadata": {},
     "output_type": "execute_result"
    }
   ],
   "source": [
    "# plot_model(model, show_shapes=True)\n",
    "tf.keras.utils.plot_model(model, show_shapes=True)"
   ]
  },
  {
   "cell_type": "code",
   "execution_count": 33,
   "metadata": {
    "execution": {
     "iopub.execute_input": "2024-05-20T17:52:19.504049Z",
     "iopub.status.busy": "2024-05-20T17:52:19.503117Z",
     "iopub.status.idle": "2024-05-20T18:04:08.130280Z",
     "shell.execute_reply": "2024-05-20T18:04:08.129280Z",
     "shell.execute_reply.started": "2024-05-20T17:52:19.503994Z"
    }
   },
   "outputs": [
    {
     "name": "stdout",
     "output_type": "stream",
     "text": [
      "Epoch 1/10\n",
      "609/609 [==============================] - 71s 117ms/step - loss: 0.0525 - binary_accuracy: 0.9801 - val_loss: 1.0323 - val_binary_accuracy: 0.8109\n",
      "Epoch 2/10\n",
      "609/609 [==============================] - 71s 117ms/step - loss: 0.0505 - binary_accuracy: 0.9811 - val_loss: 1.0471 - val_binary_accuracy: 0.8135\n",
      "Epoch 3/10\n",
      "609/609 [==============================] - 71s 116ms/step - loss: 0.0464 - binary_accuracy: 0.9833 - val_loss: 1.0443 - val_binary_accuracy: 0.8142\n",
      "Epoch 4/10\n",
      "609/609 [==============================] - 71s 116ms/step - loss: 0.0452 - binary_accuracy: 0.9823 - val_loss: 1.0526 - val_binary_accuracy: 0.8102\n",
      "Epoch 5/10\n",
      "609/609 [==============================] - 71s 116ms/step - loss: 0.0458 - binary_accuracy: 0.9842 - val_loss: 1.0526 - val_binary_accuracy: 0.8102\n",
      "Epoch 6/10\n",
      "609/609 [==============================] - 71s 116ms/step - loss: 0.0390 - binary_accuracy: 0.9837 - val_loss: 1.0526 - val_binary_accuracy: 0.8102\n",
      "Epoch 7/10\n",
      "609/609 [==============================] - 71s 116ms/step - loss: 0.0398 - binary_accuracy: 0.9849 - val_loss: 1.0526 - val_binary_accuracy: 0.8102\n",
      "Epoch 8/10\n",
      "609/609 [==============================] - 71s 117ms/step - loss: 0.0409 - binary_accuracy: 0.9849 - val_loss: 1.0526 - val_binary_accuracy: 0.8102\n",
      "Epoch 9/10\n",
      "609/609 [==============================] - 71s 116ms/step - loss: 0.0407 - binary_accuracy: 0.9849 - val_loss: 1.0526 - val_binary_accuracy: 0.8102\n",
      "Epoch 10/10\n",
      "609/609 [==============================] - 71s 117ms/step - loss: 0.0406 - binary_accuracy: 0.9847 - val_loss: 1.0526 - val_binary_accuracy: 0.8102\n"
     ]
    }
   ],
   "source": [
    "# Training the model\n",
    "train_history = model.fit(\n",
    "    x={'input_ids': x_train['input_ids'], 'attention_mask': x_train['attention_mask']},\n",
    "    y=y_train,\n",
    "    epochs=10,\n",
    "    batch_size=10,\n",
    "    validation_split=0.2  # Adding validation split for validation metrics\n",
    ")"
   ]
  },
  {
   "cell_type": "code",
   "execution_count": 34,
   "metadata": {
    "execution": {
     "iopub.execute_input": "2024-05-20T18:04:08.133254Z",
     "iopub.status.busy": "2024-05-20T18:04:08.132438Z",
     "iopub.status.idle": "2024-05-20T18:04:08.138826Z",
     "shell.execute_reply": "2024-05-20T18:04:08.137891Z",
     "shell.execute_reply.started": "2024-05-20T18:04:08.133217Z"
    },
    "scrolled": true
   },
   "outputs": [
    {
     "name": "stdout",
     "output_type": "stream",
     "text": [
      "[0.9801313877105713, 0.9811165928840637, 0.9832512140274048, 0.9822660088539124, 0.984236478805542, 0.9837438464164734, 0.984893262386322, 0.984893262386322, 0.984893262386322, 0.9847290515899658]\n",
      "[0.810899555683136, 0.813525915145874, 0.8141825199127197, 0.8102429509162903, 0.8102429509162903, 0.8102429509162903, 0.8102429509162903, 0.8102429509162903, 0.8102429509162903, 0.8102429509162903]\n"
     ]
    }
   ],
   "source": [
    "# Extract metrics from training history\n",
    "accuracy_values = train_history.history['binary_accuracy']\n",
    "val_accuracy_values = train_history.history.get('val_binary_accuracy')\n",
    "loss_values = train_history.history['loss']\n",
    "val_loss_values = train_history.history.get('val_loss')\n",
    "\n",
    "print(accuracy_values)\n",
    "print(val_accuracy_values)"
   ]
  },
  {
   "cell_type": "code",
   "execution_count": 35,
   "metadata": {
    "execution": {
     "iopub.execute_input": "2024-05-20T18:05:23.594142Z",
     "iopub.status.busy": "2024-05-20T18:05:23.593421Z",
     "iopub.status.idle": "2024-05-20T18:05:23.598879Z",
     "shell.execute_reply": "2024-05-20T18:05:23.597882Z",
     "shell.execute_reply.started": "2024-05-20T18:05:23.594111Z"
    }
   },
   "outputs": [
    {
     "name": "stdout",
     "output_type": "stream",
     "text": [
      "{'loss': [0.05252803862094879, 0.0504719503223896, 0.046352218836545944, 0.04520004615187645, 0.04576914757490158, 0.039028748869895935, 0.03982071951031685, 0.04089224338531494, 0.04068160057067871, 0.040643349289894104], 'binary_accuracy': [0.9801313877105713, 0.9811165928840637, 0.9832512140274048, 0.9822660088539124, 0.984236478805542, 0.9837438464164734, 0.984893262386322, 0.984893262386322, 0.984893262386322, 0.9847290515899658], 'val_loss': [1.0323333740234375, 1.0470637083053589, 1.0442544221878052, 1.0525821447372437, 1.0525821447372437, 1.0525821447372437, 1.0525821447372437, 1.0525821447372437, 1.0525821447372437, 1.0525821447372437], 'val_binary_accuracy': [0.810899555683136, 0.813525915145874, 0.8141825199127197, 0.8102429509162903, 0.8102429509162903, 0.8102429509162903, 0.8102429509162903, 0.8102429509162903, 0.8102429509162903, 0.8102429509162903]}\n"
     ]
    }
   ],
   "source": [
    "print(train_history.history)"
   ]
  },
  {
   "cell_type": "code",
   "execution_count": 36,
   "metadata": {
    "execution": {
     "iopub.execute_input": "2024-05-20T18:05:24.065850Z",
     "iopub.status.busy": "2024-05-20T18:05:24.065512Z",
     "iopub.status.idle": "2024-05-20T18:05:24.072490Z",
     "shell.execute_reply": "2024-05-20T18:05:24.071564Z",
     "shell.execute_reply.started": "2024-05-20T18:05:24.065823Z"
    }
   },
   "outputs": [
    {
     "name": "stdout",
     "output_type": "stream",
     "text": [
      "Average training accuracy over 10 epochs: 0.9834\n"
     ]
    }
   ],
   "source": [
    "# Extract accuracy values from training history\n",
    "accuracy_values = train_history.history['binary_accuracy']\n",
    "val_accuracy_values = train_history.history.get('val_accuracy')  # Use .get() in case val_accuracy is not present\n",
    "\n",
    "# Calculate average accuracy\n",
    "average_accuracy = sum(accuracy_values) / len(accuracy_values)\n",
    "average_val_accuracy = sum(val_accuracy_values) / len(val_accuracy_values) if val_accuracy_values else None\n",
    "\n",
    "# Print average accuracies\n",
    "print(f'Average training accuracy over {len(accuracy_values)} epochs: {average_accuracy:.4f}')\n",
    "if average_val_accuracy is not None:\n",
    "    print(f'Average validation accuracy over {len(val_accuracy_values)} epochs: {average_val_accuracy:.4f}')"
   ]
  },
  {
   "cell_type": "code",
   "execution_count": 37,
   "metadata": {
    "execution": {
     "iopub.execute_input": "2024-05-20T18:05:29.545639Z",
     "iopub.status.busy": "2024-05-20T18:05:29.545282Z",
     "iopub.status.idle": "2024-05-20T18:05:29.767689Z",
     "shell.execute_reply": "2024-05-20T18:05:29.766827Z",
     "shell.execute_reply.started": "2024-05-20T18:05:29.545607Z"
    }
   },
   "outputs": [
    {
     "data": {
      "image/png": "[encoded data removed]",
      "text/plain": [
       "<Figure size 1000x600 with 1 Axes>"
      ]
     },
     "metadata": {},
     "output_type": "display_data"
    }
   ],
   "source": [
    "# Plot training and validation accuracy\n",
    "plt.figure(figsize=(10, 6))\n",
    "plt.plot(accuracy_values, 'b', label='Training Accuracy')\n",
    "if val_accuracy_values:\n",
    "    plt.plot(val_accuracy_values, 'r', label='Validation Accuracy')\n",
    "\n",
    "plt.title('Model Accuracy Curve')\n",
    "plt.ylabel('Accuracy')\n",
    "plt.xlabel('Epochs')\n",
    "plt.grid(True)\n",
    "plt.legend()\n",
    "plt.show()"
   ]
  },
  {
   "cell_type": "code",
   "execution_count": 38,
   "metadata": {
    "execution": {
     "iopub.execute_input": "2024-05-20T18:05:39.359284Z",
     "iopub.status.busy": "2024-05-20T18:05:39.358317Z",
     "iopub.status.idle": "2024-05-20T18:05:59.604683Z",
     "shell.execute_reply": "2024-05-20T18:05:59.603679Z",
     "shell.execute_reply.started": "2024-05-20T18:05:39.359251Z"
    }
   },
   "outputs": [
    {
     "name": "stdout",
     "output_type": "stream",
     "text": [
      "238/238 [==============================] - 20s 84ms/step\n"
     ]
    }
   ],
   "source": [
    "# Predict on the training set\n",
    "y_pred_train = model.predict({'input_ids': x_train['input_ids'], 'attention_mask': x_train['attention_mask']})\n",
    "y_pred_train = (y_pred_train > 0.5).astype(int)"
   ]
  },
  {
   "cell_type": "code",
   "execution_count": 39,
   "metadata": {
    "execution": {
     "iopub.execute_input": "2024-05-20T18:07:32.177515Z",
     "iopub.status.busy": "2024-05-20T18:07:32.177152Z",
     "iopub.status.idle": "2024-05-20T18:07:32.184713Z",
     "shell.execute_reply": "2024-05-20T18:07:32.183655Z",
     "shell.execute_reply.started": "2024-05-20T18:07:32.177486Z"
    }
   },
   "outputs": [
    {
     "name": "stdout",
     "output_type": "stream",
     "text": [
      "Training Accuracy: 0.9537632996190727\n"
     ]
    }
   ],
   "source": [
    "from sklearn.metrics import accuracy_score\n",
    "\n",
    "# Calculate accuracy\n",
    "train_accuracy = accuracy_score(y_train, y_pred_train)\n",
    "print(\"Training Accuracy:\", train_accuracy)\n"
   ]
  },
  {
   "cell_type": "code",
   "execution_count": 40,
   "metadata": {
    "execution": {
     "iopub.execute_input": "2024-05-20T18:10:12.969366Z",
     "iopub.status.busy": "2024-05-20T18:10:12.968973Z",
     "iopub.status.idle": "2024-05-20T18:10:34.008681Z",
     "shell.execute_reply": "2024-05-20T18:10:34.007768Z",
     "shell.execute_reply.started": "2024-05-20T18:10:12.969335Z"
    }
   },
   "outputs": [
    {
     "name": "stdout",
     "output_type": "stream",
     "text": [
      "238/238 [==============================] - 21s 86ms/step\n",
      "Training Accuracy: 0.9537632996190727\n",
      "Precision: 0.9506020376659463\n",
      "Recall: 0.9413023540201774\n",
      "F1-score: 0.9459293394777265\n"
     ]
    },
    {
     "data": {
      "image/png": "[encoded data removed]",
      "text/plain": [
       "<Figure size 800x600 with 2 Axes>"
      ]
     },
     "metadata": {},
     "output_type": "display_data"
    }
   ],
   "source": [
    "# Predict on the training set\n",
    "y_pred_train = model.predict({'input_ids': x_train['input_ids'], 'attention_mask': x_train['attention_mask']})\n",
    "y_pred_train = (y_pred_train > 0.5).astype(int)\n",
    "\n",
    "# Import necessary libraries\n",
    "from sklearn.metrics import accuracy_score, precision_score, recall_score, f1_score, confusion_matrix\n",
    "import seaborn as sns\n",
    "import matplotlib.pyplot as plt\n",
    "\n",
    "# Calculate accuracy\n",
    "train_accuracy = accuracy_score(y_train, y_pred_train)\n",
    "print(\"Training Accuracy:\", train_accuracy)\n",
    "\n",
    "# Calculate precision\n",
    "precision = precision_score(y_train, y_pred_train)\n",
    "print(\"Precision:\", precision)\n",
    "\n",
    "# Calculate recall\n",
    "recall = recall_score(y_train, y_pred_train)\n",
    "print(\"Recall:\", recall)\n",
    "\n",
    "# Calculate F1-score\n",
    "f1 = f1_score(y_train, y_pred_train)\n",
    "print(\"F1-score:\", f1)\n",
    "\n",
    "# Generate the confusion matrix\n",
    "conf_matrix = confusion_matrix(y_train, y_pred_train)\n",
    "\n",
    "# Plot the confusion matrix\n",
    "plt.figure(figsize=(8, 6))\n",
    "sns.heatmap(conf_matrix, annot=True, fmt='d', cmap='Blues')\n",
    "plt.xlabel('Predicted Labels')\n",
    "plt.ylabel('True Labels')\n",
    "plt.title('Confusion Matrix')\n",
    "plt.show()\n"
   ]
  },
  {
   "cell_type": "code",
   "execution_count": null,
   "metadata": {},
   "outputs": [],
   "source": []
  }
 ],
 "metadata": {
  "kaggle": {
   "accelerator": "none",
   "dataSources": [
    {
     "datasetId": 4984321,
     "sourceId": 8381549,
     "sourceType": "datasetVersion"
    }
   ],
   "dockerImageVersionId": 30646,
   "isGpuEnabled": false,
   "isInternetEnabled": true,
   "language": "python",
   "sourceType": "notebook"
  },
  "kernelspec": {
   "display_name": "Python 3 (ipykernel)",
   "language": "python",
   "name": "python3"
  },
  "language_info": {
   "codemirror_mode": {
    "name": "ipython",
    "version": 3
   },
   "file_extension": ".py",
   "mimetype": "text/x-python",
   "name": "python",
   "nbconvert_exporter": "python",
   "pygments_lexer": "ipython3",
   "version": "3.9.12"
  }
 },
 "nbformat": 4,
 "nbformat_minor": 4
}
